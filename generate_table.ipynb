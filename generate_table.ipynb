{
 "cells": [
  {
   "cell_type": "code",
   "execution_count": 1,
   "id": "c8857f09",
   "metadata": {},
   "outputs": [
    {
     "name": "stderr",
     "output_type": "stream",
     "text": [
      "/bmbl_data/huchen/sencell_data1/.venv/lib/python3.9/site-packages/tqdm/auto.py:21: TqdmWarning: IProgress not found. Please update jupyter and ipywidgets. See https://ipywidgets.readthedocs.io/en/stable/user_install.html\n",
      "  from .autonotebook import tqdm as notebook_tqdm\n"
     ]
    }
   ],
   "source": [
    "import torch\n",
    "import os\n",
    "import scanpy as sp\n",
    "import numpy as np\n",
    "import pandas as pd"
   ]
  },
  {
   "cell_type": "code",
   "execution_count": 2,
   "id": "74a686ce",
   "metadata": {},
   "outputs": [
    {
     "name": "stdout",
     "output_type": "stream",
     "text": [
      "load_data_newfix ...\n",
      "Number of cells: 24125\n",
      "Number of genes: 15844\n",
      "The number of cell types 32\n",
      "celltype names: ['Fibrotic fibroblast', 'AT2', 'EC Venous', 'EC Arterial', 'Dendritic cells', 'CD4+ T Cells', 'KRT5-/KRT17+ cells', 'EC General capillary', 'Monocyte-derived macrophage', 'CD8+ T Cells', 'Smooth muscle cells', 'Plasma cells', 'Ciliated', 'SPP1+ macrophages', 'MUC5B+ club', 'Alveolar fibroblasts', 'Alveolar macrophages', 'SCGB3A2+/SCGB1A1+ club', 'Monocyte', 'Mast cells', 'NK cells', 'Pericyte', 'Goblet', 'AT1', 'EC Lymphatic', 'B cells', 'Inflammatory fibroblasts', 'AT2 transitional', 'Peribronchial fibroblasts', 'Adventitial fibroblasts', 'Proliferating fibroblasts', 'Basal']\n",
      "---------------------------  ----\n",
      "Fibrotic fibroblast          2433\n",
      "AT2                          2195\n",
      "EC Venous                    2172\n",
      "EC Arterial                  1847\n",
      "Dendritic cells              1425\n",
      "CD4+ T Cells                 1211\n",
      "KRT5-/KRT17+ cells           1145\n",
      "EC General capillary          950\n",
      "Monocyte-derived macrophage   926\n",
      "CD8+ T Cells                  892\n",
      "Smooth muscle cells           863\n",
      "Plasma cells                  826\n",
      "Ciliated                      761\n",
      "SPP1+ macrophages             679\n",
      "MUC5B+ club                   660\n",
      "Alveolar fibroblasts          652\n",
      "Alveolar macrophages          544\n",
      "SCGB3A2+/SCGB1A1+ club        512\n",
      "Monocyte                      507\n",
      "Mast cells                    399\n",
      "NK cells                      392\n",
      "Pericyte                      362\n",
      "Goblet                        330\n",
      "AT1                           292\n",
      "EC Lymphatic                  248\n",
      "B cells                       206\n",
      "Inflammatory fibroblasts      175\n",
      "AT2 transitional              171\n",
      "Peribronchial fibroblasts     154\n",
      "Adventitial fibroblasts       128\n",
      "Proliferating fibroblasts      48\n",
      "Basal                          20\n",
      "---------------------------  ----\n",
      "各marker list所包含的gene数：\n",
      "  SenMayo    FRIDMAN    CellAge    Cell Cycle Markers\n",
      "---------  ---------  ---------  --------------------\n",
      "      125         77        144                    11\n",
      "Total marker genes:  320\n",
      "use all genes!\n",
      "After genes dropped duplicated sengenes:  15545\n",
      "Total gene num: 15844\n",
      "View of AnnData object with n_obs × n_vars = 24125 × 15844\n",
      "    obs: 'orig.ident', 'nCount_RNA', 'nFeature_RNA', 'percent.mt', 'Sample', 'Treatment', 'Injury', 'Status', 'Area', 'Type', 'Age', 'Age_Status', 'Sex', 'Treatment_Age_Status', 'Treatment_Age_Status_Sex', 'Treatment_Age_Status_Sex_Area', 'Names_Sample', 'Names_Age_Status', 'Names_Sample_Age_Status', 'nCount_SCT', 'nFeature_SCT', 'integrated_snn_res.0.2', 'seurat_clusters', 'integrated_snn_res.0.5', 'predicted.id', 'prediction.score.SCGB3A2..SCGB1A1..club', 'prediction.score.Plasma.cells', 'prediction.score.CD4..T.Cells', 'prediction.score.Goblet', 'prediction.score.B.cells', 'prediction.score.EC.Arterial', 'prediction.score.Smooth.muscle.cells', 'prediction.score.Ciliated', 'prediction.score.Proliferating.fibroblasts', 'prediction.score.AT2', 'prediction.score.SPP1..macrophages', 'prediction.score.Monocyte.derived.macrophage', 'prediction.score.Alveolar.fibroblasts', 'prediction.score.Mast.cells', 'prediction.score.Inflammatory.fibroblasts', 'prediction.score.AT1', 'prediction.score.Peribronchial.fibroblasts', 'prediction.score.CD8..T.Cells', 'prediction.score.Adventitial.fibroblasts', 'prediction.score.EC.Lymphatic', 'prediction.score.Subpleural.fibroblasts', 'prediction.score.Dendritic.cells', 'prediction.score.AT2.transitional', 'prediction.score.Monocyte', 'prediction.score.Basal', 'prediction.score.Pericyte', 'prediction.score.Fibrotic.fibroblast', 'prediction.score.Alveolar.macrophages', 'prediction.score.MUC5B..club', 'prediction.score.EC.Venous', 'prediction.score.NK.cells', 'prediction.score.EC.General.capillary', 'prediction.score.KRT5..KRT17..cells', 'prediction.score.max', 'predicted.id.score', 'clusters', 'n_genes'\n",
      "    var: 'n_cells'\n"
     ]
    }
   ],
   "source": [
    "import utils\n",
    "import argparse\n",
    "\n",
    "\n",
    "parser = argparse.ArgumentParser(description='Main program for sencells')\n",
    "\n",
    "parser.add_argument('--output_dir', type=str, default='./outputs', help='')\n",
    "parser.add_argument('--exp_name', type=str, default='data2', help='')\n",
    "parser.add_argument('--device_index', type=int, default=0, help='')\n",
    "parser.add_argument('--retrain', action='store_true', default=False, help='')\n",
    "parser.add_argument('--timestamp', type=str,  default=\"\", help='use default')\n",
    "\n",
    "parser.add_argument('--seed', type=int, default=40, help='different seed for different experiments')\n",
    "parser.add_argument('--n_genes', type=str, default='full', help='set 3000, 8000 or full')\n",
    "parser.add_argument('--ccc', type=str, default='type2', help='type1: cell-cell edge with weight in 0 and 1. type2: cell-cell edge with weight in 0 to 1. type3: no cell-cell edge')\n",
    "parser.add_argument('--gene_set', type=str, default='full', help='senmayo or fridman or cellage or goterm or goterm+fridman or senmayo+cellage or senmayo+fridman or senmayo+fridman+cellage or full')\n",
    "\n",
    "parser.add_argument('--gat_epoch', type=int, default=30, help='use default')\n",
    "\n",
    "\n",
    "# --------------------------------------------------------------------------------------------------- #\n",
    "# Write these code to fit our data input. This is for our @Yi, @Ahmed, and @Hu.\n",
    "parser.add_argument('--input_data_count', type=str, default=\"/bmbl_data/huchen/deepSAS_data/fixed_data_0525.h5ad\", help='it is a path to a adata object (.h5ad)')\n",
    "parser.add_argument('--input_data_CCC_file', type=str, default=\"\", help='it is a path to a CCC file (.csv or .npy)')\n",
    "# --------------------------------------------------------------------------------------------------- #\n",
    "\n",
    "\n",
    "# --------------------------------------------------------------------------------------------------- #\n",
    "# Subsampling argument for our following version. Please check this @Yi, @Ahmed, and @Hu.\n",
    "parser.add_argument('--subsampling', action='store_true', default=False, help='subsampling')\n",
    "# --------------------------------------------------------------------------------------------------- #\n",
    "\n",
    "\n",
    "# For @Hao\n",
    "# Hao: Just delete these 3 parameters.\n",
    "# --------------------------------------------------------------------------------------------------- #\n",
    "# is this sencell_num parameter not used? Please check this @Hao.\n",
    "parser.add_argument('--sencell_num', type=int, default=600, help='use default')\n",
    "# is this sengene_num parameter not used? Please check this @Hao.\n",
    "parser.add_argument('--sengene_num', type=int, default=200, help='use default')\n",
    "# is this sencell_epoch parameter not used? Please check this @Hao.\n",
    "parser.add_argument('--sencell_epoch', type=int, default=40, help='use default')\n",
    "# --------------------------------------------------------------------------------------------------- #\n",
    "\n",
    "\n",
    "\n",
    "\n",
    "parser.add_argument('--cell_optim_epoch', type=int, default=50, help='use default')\n",
    "\n",
    "\n",
    "# For @Hao\n",
    "# Hao: This is the emb size for GAT hidden embedding size\n",
    "# --------------------------------------------------------------------------------------------------- #\n",
    "# is this emb_size parameter for what, for GAT? is default 12? Please check this @Hao.\n",
    "parser.add_argument('--emb_size', type=int, default=12, help='use default')\n",
    "# --------------------------------------------------------------------------------------------------- #\n",
    "\n",
    "\n",
    "\n",
    "parser.add_argument('--batch_id', type=int, default=0, help='use default')\n",
    "\n",
    "args = parser.parse_args([])\n",
    "\n",
    "adata, cluster_cell_ls, cell_cluster_arr, celltype_names = utils.load_data_newfix()\n",
    "\n",
    "new_data, markers_index,\\\n",
    "    sen_gene_ls, nonsen_gene_ls, gene_names = utils.process_data(\n",
    "        adata, cluster_cell_ls, cell_cluster_arr,args)\n",
    "print(new_data)"
   ]
  },
  {
   "cell_type": "code",
   "execution_count": 3,
   "id": "6f433c06",
   "metadata": {},
   "outputs": [
    {
     "data": {
      "text/plain": [
       "View of AnnData object with n_obs × n_vars = 24125 × 15844\n",
       "    obs: 'orig.ident', 'nCount_RNA', 'nFeature_RNA', 'percent.mt', 'Sample', 'Treatment', 'Injury', 'Status', 'Area', 'Type', 'Age', 'Age_Status', 'Sex', 'Treatment_Age_Status', 'Treatment_Age_Status_Sex', 'Treatment_Age_Status_Sex_Area', 'Names_Sample', 'Names_Age_Status', 'Names_Sample_Age_Status', 'nCount_SCT', 'nFeature_SCT', 'integrated_snn_res.0.2', 'seurat_clusters', 'integrated_snn_res.0.5', 'predicted.id', 'prediction.score.SCGB3A2..SCGB1A1..club', 'prediction.score.Plasma.cells', 'prediction.score.CD4..T.Cells', 'prediction.score.Goblet', 'prediction.score.B.cells', 'prediction.score.EC.Arterial', 'prediction.score.Smooth.muscle.cells', 'prediction.score.Ciliated', 'prediction.score.Proliferating.fibroblasts', 'prediction.score.AT2', 'prediction.score.SPP1..macrophages', 'prediction.score.Monocyte.derived.macrophage', 'prediction.score.Alveolar.fibroblasts', 'prediction.score.Mast.cells', 'prediction.score.Inflammatory.fibroblasts', 'prediction.score.AT1', 'prediction.score.Peribronchial.fibroblasts', 'prediction.score.CD8..T.Cells', 'prediction.score.Adventitial.fibroblasts', 'prediction.score.EC.Lymphatic', 'prediction.score.Subpleural.fibroblasts', 'prediction.score.Dendritic.cells', 'prediction.score.AT2.transitional', 'prediction.score.Monocyte', 'prediction.score.Basal', 'prediction.score.Pericyte', 'prediction.score.Fibrotic.fibroblast', 'prediction.score.Alveolar.macrophages', 'prediction.score.MUC5B..club', 'prediction.score.EC.Venous', 'prediction.score.NK.cells', 'prediction.score.EC.General.capillary', 'prediction.score.KRT5..KRT17..cells', 'prediction.score.max', 'predicted.id.score', 'clusters', 'n_genes'\n",
       "    var: 'n_cells'"
      ]
     },
     "execution_count": 3,
     "metadata": {},
     "output_type": "execute_result"
    }
   ],
   "source": [
    "new_data"
   ]
  },
  {
   "cell_type": "code",
   "execution_count": 4,
   "id": "ef8d8b36",
   "metadata": {},
   "outputs": [],
   "source": [
    "pd.DataFrame(adata.obs['clusters'].value_counts()).to_csv(\"cell_types.csv\")"
   ]
  },
  {
   "cell_type": "code",
   "execution_count": 5,
   "id": "17471e07",
   "metadata": {},
   "outputs": [
    {
     "name": "stdout",
     "output_type": "stream",
     "text": [
      "Number of SnCs: 777\n",
      "Number of SnGs: 299\n"
     ]
    }
   ],
   "source": [
    "file_path = \"/bmbl_data/huchen/sencell_data1/outputs/data1/data1_sencellgene-epoch4.data\"\n",
    "\n",
    "# Load the saved object\n",
    "loaded_data = torch.load(file_path)\n",
    "\n",
    "# Unpack the loaded data\n",
    "sencell_dict, sen_gene_ls, attention_scores, edge_index_selfloop = loaded_data\n",
    "\n",
    "print(f\"Number of SnCs: {len(sencell_dict.keys())}\")\n",
    "print(f\"Number of SnGs: {len(sen_gene_ls)}\")"
   ]
  },
  {
   "cell_type": "code",
   "execution_count": 6,
   "id": "032f3771",
   "metadata": {},
   "outputs": [],
   "source": [
    "selected_ct=['Fibrotic fibroblast',\n",
    "    'EC Venous',\n",
    "    'CD4+ T Cells',\n",
    "    'Plasma cells',\n",
    "    'AT2',\n",
    "    'Smooth muscle cells',\n",
    "    'EC General capillary',\n",
    "    'Dendritic cells']"
   ]
  },
  {
   "cell_type": "code",
   "execution_count": 7,
   "id": "2835901e",
   "metadata": {},
   "outputs": [
    {
     "data": {
      "text/plain": [
       "tensor([15738, 15733, 15829, 15776, 15794, 15772, 15770, 15727, 15836, 15630,\n",
       "        15721, 15724, 15722, 15745, 15731, 15819, 15801, 15632, 15755, 15703,\n",
       "        15652, 15824, 15825, 15830, 15756, 15807, 15611, 15695, 15635, 15560,\n",
       "        15725, 15768, 15571, 15634, 15558, 15545, 15561, 15708, 15806, 15586,\n",
       "        15811, 15577, 15773, 15741, 15736, 15596, 15600, 15602, 15690, 15781,\n",
       "        15597, 15580, 15609, 15633, 15815, 15711, 15735, 15792, 15805, 15624,\n",
       "        15598, 15588, 15729, 15693, 15716, 15752, 15715, 15655, 15714, 15786,\n",
       "        15618, 15804, 15751, 15706, 15653, 15814, 15812, 15710, 15764, 15769,\n",
       "        15709, 15604, 15548, 15739, 15835, 15707, 15663, 15763, 15649, 15657,\n",
       "        15810, 15659, 15757, 15799, 15628, 15616, 15728, 15808, 15782, 15667,\n",
       "        15778, 15648, 15700, 15620, 15656, 15831, 15639, 15647, 15559, 15798,\n",
       "        15818, 15843, 15546, 15702, 15701, 15625, 15771, 15783, 15692, 15839,\n",
       "        15754, 15593, 15565, 15670, 15640, 15617, 15726, 15760, 15687, 15713,\n",
       "        15605, 15795, 15747, 15644, 15750, 15682, 15587, 15601, 15643, 15594,\n",
       "        15691, 15614, 15622, 15612, 15762, 15645, 15585, 15743, 15677, 15638,\n",
       "        15698, 15793, 15796, 15790, 15654, 15555, 15646, 15564, 15554, 15592,\n",
       "        15576, 15566, 15689, 15549, 15744, 15788, 15666, 15547, 15809, 15837,\n",
       "        15813, 15833, 15749, 15661, 15671, 15636, 15765, 15590, 15607, 15552,\n",
       "        15737, 15740, 15753, 15758, 15827, 15823, 15823, 15742, 15841, 15759,\n",
       "        15684, 15668, 15685, 14172, 15551, 15553, 15574, 15802, 15556, 15732,\n",
       "        15613, 15787, 15608, 15568, 15821, 15658, 15676, 15621, 15615, 15705,\n",
       "        15673, 15832, 15579, 15569, 15723, 15797, 15766, 15761, 15748, 15573,\n",
       "        15816, 15610, 15563, 15572, 15767, 15834, 15826, 15603, 15627, 15678,\n",
       "        15595, 15629, 15817, 15619, 15591, 15665, 15665, 15791, 15637,  6530,\n",
       "        15570,  6969, 15623, 15803, 15686, 15730, 15775, 15719, 15694, 15448,\n",
       "        15697,  1743, 15784, 15718,  3552, 15680, 15680, 15680,  1856,  1856,\n",
       "        13606,  1006,  1006, 11978,   190,  7056,  7056,  9025,  3399,  8205,\n",
       "        14727, 15712, 15712, 15712,  6282,  9272,   547,  2515,  2515,  2515,\n",
       "         2440,  2440,  2440,  6993,  6993,  5986,  5986,  5986, 10304,  5819,\n",
       "        10304,  5986,  6993,  2440,  2515,   547,  1478, 11445, 14275])"
      ]
     },
     "execution_count": 7,
     "metadata": {},
     "output_type": "execute_result"
    }
   ],
   "source": [
    "sen_gene_ls"
   ]
  },
  {
   "cell_type": "code",
   "execution_count": 8,
   "id": "0ad975f7",
   "metadata": {},
   "outputs": [],
   "source": [
    "sen_gene_ls\n",
    "\n",
    "filtered_gene_names = []\n",
    "for gene_idx in sen_gene_ls:\n",
    "    gene_idx = gene_idx.item()\n",
    "    filtered_gene_names.append(new_data.var.index[gene_idx])\n",
    "gene_idx2names = {'gene_idx': sen_gene_ls, 'gene_name': filtered_gene_names}\n",
    "gene_idx2names_df = pd.DataFrame(gene_idx2names)\n",
    "gene_idx2names_df.to_csv(\"predict_sene_makrers.csv\", index=False)"
   ]
  },
  {
   "cell_type": "code",
   "execution_count": 9,
   "id": "299b3284",
   "metadata": {},
   "outputs": [
    {
     "data": {
      "text/html": [
       "<div>\n",
       "<style scoped>\n",
       "    .dataframe tbody tr th:only-of-type {\n",
       "        vertical-align: middle;\n",
       "    }\n",
       "\n",
       "    .dataframe tbody tr th {\n",
       "        vertical-align: top;\n",
       "    }\n",
       "\n",
       "    .dataframe thead th {\n",
       "        text-align: right;\n",
       "    }\n",
       "</style>\n",
       "<table border=\"1\" class=\"dataframe\">\n",
       "  <thead>\n",
       "    <tr style=\"text-align: right;\">\n",
       "      <th></th>\n",
       "      <th>gene_idx</th>\n",
       "      <th>gene_name</th>\n",
       "    </tr>\n",
       "  </thead>\n",
       "  <tbody>\n",
       "    <tr>\n",
       "      <th>0</th>\n",
       "      <td>15738</td>\n",
       "      <td>OPTN</td>\n",
       "    </tr>\n",
       "    <tr>\n",
       "      <th>1</th>\n",
       "      <td>15733</td>\n",
       "      <td>NEK6</td>\n",
       "    </tr>\n",
       "    <tr>\n",
       "      <th>2</th>\n",
       "      <td>15829</td>\n",
       "      <td>TNFRSF1B</td>\n",
       "    </tr>\n",
       "    <tr>\n",
       "      <th>3</th>\n",
       "      <td>15776</td>\n",
       "      <td>RGL2</td>\n",
       "    </tr>\n",
       "    <tr>\n",
       "      <th>4</th>\n",
       "      <td>15794</td>\n",
       "      <td>SMURF2</td>\n",
       "    </tr>\n",
       "    <tr>\n",
       "      <th>...</th>\n",
       "      <td>...</td>\n",
       "      <td>...</td>\n",
       "    </tr>\n",
       "    <tr>\n",
       "      <th>294</th>\n",
       "      <td>2515</td>\n",
       "      <td>CERS1</td>\n",
       "    </tr>\n",
       "    <tr>\n",
       "      <th>295</th>\n",
       "      <td>547</td>\n",
       "      <td>ALX4</td>\n",
       "    </tr>\n",
       "    <tr>\n",
       "      <th>296</th>\n",
       "      <td>1478</td>\n",
       "      <td>BRSK2</td>\n",
       "    </tr>\n",
       "    <tr>\n",
       "      <th>297</th>\n",
       "      <td>11445</td>\n",
       "      <td>SCYGR8</td>\n",
       "    </tr>\n",
       "    <tr>\n",
       "      <th>298</th>\n",
       "      <td>14275</td>\n",
       "      <td>UGT2A1</td>\n",
       "    </tr>\n",
       "  </tbody>\n",
       "</table>\n",
       "<p>299 rows × 2 columns</p>\n",
       "</div>"
      ],
      "text/plain": [
       "     gene_idx gene_name\n",
       "0       15738      OPTN\n",
       "1       15733      NEK6\n",
       "2       15829  TNFRSF1B\n",
       "3       15776      RGL2\n",
       "4       15794    SMURF2\n",
       "..        ...       ...\n",
       "294      2515     CERS1\n",
       "295       547      ALX4\n",
       "296      1478     BRSK2\n",
       "297     11445    SCYGR8\n",
       "298     14275    UGT2A1\n",
       "\n",
       "[299 rows x 2 columns]"
      ]
     },
     "execution_count": 9,
     "metadata": {},
     "output_type": "execute_result"
    }
   ],
   "source": [
    "gene_idx2names_df"
   ]
  },
  {
   "cell_type": "code",
   "execution_count": 10,
   "id": "5dedb288",
   "metadata": {},
   "outputs": [
    {
     "data": {
      "text/html": [
       "<div>\n",
       "<style scoped>\n",
       "    .dataframe tbody tr th:only-of-type {\n",
       "        vertical-align: middle;\n",
       "    }\n",
       "\n",
       "    .dataframe tbody tr th {\n",
       "        vertical-align: top;\n",
       "    }\n",
       "\n",
       "    .dataframe thead th {\n",
       "        text-align: right;\n",
       "    }\n",
       "</style>\n",
       "<table border=\"1\" class=\"dataframe\">\n",
       "  <thead>\n",
       "    <tr style=\"text-align: right;\">\n",
       "      <th></th>\n",
       "      <th>gene_idx</th>\n",
       "      <th>gene_name</th>\n",
       "    </tr>\n",
       "  </thead>\n",
       "  <tbody>\n",
       "    <tr>\n",
       "      <th>0</th>\n",
       "      <td>15545</td>\n",
       "      <td>AAK1</td>\n",
       "    </tr>\n",
       "    <tr>\n",
       "      <th>1</th>\n",
       "      <td>15546</td>\n",
       "      <td>ABI3</td>\n",
       "    </tr>\n",
       "    <tr>\n",
       "      <th>2</th>\n",
       "      <td>15547</td>\n",
       "      <td>ACLY</td>\n",
       "    </tr>\n",
       "    <tr>\n",
       "      <th>3</th>\n",
       "      <td>15548</td>\n",
       "      <td>ACVR1B</td>\n",
       "    </tr>\n",
       "    <tr>\n",
       "      <th>4</th>\n",
       "      <td>15549</td>\n",
       "      <td>ADCK5</td>\n",
       "    </tr>\n",
       "    <tr>\n",
       "      <th>...</th>\n",
       "      <td>...</td>\n",
       "      <td>...</td>\n",
       "    </tr>\n",
       "    <tr>\n",
       "      <th>294</th>\n",
       "      <td>15839</td>\n",
       "      <td>VEGFC</td>\n",
       "    </tr>\n",
       "    <tr>\n",
       "      <th>295</th>\n",
       "      <td>15840</td>\n",
       "      <td>VIM</td>\n",
       "    </tr>\n",
       "    <tr>\n",
       "      <th>296</th>\n",
       "      <td>15841</td>\n",
       "      <td>WNT2</td>\n",
       "    </tr>\n",
       "    <tr>\n",
       "      <th>297</th>\n",
       "      <td>15842</td>\n",
       "      <td>ZFP36</td>\n",
       "    </tr>\n",
       "    <tr>\n",
       "      <th>298</th>\n",
       "      <td>15843</td>\n",
       "      <td>ZNF148</td>\n",
       "    </tr>\n",
       "  </tbody>\n",
       "</table>\n",
       "<p>299 rows × 2 columns</p>\n",
       "</div>"
      ],
      "text/plain": [
       "     gene_idx gene_name\n",
       "0       15545      AAK1\n",
       "1       15546      ABI3\n",
       "2       15547      ACLY\n",
       "3       15548    ACVR1B\n",
       "4       15549     ADCK5\n",
       "..        ...       ...\n",
       "294     15839     VEGFC\n",
       "295     15840       VIM\n",
       "296     15841      WNT2\n",
       "297     15842     ZFP36\n",
       "298     15843    ZNF148\n",
       "\n",
       "[299 rows x 2 columns]"
      ]
     },
     "execution_count": 10,
     "metadata": {},
     "output_type": "execute_result"
    }
   ],
   "source": [
    "inital_masker = pd.read_csv(\"initial_sene_markers.csv\")\n",
    "inital_masker"
   ]
  },
  {
   "cell_type": "markdown",
   "id": "52686a03",
   "metadata": {},
   "source": [
    "Intersection between original senescent marker genes and output senescent marker genes"
   ]
  },
  {
   "cell_type": "code",
   "execution_count": 11,
   "id": "34d58fa1",
   "metadata": {},
   "outputs": [
    {
     "data": {
      "text/plain": [
       "['SCYGR8',\n",
       " 'UBASH3A',\n",
       " 'ASCL1',\n",
       " 'XKR4',\n",
       " 'UGT2A1',\n",
       " 'SLC2A2',\n",
       " 'BRSK2',\n",
       " 'OR2G6',\n",
       " 'TMPRSS11E',\n",
       " 'DACH2',\n",
       " 'MYCNOS',\n",
       " 'HEPN1',\n",
       " 'DEFB4B',\n",
       " 'PRSS51',\n",
       " 'ACSM6',\n",
       " 'CELA1',\n",
       " 'ALX4',\n",
       " 'IL1RAPL1',\n",
       " 'LAMB4',\n",
       " 'ZNF80',\n",
       " 'HOXA11',\n",
       " 'CALCA',\n",
       " 'CERS1',\n",
       " 'L1CAM',\n",
       " 'C4orf50',\n",
       " 'LDHAL6A',\n",
       " 'PBOV1',\n",
       " 'JAKMIP1']"
      ]
     },
     "execution_count": 11,
     "metadata": {},
     "output_type": "execute_result"
    }
   ],
   "source": [
    "predict_sens_list = list(set(gene_idx2names_df['gene_name']).difference(set(inital_masker['gene_name'])))\n",
    "predict_sens_list"
   ]
  },
  {
   "cell_type": "code",
   "execution_count": 12,
   "id": "16488fd3",
   "metadata": {},
   "outputs": [
    {
     "name": "stdout",
     "output_type": "stream",
     "text": [
      "AT2, Number of SnCs: 117\n"
     ]
    },
    {
     "name": "stderr",
     "output_type": "stream",
     "text": [
      "/bmbl_data/huchen/sencell_data1/.venv/lib/python3.9/site-packages/scanpy/tools/_rank_genes_groups.py:580: ImplicitModificationWarning: Trying to modify attribute `._uns` of view, initializing view as actual.\n",
      "  adata.uns[key_added] = {}\n",
      "/bmbl_data/huchen/sencell_data1/.venv/lib/python3.9/site-packages/scanpy/tools/_rank_genes_groups.py:420: RuntimeWarning: invalid value encountered in log2\n",
      "  self.stats[group_name, 'logfoldchanges'] = np.log2(\n",
      "/bmbl_data/huchen/sencell_data1/.venv/lib/python3.9/site-packages/scanpy/tools/_rank_genes_groups.py:580: ImplicitModificationWarning: Trying to modify attribute `._uns` of view, initializing view as actual.\n",
      "  adata.uns[key_added] = {}\n"
     ]
    },
    {
     "name": "stdout",
     "output_type": "stream",
     "text": [
      "Get 15844 degs!\n",
      "Plasma cells, Number of SnCs: 20\n"
     ]
    },
    {
     "name": "stderr",
     "output_type": "stream",
     "text": [
      "/bmbl_data/huchen/sencell_data1/.venv/lib/python3.9/site-packages/scanpy/tools/_rank_genes_groups.py:420: RuntimeWarning: invalid value encountered in log2\n",
      "  self.stats[group_name, 'logfoldchanges'] = np.log2(\n",
      "/bmbl_data/huchen/sencell_data1/.venv/lib/python3.9/site-packages/scanpy/tools/_rank_genes_groups.py:580: ImplicitModificationWarning: Trying to modify attribute `._uns` of view, initializing view as actual.\n",
      "  adata.uns[key_added] = {}\n"
     ]
    },
    {
     "name": "stdout",
     "output_type": "stream",
     "text": [
      "Get 15844 degs!\n",
      "CD4+ T Cells, Number of SnCs: 73\n"
     ]
    },
    {
     "name": "stderr",
     "output_type": "stream",
     "text": [
      "/bmbl_data/huchen/sencell_data1/.venv/lib/python3.9/site-packages/scanpy/tools/_rank_genes_groups.py:420: RuntimeWarning: invalid value encountered in log2\n",
      "  self.stats[group_name, 'logfoldchanges'] = np.log2(\n",
      "/bmbl_data/huchen/sencell_data1/.venv/lib/python3.9/site-packages/scanpy/tools/_rank_genes_groups.py:580: ImplicitModificationWarning: Trying to modify attribute `._uns` of view, initializing view as actual.\n",
      "  adata.uns[key_added] = {}\n"
     ]
    },
    {
     "name": "stdout",
     "output_type": "stream",
     "text": [
      "Get 15844 degs!\n",
      "Smooth muscle cells, Number of SnCs: 22\n"
     ]
    },
    {
     "name": "stderr",
     "output_type": "stream",
     "text": [
      "/bmbl_data/huchen/sencell_data1/.venv/lib/python3.9/site-packages/scanpy/tools/_rank_genes_groups.py:420: RuntimeWarning: invalid value encountered in log2\n",
      "  self.stats[group_name, 'logfoldchanges'] = np.log2(\n",
      "/bmbl_data/huchen/sencell_data1/.venv/lib/python3.9/site-packages/scanpy/tools/_rank_genes_groups.py:580: ImplicitModificationWarning: Trying to modify attribute `._uns` of view, initializing view as actual.\n",
      "  adata.uns[key_added] = {}\n"
     ]
    },
    {
     "name": "stdout",
     "output_type": "stream",
     "text": [
      "Get 15844 degs!\n",
      "Dendritic cells, Number of SnCs: 30\n"
     ]
    },
    {
     "name": "stderr",
     "output_type": "stream",
     "text": [
      "/bmbl_data/huchen/sencell_data1/.venv/lib/python3.9/site-packages/scanpy/tools/_rank_genes_groups.py:420: RuntimeWarning: invalid value encountered in log2\n",
      "  self.stats[group_name, 'logfoldchanges'] = np.log2(\n",
      "/bmbl_data/huchen/sencell_data1/.venv/lib/python3.9/site-packages/scanpy/tools/_rank_genes_groups.py:580: ImplicitModificationWarning: Trying to modify attribute `._uns` of view, initializing view as actual.\n",
      "  adata.uns[key_added] = {}\n"
     ]
    },
    {
     "name": "stdout",
     "output_type": "stream",
     "text": [
      "Get 15844 degs!\n",
      "Fibrotic fibroblast, Number of SnCs: 123\n"
     ]
    },
    {
     "name": "stderr",
     "output_type": "stream",
     "text": [
      "/bmbl_data/huchen/sencell_data1/.venv/lib/python3.9/site-packages/scanpy/tools/_rank_genes_groups.py:420: RuntimeWarning: invalid value encountered in log2\n",
      "  self.stats[group_name, 'logfoldchanges'] = np.log2(\n",
      "/bmbl_data/huchen/sencell_data1/.venv/lib/python3.9/site-packages/scanpy/tools/_rank_genes_groups.py:580: ImplicitModificationWarning: Trying to modify attribute `._uns` of view, initializing view as actual.\n",
      "  adata.uns[key_added] = {}\n"
     ]
    },
    {
     "name": "stdout",
     "output_type": "stream",
     "text": [
      "Get 15844 degs!\n",
      "EC Venous, Number of SnCs: 50\n"
     ]
    },
    {
     "name": "stderr",
     "output_type": "stream",
     "text": [
      "/bmbl_data/huchen/sencell_data1/.venv/lib/python3.9/site-packages/scanpy/tools/_rank_genes_groups.py:420: RuntimeWarning: invalid value encountered in log2\n",
      "  self.stats[group_name, 'logfoldchanges'] = np.log2(\n",
      "/bmbl_data/huchen/sencell_data1/.venv/lib/python3.9/site-packages/scanpy/tools/_rank_genes_groups.py:580: ImplicitModificationWarning: Trying to modify attribute `._uns` of view, initializing view as actual.\n",
      "  adata.uns[key_added] = {}\n"
     ]
    },
    {
     "name": "stdout",
     "output_type": "stream",
     "text": [
      "Get 15844 degs!\n",
      "EC General capillary, Number of SnCs: 22\n",
      "Get 15844 degs!\n"
     ]
    },
    {
     "name": "stderr",
     "output_type": "stream",
     "text": [
      "/bmbl_data/huchen/sencell_data1/.venv/lib/python3.9/site-packages/scanpy/tools/_rank_genes_groups.py:420: RuntimeWarning: invalid value encountered in log2\n",
      "  self.stats[group_name, 'logfoldchanges'] = np.log2(\n"
     ]
    }
   ],
   "source": [
    "def identify_sengene_v2(new_data,\n",
    "                        sencell_dict):\n",
    "    # prepare adata for deg\n",
    "    adata_deg=new_data.copy()\n",
    "    sp.pp.normalize_total(adata_deg, target_sum=1e4)\n",
    "    sp.pp.log1p(adata_deg)\n",
    "    sp.pp.scale(adata_deg)\n",
    "\n",
    "    # selected_ct=['Fibrotic fibroblast',\n",
    "    #   'EC Venous',\n",
    "    #   'CD4+ T Cells',\n",
    "    #   'Plasma cells',\n",
    "    #   'AT2',\n",
    "    #   'Smooth muscle cells',\n",
    "    #   'EC General capillary',\n",
    "    #   'Dendritic cells']\n",
    "    # No Smooth muscle cells detected in sencell_dict\n",
    "\n",
    "\n",
    "    sencell_indexs=list(sencell_dict.keys())\n",
    "    \n",
    "    # Cell index where ct in select_ct\n",
    "    sencell_indexs_updated=[]\n",
    "    for i in sencell_indexs:\n",
    "        ct=adata_deg.obs.iloc[i-adata_deg.shape[1]].clusters\n",
    "        if ct in selected_ct:\n",
    "            sencell_indexs_updated.append(i)\n",
    "            \n",
    "    sencell_indexs=sencell_indexs_updated\n",
    "    \n",
    "    # create SnC column\n",
    "    # NOTE: is_sen: normal / SnC\n",
    "    row_indices= np.array(sencell_indexs)-new_data.shape[1]\n",
    "    new_column = np.array(['normal']*new_data.shape[0])\n",
    "    new_column[row_indices] = 'SnC'\n",
    "    adata_deg.obs['is_sen'] = new_column\n",
    "    adata_deg.obs['is_sen']=adata_deg.obs['is_sen'].astype(str).astype('category')\n",
    "    # Verify the result\n",
    "    # print(adata_deg.obs['is_sen'])\n",
    "    \n",
    "    cell_types = adata_deg.obs['clusters'].unique()\n",
    "    \n",
    "    all_genes_names=list(new_data.var.index)\n",
    "    results_genes=[]\n",
    "    deg_results={}\n",
    "    deg_results_full={}\n",
    "    \n",
    "    for cell_type in cell_types:\n",
    "        adata_deg_sub=adata_deg[adata_deg.obs['clusters']==cell_type]\n",
    "        if 'SnC' in adata_deg_sub.obs['is_sen'].values:\n",
    "            value_counts = adata_deg_sub.obs['is_sen'].value_counts()\n",
    "            # 只考虑老化细胞数大于5的cell type\n",
    "            if value_counts['SnC']<=5:\n",
    "                continue\n",
    "            print(f\"{cell_type}, Number of SnCs: {value_counts['SnC']}\")    \n",
    "            sp.tl.rank_genes_groups(adata_deg_sub, groupby='is_sen', groups=['SnC'], \n",
    "                                    reference='normal', method='wilcoxon')\n",
    "\n",
    "            # Extract the results into a DataFrame\n",
    "            degs = pd.DataFrame({\n",
    "                'gene': adata_deg_sub.uns['rank_genes_groups']['names']['SnC'],\n",
    "                'p_val': adata_deg_sub.uns['rank_genes_groups']['pvals']['SnC'],\n",
    "                'logFC': adata_deg_sub.uns['rank_genes_groups']['logfoldchanges']['SnC'],\n",
    "                'p_val_adj': adata_deg_sub.uns['rank_genes_groups']['pvals_adj']['SnC']\n",
    "            })\n",
    "            \n",
    "            degs=degs.sort_values(by='logFC')\n",
    "            degs['prediction'] = degs['gene'].isin(predict_sens_list).astype(int)\n",
    "            subdegs = degs[degs['prediction'] == 1]\n",
    "            save_ct_name = cell_type.replace(' ', '_')\n",
    "            degs.to_csv(f\"outputs/DEG_res/{save_ct_name}_DEG_results.csv\", index=False)\n",
    "            subdegs.to_csv(f\"outputs/DEG_res/{save_ct_name}_sub_DEG_results.csv\", index=False)\n",
    "            deg_results_full[cell_type]=degs\n",
    "            num=len(degs)\n",
    "            print(f'Get {num} degs!')\n",
    "    return adata_deg, sencell_indexs, deg_results_full\n",
    "\n",
    "\n",
    "adata_deg, sencell_index_in_deg, deg_results_full=identify_sengene_v2(new_data,\n",
    "                        sencell_dict)"
   ]
  },
  {
   "cell_type": "code",
   "execution_count": 15,
   "id": "ee093321",
   "metadata": {},
   "outputs": [],
   "source": [
    "# new_data=sp.read_h5ad()#####your h5ad file\n",
    "#adata, cluster_cell_ls, cell_cluster_arr, celltype_names = utils.load_data_newfix(args.input_data_count)\n",
    "gene_cell = new_data.X.toarray().T\n",
    "\n",
    "    ####build dict for each sncs for each cell type\n",
    "sencell_indexs=list(sencell_dict.keys())\n",
    "ct_sencell_indexs={}\n",
    "row_numbers=np.array(sencell_indexs)-new_data.shape[1]\n",
    "\n",
    "for i in row_numbers:\n",
    "    ct_=new_data.obs.iloc[i]['clusters']\n",
    "    if ct_ in selected_ct:\n",
    "        if ct_ in ct_sencell_indexs:\n",
    "            ct_sencell_indexs[ct_].append(i+new_data.shape[1])\n",
    "        else:\n",
    "            ct_sencell_indexs[ct_]=[i+new_data.shape[1]]"
   ]
  },
  {
   "cell_type": "code",
   "execution_count": 16,
   "id": "6908c1b3",
   "metadata": {},
   "outputs": [
    {
     "data": {
      "text/plain": [
       "8"
      ]
     },
     "execution_count": 16,
     "metadata": {},
     "output_type": "execute_result"
    }
   ],
   "source": [
    "len(ct_sencell_indexs.keys())"
   ]
  },
  {
   "cell_type": "code",
   "execution_count": 25,
   "id": "9cb1c3c2-4207-4bef-bc5f-5dc7e3b82786",
   "metadata": {},
   "outputs": [],
   "source": [
    "def identify_sengene_v1(sencell_dict,gene_cell,edge_index_selfloop,attention_scores,\n",
    "                        sen_gene_ls,ct_sencell_indexs):\n",
    "    attention_scores=attention_scores.detach().to('cpu')\n",
    "    edge_index_selfloop=edge_index_selfloop.detach().to('cpu')\n",
    "\n",
    " \n",
    "    num_genes = gene_cell.shape[0]\n",
    "    num_cells = gene_cell.shape[1]\n",
    "    cell_mask_template = torch.zeros(num_genes + num_cells, dtype=torch.bool)\n",
    "\n",
    "    # NOTE: gene_scores for each gene, actually only for sen_gen_ls is enough\n",
    "    # return gene_scores\n",
    "    gene_scores=[]\n",
    "    for gene_index in range(num_genes):\n",
    "        if gene_index in sen_gene_ls:\n",
    "            # 保存一个基因在8个ct的snc上的score\n",
    "            ct_scores=[]  \n",
    "            for key,value in ct_sencell_indexs.items():\n",
    "            \n",
    "                cell_index=value\n",
    "                cell_index=torch.tensor(cell_index)\n",
    "                \n",
    "                cell_mask = cell_mask_template.clone()\n",
    "                cell_mask[cell_index] = True\n",
    "                \n",
    "                connected_cells=edge_index_selfloop[0][edge_index_selfloop[1] == gene_index]\n",
    "                \n",
    "                if len(connected_cells[cell_mask[connected_cells]])==0:\n",
    "                    ct_scores.append(torch.tensor(0))\n",
    "                    # print(f'no sencell in this gene {gene_index}')\n",
    "                else:\n",
    "                    # print('caculate attention')\n",
    "                    tmp=attention_scores[edge_index_selfloop[1] == gene_index]\n",
    "                    attention_edge=torch.sum(tmp[cell_mask[connected_cells]],axis=1)\n",
    "                    cell_mask_normal=~cell_mask\n",
    "                    attention_edge_normal=torch.sum(attention_scores[edge_index_selfloop[1] == gene_index][cell_mask_normal[connected_cells]],axis=1)\n",
    "                #     #print(cell_mask,cell_mask_normal)\n",
    "                #     # print(attention_edge,attention_edge_normal)\n",
    "                    attention_s=torch.mean(attention_edge)\n",
    "                    attention_normal=torch.mean(attention_edge_normal)\n",
    "                    \n",
    "                    attention_s=attention_s-attention_normal\n",
    "                #     # print(attention_s)\n",
    "                #     # ct_scores[key] = attention_s.item()\n",
    "                    ct_scores.append(attention_s)\n",
    "        # 只计算老化基因还是对所有基因\n",
    "        # if gene_index in sen_gene_ls:\n",
    "        #     # print(\"sng:\",attention_s)\n",
    "            gene_scores.append(ct_scores)\n",
    "        else:\n",
    "            gene_scores.append([torch.tensor(0)] * 8)\n",
    "\n",
    "        \n",
    "    return gene_scores\n",
    "\n",
    "gene_scores=identify_sengene_v1(\n",
    "        sencell_dict,new_data.X.T,edge_index_selfloop,attention_scores,sen_gene_ls,ct_sencell_indexs)"
   ]
  },
  {
   "cell_type": "code",
   "execution_count": 26,
   "id": "97f5c5f6",
   "metadata": {},
   "outputs": [],
   "source": [
    "gene_scores=torch.tensor(gene_scores)\n",
    "filtered_gene_scores=[]\n",
    "filtered_gene_names=[]\n",
    "for i in range(gene_scores.shape[0]):\n",
    "    if torch.sum(gene_scores[i])!=0:\n",
    "        filtered_gene_names.append(new_data.var.index[i])\n",
    "        filtered_gene_scores.append(gene_scores[i])"
   ]
  },
  {
   "cell_type": "code",
   "execution_count": 27,
   "id": "0577d327",
   "metadata": {},
   "outputs": [],
   "source": [
    "filtered_gene_scores=torch.stack(filtered_gene_scores)"
   ]
  },
  {
   "cell_type": "code",
   "execution_count": 29,
   "id": "6bc9398b",
   "metadata": {},
   "outputs": [
    {
     "data": {
      "text/plain": [
       "torch.Size([270, 8])"
      ]
     },
     "execution_count": 29,
     "metadata": {},
     "output_type": "execute_result"
    }
   ],
   "source": [
    "filtered_gene_scores.shape"
   ]
  },
  {
   "cell_type": "code",
   "execution_count": 30,
   "id": "ee94c3f3",
   "metadata": {},
   "outputs": [
    {
     "name": "stdout",
     "output_type": "stream",
     "text": [
      "AT2 11\n",
      "CD4+ T Cells 5\n",
      "Dendritic cells 1\n",
      "Fibrotic fibroblast 15\n",
      "Smooth muscle cells 4\n",
      "EC Venous 9\n",
      "Plasma cells 1\n",
      "EC General capillary 8\n"
     ]
    }
   ],
   "source": [
    "def calculate_outliers(scores):\n",
    "    counts=0\n",
    "    snc_index=[]\n",
    "\n",
    "    scores_ls=[]\n",
    "    \n",
    "    Q1 = np.percentile(scores, 25)\n",
    "    Q3 = np.percentile(scores, 75)\n",
    "    IQR = Q3 - Q1\n",
    "    lower_bound = Q1 - 1.5 * IQR\n",
    "    upper_bound = Q3 + 1.5 * IQR\n",
    "    \n",
    "    for i,score in enumerate(scores): \n",
    "        if score > upper_bound:\n",
    "            counts+=1\n",
    "            snc_index.append(i)\n",
    "            scores_ls.append(score)\n",
    "    \n",
    "    return counts,snc_index,scores_ls\n",
    "\n",
    "gene_deepsas={}\n",
    "\n",
    "gene_names=list(new_data.var_names)\n",
    "gene_names_sub=[gene_names[i] for i in sen_gene_ls]\n",
    "\n",
    "for i,(key,value) in enumerate(ct_sencell_indexs.items()):\n",
    "    scores=filtered_gene_scores[:,i]\n",
    "    counts,sng_index,scores_ls=calculate_outliers(scores)\n",
    "    # 计算在每个cluster里面有多少离群gene\n",
    "    # 就是table1\n",
    "    print(key,counts)\n",
    "    sng_names=[[filtered_gene_names[i],float(scores_ls[j])] for j,i in enumerate(sng_index)]\n",
    "    gene_deepsas[key]=sng_names\n",
    "\n",
    "\n",
    "rows = []\n",
    "for cell_type, genes in gene_deepsas.items():\n",
    "    for gene, score in genes:\n",
    "        rows.append([cell_type, gene, score])\n",
    "\n",
    "df1 = pd.DataFrame(rows, columns=['Cell Type', 'Gene Name', 'Score']) ###table 1\n",
    "\n",
    "df1.to_csv(\"repro_table1.csv\",index=0)"
   ]
  },
  {
   "cell_type": "code",
   "execution_count": 31,
   "id": "6f4828b1",
   "metadata": {},
   "outputs": [
    {
     "name": "stdout",
     "output_type": "stream",
     "text": [
      "AT2 6354\n",
      "Plasma cells 8088\n",
      "CD4+ T Cells 4371\n",
      "Smooth muscle cells 7444\n",
      "Dendritic cells 6784\n",
      "Fibrotic fibroblast 6126\n",
      "EC Venous 7324\n",
      "EC General capillary 7433\n",
      "Fibrotic fibroblast 5\n",
      "EC Venous 4\n",
      "CD4+ T Cells 1\n",
      "Plasma cells 0\n",
      "AT2 2\n",
      "Smooth muscle cells 2\n",
      "EC General capillary 3\n",
      "Dendritic cells 0\n"
     ]
    },
    {
     "name": "stderr",
     "output_type": "stream",
     "text": [
      "/tmp/ipykernel_3797053/3929356287.py:33: SettingWithCopyWarning: \n",
      "A value is trying to be set on a copy of a slice from a DataFrame.\n",
      "Try using .loc[row_indexer,col_indexer] = value instead\n",
      "\n",
      "See the caveats in the documentation: https://pandas.pydata.org/pandas-docs/stable/user_guide/indexing.html#returning-a-view-versus-a-copy\n",
      "  t['cell type']=ct\n"
     ]
    }
   ],
   "source": [
    "filtered_degs={}\n",
    "for key,value in deg_results_full.items():\n",
    "    filtered_genes=value[(value['logFC']>=0.25)]['gene'].tolist()\n",
    "    #print(key, filtered_genes)\n",
    "    filtered_degs[key]=filtered_genes\n",
    "    print(key,len(filtered_genes))\n",
    "    \n",
    "results=[]\n",
    "for key,value in deg_results_full.items():\n",
    "    deg_results_full[key]['cell type']=key\n",
    "    results.append(deg_results_full[key])\n",
    "\n",
    "pd.concat(results).to_csv(\"./1.csv\")\n",
    "gene_deepsas_names={}\n",
    "for key,value in gene_deepsas.items():\n",
    "    gene_names=[line[0] for line in value]\n",
    "    gene_deepsas_names[key]=gene_names\n",
    "gene_deepsas_names\n",
    "\n",
    "# For table 2\n",
    "overlap_genes={}\n",
    "for ct in selected_ct:\n",
    "    ls1=set(gene_deepsas_names[ct])\n",
    "    ls2=set(filtered_degs[ct])\n",
    "    ls3=ls1.intersection(ls2)\n",
    "    print(ct, len(ls3))\n",
    "    overlap_genes[ct]=list(ls3)    \n",
    "\n",
    "table2=[]\n",
    "for ct in selected_ct:\n",
    "    t=deg_results_full[ct]\n",
    "    t=t[t['gene'].isin(overlap_genes[ct])]\n",
    "    t['cell type']=ct\n",
    "    table2.append(t)\n",
    "\n",
    "table2=pd.concat(table2)\n",
    "\n",
    "table2.to_csv(\"repro_table2.csv\",index=0)\n",
    "# The genes in table 3 is unique gene only occur in one cell type, I use excel to manually select genes in table3\n",
    "# No code to generate table3"
   ]
  },
  {
   "cell_type": "code",
   "execution_count": null,
   "id": "bb8a909a",
   "metadata": {},
   "outputs": [],
   "source": []
  }
 ],
 "metadata": {
  "kernelspec": {
   "display_name": ".venv",
   "language": "python",
   "name": "python3"
  },
  "language_info": {
   "codemirror_mode": {
    "name": "ipython",
    "version": 3
   },
   "file_extension": ".py",
   "mimetype": "text/x-python",
   "name": "python",
   "nbconvert_exporter": "python",
   "pygments_lexer": "ipython3",
   "version": "3.9.20"
  }
 },
 "nbformat": 4,
 "nbformat_minor": 5
}
