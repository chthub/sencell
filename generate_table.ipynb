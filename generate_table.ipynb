{
 "cells": [
  {
   "cell_type": "code",
   "execution_count": 5,
   "id": "c8857f09",
   "metadata": {},
   "outputs": [],
   "source": [
    "import torch\n",
    "import os\n",
    "import scanpy as sp\n",
    "import numpy as np\n",
    "import pandas as pd "
   ]
  },
  {
   "cell_type": "code",
   "execution_count": 2,
   "id": "74a686ce",
   "metadata": {},
   "outputs": [
    {
     "name": "stdout",
     "output_type": "stream",
     "text": [
      "load_data_newfix ...\n",
      "Number of cells: 24125\n",
      "Number of genes: 15844\n",
      "The number of cell types 32\n",
      "celltype names: ['Fibrotic fibroblast', 'AT2', 'EC Venous', 'EC Arterial', 'Dendritic cells', 'CD4+ T Cells', 'KRT5-/KRT17+ cells', 'EC General capillary', 'Monocyte-derived macrophage', 'CD8+ T Cells', 'Smooth muscle cells', 'Plasma cells', 'Ciliated', 'SPP1+ macrophages', 'MUC5B+ club', 'Alveolar fibroblasts', 'Alveolar macrophages', 'SCGB3A2+/SCGB1A1+ club', 'Monocyte', 'Mast cells', 'NK cells', 'Pericyte', 'Goblet', 'AT1', 'EC Lymphatic', 'B cells', 'Inflammatory fibroblasts', 'AT2 transitional', 'Peribronchial fibroblasts', 'Adventitial fibroblasts', 'Proliferating fibroblasts', 'Basal']\n",
      "---------------------------  ----\n",
      "Fibrotic fibroblast          2433\n",
      "AT2                          2195\n",
      "EC Venous                    2172\n",
      "EC Arterial                  1847\n",
      "Dendritic cells              1425\n",
      "CD4+ T Cells                 1211\n",
      "KRT5-/KRT17+ cells           1145\n",
      "EC General capillary          950\n",
      "Monocyte-derived macrophage   926\n",
      "CD8+ T Cells                  892\n",
      "Smooth muscle cells           863\n",
      "Plasma cells                  826\n",
      "Ciliated                      761\n",
      "SPP1+ macrophages             679\n",
      "MUC5B+ club                   660\n",
      "Alveolar fibroblasts          652\n",
      "Alveolar macrophages          544\n",
      "SCGB3A2+/SCGB1A1+ club        512\n",
      "Monocyte                      507\n",
      "Mast cells                    399\n",
      "NK cells                      392\n",
      "Pericyte                      362\n",
      "Goblet                        330\n",
      "AT1                           292\n",
      "EC Lymphatic                  248\n",
      "B cells                       206\n",
      "Inflammatory fibroblasts      175\n",
      "AT2 transitional              171\n",
      "Peribronchial fibroblasts     154\n",
      "Adventitial fibroblasts       128\n",
      "Proliferating fibroblasts      48\n",
      "Basal                          20\n",
      "---------------------------  ----\n",
      "各marker list所包含的gene数：\n",
      "  SenMayo    FRIDMAN    CellAge    Cell Cycle Markers\n",
      "---------  ---------  ---------  --------------------\n",
      "      125         77        144                    11\n",
      "Total marker genes:  320\n",
      "use all genes!\n",
      "After genes dropped duplicated sengenes:  15545\n",
      "Total gene num: 15844\n",
      "View of AnnData object with n_obs × n_vars = 24125 × 15844\n",
      "    obs: 'orig.ident', 'nCount_RNA', 'nFeature_RNA', 'percent.mt', 'Sample', 'Treatment', 'Injury', 'Status', 'Area', 'Type', 'Age', 'Age_Status', 'Sex', 'Treatment_Age_Status', 'Treatment_Age_Status_Sex', 'Treatment_Age_Status_Sex_Area', 'Names_Sample', 'Names_Age_Status', 'Names_Sample_Age_Status', 'nCount_SCT', 'nFeature_SCT', 'integrated_snn_res.0.2', 'seurat_clusters', 'integrated_snn_res.0.5', 'predicted.id', 'prediction.score.SCGB3A2..SCGB1A1..club', 'prediction.score.Plasma.cells', 'prediction.score.CD4..T.Cells', 'prediction.score.Goblet', 'prediction.score.B.cells', 'prediction.score.EC.Arterial', 'prediction.score.Smooth.muscle.cells', 'prediction.score.Ciliated', 'prediction.score.Proliferating.fibroblasts', 'prediction.score.AT2', 'prediction.score.SPP1..macrophages', 'prediction.score.Monocyte.derived.macrophage', 'prediction.score.Alveolar.fibroblasts', 'prediction.score.Mast.cells', 'prediction.score.Inflammatory.fibroblasts', 'prediction.score.AT1', 'prediction.score.Peribronchial.fibroblasts', 'prediction.score.CD8..T.Cells', 'prediction.score.Adventitial.fibroblasts', 'prediction.score.EC.Lymphatic', 'prediction.score.Subpleural.fibroblasts', 'prediction.score.Dendritic.cells', 'prediction.score.AT2.transitional', 'prediction.score.Monocyte', 'prediction.score.Basal', 'prediction.score.Pericyte', 'prediction.score.Fibrotic.fibroblast', 'prediction.score.Alveolar.macrophages', 'prediction.score.MUC5B..club', 'prediction.score.EC.Venous', 'prediction.score.NK.cells', 'prediction.score.EC.General.capillary', 'prediction.score.KRT5..KRT17..cells', 'prediction.score.max', 'predicted.id.score', 'clusters', 'n_genes'\n",
      "    var: 'n_cells'\n"
     ]
    }
   ],
   "source": [
    "import utils\n",
    "import argparse\n",
    "\n",
    "\n",
    "parser = argparse.ArgumentParser(description='Main program for sencells')\n",
    "\n",
    "parser.add_argument('--output_dir', type=str, default='./outputs', help='')\n",
    "parser.add_argument('--exp_name', type=str, default='data2', help='')\n",
    "parser.add_argument('--device_index', type=int, default=0, help='')\n",
    "parser.add_argument('--retrain', action='store_true', default=False, help='')\n",
    "parser.add_argument('--timestamp', type=str,  default=\"\", help='use default')\n",
    "\n",
    "parser.add_argument('--seed', type=int, default=40, help='different seed for different experiments')\n",
    "parser.add_argument('--n_genes', type=str, default='full', help='set 3000, 8000 or full')\n",
    "parser.add_argument('--ccc', type=str, default='type2', help='type1: cell-cell edge with weight in 0 and 1. type2: cell-cell edge with weight in 0 to 1. type3: no cell-cell edge')\n",
    "parser.add_argument('--gene_set', type=str, default='full', help='senmayo or fridman or cellage or goterm or goterm+fridman or senmayo+cellage or senmayo+fridman or senmayo+fridman+cellage or full')\n",
    "\n",
    "parser.add_argument('--gat_epoch', type=int, default=30, help='use default')\n",
    "\n",
    "\n",
    "# --------------------------------------------------------------------------------------------------- #\n",
    "# Write these code to fit our data input. This is for our @Yi, @Ahmed, and @Hu.\n",
    "parser.add_argument('--input_data_count', type=str, default=\"/bmbl_data/huchen/deepSAS_data/fixed_data_0525.h5ad\", help='it is a path to a adata object (.h5ad)')\n",
    "parser.add_argument('--input_data_CCC_file', type=str, default=\"\", help='it is a path to a CCC file (.csv or .npy)')\n",
    "# --------------------------------------------------------------------------------------------------- #\n",
    "\n",
    "\n",
    "# --------------------------------------------------------------------------------------------------- #\n",
    "# Subsampling argument for our following version. Please check this @Yi, @Ahmed, and @Hu.\n",
    "parser.add_argument('--subsampling', action='store_true', default=False, help='subsampling')\n",
    "# --------------------------------------------------------------------------------------------------- #\n",
    "\n",
    "\n",
    "# For @Hao\n",
    "# Hao: Just delete these 3 parameters.\n",
    "# --------------------------------------------------------------------------------------------------- #\n",
    "# is this sencell_num parameter not used? Please check this @Hao.\n",
    "parser.add_argument('--sencell_num', type=int, default=600, help='use default')\n",
    "# is this sengene_num parameter not used? Please check this @Hao.\n",
    "parser.add_argument('--sengene_num', type=int, default=200, help='use default')\n",
    "# is this sencell_epoch parameter not used? Please check this @Hao.\n",
    "parser.add_argument('--sencell_epoch', type=int, default=40, help='use default')\n",
    "# --------------------------------------------------------------------------------------------------- #\n",
    "\n",
    "\n",
    "\n",
    "\n",
    "parser.add_argument('--cell_optim_epoch', type=int, default=50, help='use default')\n",
    "\n",
    "\n",
    "# For @Hao\n",
    "# Hao: This is the emb size for GAT hidden embedding size\n",
    "# --------------------------------------------------------------------------------------------------- #\n",
    "# is this emb_size parameter for what, for GAT? is default 12? Please check this @Hao.\n",
    "parser.add_argument('--emb_size', type=int, default=12, help='use default')\n",
    "# --------------------------------------------------------------------------------------------------- #\n",
    "\n",
    "\n",
    "\n",
    "parser.add_argument('--batch_id', type=int, default=0, help='use default')\n",
    "\n",
    "args = parser.parse_args([])\n",
    "\n",
    "adata, cluster_cell_ls, cell_cluster_arr, celltype_names = utils.load_data_newfix(\"/bmbl_data/huchen/deepSAS_data/fixed_data_0525.h5ad\")\n",
    "\n",
    "new_data, markers_index,\\\n",
    "    sen_gene_ls, nonsen_gene_ls, gene_names = utils.process_data(\n",
    "        adata, cluster_cell_ls, cell_cluster_arr,args)\n",
    "print(new_data)"
   ]
  },
  {
   "cell_type": "code",
   "execution_count": 3,
   "id": "ef8d8b36",
   "metadata": {},
   "outputs": [],
   "source": [
    "pd.DataFrame(adata.obs['clusters'].value_counts()).to_csv(\"cell_types.csv\")"
   ]
  },
  {
   "cell_type": "code",
   "execution_count": 4,
   "id": "17471e07",
   "metadata": {},
   "outputs": [
    {
     "name": "stdout",
     "output_type": "stream",
     "text": [
      "Number of SnCs: 777\n",
      "Number of SnGs: 299\n"
     ]
    }
   ],
   "source": [
    "file_path = \"/bmbl_data/huchen/sencell_data1/outputs/data1/data1_sencellgene-epoch4.data\"\n",
    "\n",
    "# Load the saved object\n",
    "loaded_data = torch.load(file_path)\n",
    "\n",
    "# Unpack the loaded data\n",
    "sencell_dict, sen_gene_ls, attention_scores, edge_index_selfloop = loaded_data\n",
    "\n",
    "print(f\"Number of SnCs: {len(sencell_dict.keys())}\")\n",
    "print(f\"Number of SnGs: {len(sen_gene_ls)}\")"
   ]
  },
  {
   "cell_type": "code",
   "execution_count": 7,
   "id": "128ca92a",
   "metadata": {},
   "outputs": [],
   "source": [
    "sencell_indexs=list(sencell_dict.keys())\n",
    "sencell_cluster = []\n",
    "for i in sencell_indexs:\n",
    "    ct=new_data.obs.iloc[i-new_data.shape[1]].clusters\n",
    "    sencell_cluster.append(ct)\n"
   ]
  },
  {
   "cell_type": "code",
   "execution_count": 11,
   "id": "3329ba79",
   "metadata": {},
   "outputs": [
    {
     "data": {
      "text/html": [
       "<div>\n",
       "<style scoped>\n",
       "    .dataframe tbody tr th:only-of-type {\n",
       "        vertical-align: middle;\n",
       "    }\n",
       "\n",
       "    .dataframe tbody tr th {\n",
       "        vertical-align: top;\n",
       "    }\n",
       "\n",
       "    .dataframe thead th {\n",
       "        text-align: right;\n",
       "    }\n",
       "</style>\n",
       "<table border=\"1\" class=\"dataframe\">\n",
       "  <thead>\n",
       "    <tr style=\"text-align: right;\">\n",
       "      <th></th>\n",
       "      <th>sencell_index</th>\n",
       "      <th>sencell_cluster</th>\n",
       "    </tr>\n",
       "  </thead>\n",
       "  <tbody>\n",
       "    <tr>\n",
       "      <th>0</th>\n",
       "      <td>15851</td>\n",
       "      <td>SPP1+ macrophages</td>\n",
       "    </tr>\n",
       "    <tr>\n",
       "      <th>1</th>\n",
       "      <td>15853</td>\n",
       "      <td>SPP1+ macrophages</td>\n",
       "    </tr>\n",
       "    <tr>\n",
       "      <th>2</th>\n",
       "      <td>15870</td>\n",
       "      <td>AT2</td>\n",
       "    </tr>\n",
       "    <tr>\n",
       "      <th>3</th>\n",
       "      <td>15898</td>\n",
       "      <td>SPP1+ macrophages</td>\n",
       "    </tr>\n",
       "    <tr>\n",
       "      <th>4</th>\n",
       "      <td>15900</td>\n",
       "      <td>AT2</td>\n",
       "    </tr>\n",
       "  </tbody>\n",
       "</table>\n",
       "</div>"
      ],
      "text/plain": [
       "   sencell_index    sencell_cluster\n",
       "0          15851  SPP1+ macrophages\n",
       "1          15853  SPP1+ macrophages\n",
       "2          15870                AT2\n",
       "3          15898  SPP1+ macrophages\n",
       "4          15900                AT2"
      ]
     },
     "execution_count": 11,
     "metadata": {},
     "output_type": "execute_result"
    }
   ],
   "source": [
    "sencell_df = pd.DataFrame({'sencell_index': sencell_indexs, 'sencell_cluster': sencell_cluster})\n",
    "sencell_df.head()"
   ]
  },
  {
   "cell_type": "code",
   "execution_count": 13,
   "id": "d59d3609",
   "metadata": {},
   "outputs": [
    {
     "data": {
      "text/html": [
       "<div>\n",
       "<style scoped>\n",
       "    .dataframe tbody tr th:only-of-type {\n",
       "        vertical-align: middle;\n",
       "    }\n",
       "\n",
       "    .dataframe tbody tr th {\n",
       "        vertical-align: top;\n",
       "    }\n",
       "\n",
       "    .dataframe thead th {\n",
       "        text-align: right;\n",
       "    }\n",
       "</style>\n",
       "<table border=\"1\" class=\"dataframe\">\n",
       "  <thead>\n",
       "    <tr style=\"text-align: right;\">\n",
       "      <th></th>\n",
       "      <th>clusters</th>\n",
       "    </tr>\n",
       "  </thead>\n",
       "  <tbody>\n",
       "    <tr>\n",
       "      <th>Fibrotic fibroblast</th>\n",
       "      <td>2433</td>\n",
       "    </tr>\n",
       "    <tr>\n",
       "      <th>AT2</th>\n",
       "      <td>2195</td>\n",
       "    </tr>\n",
       "    <tr>\n",
       "      <th>EC Venous</th>\n",
       "      <td>2172</td>\n",
       "    </tr>\n",
       "    <tr>\n",
       "      <th>EC Arterial</th>\n",
       "      <td>1847</td>\n",
       "    </tr>\n",
       "    <tr>\n",
       "      <th>Dendritic cells</th>\n",
       "      <td>1425</td>\n",
       "    </tr>\n",
       "    <tr>\n",
       "      <th>CD4+ T Cells</th>\n",
       "      <td>1211</td>\n",
       "    </tr>\n",
       "    <tr>\n",
       "      <th>KRT5-/KRT17+ cells</th>\n",
       "      <td>1145</td>\n",
       "    </tr>\n",
       "    <tr>\n",
       "      <th>EC General capillary</th>\n",
       "      <td>950</td>\n",
       "    </tr>\n",
       "    <tr>\n",
       "      <th>Monocyte-derived macrophage</th>\n",
       "      <td>926</td>\n",
       "    </tr>\n",
       "    <tr>\n",
       "      <th>CD8+ T Cells</th>\n",
       "      <td>892</td>\n",
       "    </tr>\n",
       "    <tr>\n",
       "      <th>Smooth muscle cells</th>\n",
       "      <td>863</td>\n",
       "    </tr>\n",
       "    <tr>\n",
       "      <th>Plasma cells</th>\n",
       "      <td>826</td>\n",
       "    </tr>\n",
       "    <tr>\n",
       "      <th>Ciliated</th>\n",
       "      <td>761</td>\n",
       "    </tr>\n",
       "    <tr>\n",
       "      <th>SPP1+ macrophages</th>\n",
       "      <td>679</td>\n",
       "    </tr>\n",
       "    <tr>\n",
       "      <th>MUC5B+ club</th>\n",
       "      <td>660</td>\n",
       "    </tr>\n",
       "    <tr>\n",
       "      <th>Alveolar fibroblasts</th>\n",
       "      <td>652</td>\n",
       "    </tr>\n",
       "    <tr>\n",
       "      <th>Alveolar macrophages</th>\n",
       "      <td>544</td>\n",
       "    </tr>\n",
       "    <tr>\n",
       "      <th>SCGB3A2+/SCGB1A1+ club</th>\n",
       "      <td>512</td>\n",
       "    </tr>\n",
       "    <tr>\n",
       "      <th>Monocyte</th>\n",
       "      <td>507</td>\n",
       "    </tr>\n",
       "    <tr>\n",
       "      <th>Mast cells</th>\n",
       "      <td>399</td>\n",
       "    </tr>\n",
       "    <tr>\n",
       "      <th>NK cells</th>\n",
       "      <td>392</td>\n",
       "    </tr>\n",
       "    <tr>\n",
       "      <th>Pericyte</th>\n",
       "      <td>362</td>\n",
       "    </tr>\n",
       "    <tr>\n",
       "      <th>Goblet</th>\n",
       "      <td>330</td>\n",
       "    </tr>\n",
       "    <tr>\n",
       "      <th>AT1</th>\n",
       "      <td>292</td>\n",
       "    </tr>\n",
       "    <tr>\n",
       "      <th>EC Lymphatic</th>\n",
       "      <td>248</td>\n",
       "    </tr>\n",
       "    <tr>\n",
       "      <th>B cells</th>\n",
       "      <td>206</td>\n",
       "    </tr>\n",
       "    <tr>\n",
       "      <th>Inflammatory fibroblasts</th>\n",
       "      <td>175</td>\n",
       "    </tr>\n",
       "    <tr>\n",
       "      <th>AT2 transitional</th>\n",
       "      <td>171</td>\n",
       "    </tr>\n",
       "    <tr>\n",
       "      <th>Peribronchial fibroblasts</th>\n",
       "      <td>154</td>\n",
       "    </tr>\n",
       "    <tr>\n",
       "      <th>Adventitial fibroblasts</th>\n",
       "      <td>128</td>\n",
       "    </tr>\n",
       "    <tr>\n",
       "      <th>Proliferating fibroblasts</th>\n",
       "      <td>48</td>\n",
       "    </tr>\n",
       "    <tr>\n",
       "      <th>Basal</th>\n",
       "      <td>20</td>\n",
       "    </tr>\n",
       "  </tbody>\n",
       "</table>\n",
       "</div>"
      ],
      "text/plain": [
       "                             clusters\n",
       "Fibrotic fibroblast              2433\n",
       "AT2                              2195\n",
       "EC Venous                        2172\n",
       "EC Arterial                      1847\n",
       "Dendritic cells                  1425\n",
       "CD4+ T Cells                     1211\n",
       "KRT5-/KRT17+ cells               1145\n",
       "EC General capillary              950\n",
       "Monocyte-derived macrophage       926\n",
       "CD8+ T Cells                      892\n",
       "Smooth muscle cells               863\n",
       "Plasma cells                      826\n",
       "Ciliated                          761\n",
       "SPP1+ macrophages                 679\n",
       "MUC5B+ club                       660\n",
       "Alveolar fibroblasts              652\n",
       "Alveolar macrophages              544\n",
       "SCGB3A2+/SCGB1A1+ club            512\n",
       "Monocyte                          507\n",
       "Mast cells                        399\n",
       "NK cells                          392\n",
       "Pericyte                          362\n",
       "Goblet                            330\n",
       "AT1                               292\n",
       "EC Lymphatic                      248\n",
       "B cells                           206\n",
       "Inflammatory fibroblasts          175\n",
       "AT2 transitional                  171\n",
       "Peribronchial fibroblasts         154\n",
       "Adventitial fibroblasts           128\n",
       "Proliferating fibroblasts          48\n",
       "Basal                              20"
      ]
     },
     "execution_count": 13,
     "metadata": {},
     "output_type": "execute_result"
    }
   ],
   "source": [
    "pd.DataFrame(new_data.obs['clusters'].value_counts())"
   ]
  },
  {
   "cell_type": "code",
   "execution_count": 14,
   "id": "41643b33",
   "metadata": {},
   "outputs": [
    {
     "data": {
      "text/html": [
       "<div>\n",
       "<style scoped>\n",
       "    .dataframe tbody tr th:only-of-type {\n",
       "        vertical-align: middle;\n",
       "    }\n",
       "\n",
       "    .dataframe tbody tr th {\n",
       "        vertical-align: top;\n",
       "    }\n",
       "\n",
       "    .dataframe thead th {\n",
       "        text-align: right;\n",
       "    }\n",
       "</style>\n",
       "<table border=\"1\" class=\"dataframe\">\n",
       "  <thead>\n",
       "    <tr style=\"text-align: right;\">\n",
       "      <th></th>\n",
       "      <th>sencell_cluster</th>\n",
       "    </tr>\n",
       "  </thead>\n",
       "  <tbody>\n",
       "    <tr>\n",
       "      <th>Fibrotic fibroblast</th>\n",
       "      <td>123</td>\n",
       "    </tr>\n",
       "    <tr>\n",
       "      <th>AT2</th>\n",
       "      <td>117</td>\n",
       "    </tr>\n",
       "    <tr>\n",
       "      <th>CD4+ T Cells</th>\n",
       "      <td>73</td>\n",
       "    </tr>\n",
       "    <tr>\n",
       "      <th>KRT5-/KRT17+ cells</th>\n",
       "      <td>59</td>\n",
       "    </tr>\n",
       "    <tr>\n",
       "      <th>EC Venous</th>\n",
       "      <td>50</td>\n",
       "    </tr>\n",
       "    <tr>\n",
       "      <th>Ciliated</th>\n",
       "      <td>46</td>\n",
       "    </tr>\n",
       "    <tr>\n",
       "      <th>Monocyte-derived macrophage</th>\n",
       "      <td>41</td>\n",
       "    </tr>\n",
       "    <tr>\n",
       "      <th>EC Arterial</th>\n",
       "      <td>32</td>\n",
       "    </tr>\n",
       "    <tr>\n",
       "      <th>Dendritic cells</th>\n",
       "      <td>30</td>\n",
       "    </tr>\n",
       "    <tr>\n",
       "      <th>Alveolar macrophages</th>\n",
       "      <td>30</td>\n",
       "    </tr>\n",
       "    <tr>\n",
       "      <th>Mast cells</th>\n",
       "      <td>24</td>\n",
       "    </tr>\n",
       "    <tr>\n",
       "      <th>Smooth muscle cells</th>\n",
       "      <td>22</td>\n",
       "    </tr>\n",
       "    <tr>\n",
       "      <th>EC General capillary</th>\n",
       "      <td>22</td>\n",
       "    </tr>\n",
       "    <tr>\n",
       "      <th>MUC5B+ club</th>\n",
       "      <td>22</td>\n",
       "    </tr>\n",
       "    <tr>\n",
       "      <th>SCGB3A2+/SCGB1A1+ club</th>\n",
       "      <td>21</td>\n",
       "    </tr>\n",
       "    <tr>\n",
       "      <th>Plasma cells</th>\n",
       "      <td>20</td>\n",
       "    </tr>\n",
       "    <tr>\n",
       "      <th>Pericyte</th>\n",
       "      <td>17</td>\n",
       "    </tr>\n",
       "    <tr>\n",
       "      <th>SPP1+ macrophages</th>\n",
       "      <td>17</td>\n",
       "    </tr>\n",
       "    <tr>\n",
       "      <th>Goblet</th>\n",
       "      <td>11</td>\n",
       "    </tr>\n",
       "  </tbody>\n",
       "</table>\n",
       "</div>"
      ],
      "text/plain": [
       "                             sencell_cluster\n",
       "Fibrotic fibroblast                      123\n",
       "AT2                                      117\n",
       "CD4+ T Cells                              73\n",
       "KRT5-/KRT17+ cells                        59\n",
       "EC Venous                                 50\n",
       "Ciliated                                  46\n",
       "Monocyte-derived macrophage               41\n",
       "EC Arterial                               32\n",
       "Dendritic cells                           30\n",
       "Alveolar macrophages                      30\n",
       "Mast cells                                24\n",
       "Smooth muscle cells                       22\n",
       "EC General capillary                      22\n",
       "MUC5B+ club                               22\n",
       "SCGB3A2+/SCGB1A1+ club                    21\n",
       "Plasma cells                              20\n",
       "Pericyte                                  17\n",
       "SPP1+ macrophages                         17\n",
       "Goblet                                    11"
      ]
     },
     "execution_count": 14,
     "metadata": {},
     "output_type": "execute_result"
    }
   ],
   "source": [
    "pd.DataFrame(sencell_df['sencell_cluster'].value_counts())"
   ]
  },
  {
   "cell_type": "code",
   "execution_count": 5,
   "id": "89d051d9",
   "metadata": {},
   "outputs": [
    {
     "name": "stdout",
     "output_type": "stream",
     "text": [
      "Number of SnCs: 664\n",
      "Number of SnGs: 281\n"
     ]
    }
   ],
   "source": [
    "Yi_file_path = \"/bmbl_data/huchen/sencell_data1/outputs/data1/Data_23024_sencellgene-epoch4.data\"   \n",
    "\n",
    "# Load the saved object\n",
    "Yi_loaded_data = torch.load(Yi_file_path)\n",
    "\n",
    "# Unpack the loaded data\n",
    "Yi_sencell_dict, Yi_sen_gene_ls, Yi_attention_scores, Yi_edge_index_selfloop = Yi_loaded_data\n",
    "\n",
    "print(f\"Number of SnCs: {len(Yi_sencell_dict.keys())}\")\n",
    "print(f\"Number of SnGs: {len(Yi_sen_gene_ls)}\")\n"
   ]
  },
  {
   "cell_type": "code",
   "execution_count": 6,
   "id": "032f3771",
   "metadata": {},
   "outputs": [],
   "source": [
    "selected_ct=['Fibrotic fibroblast',\n",
    "    'EC Venous',\n",
    "    'CD4+ T Cells',\n",
    "    'Plasma cells',\n",
    "    'AT2',\n",
    "    'Smooth muscle cells',\n",
    "    'EC General capillary',\n",
    "    'Dendritic cells']"
   ]
  },
  {
   "cell_type": "code",
   "execution_count": 7,
   "id": "2835901e",
   "metadata": {},
   "outputs": [
    {
     "data": {
      "text/plain": [
       "tensor([15738, 15733, 15829, 15776, 15794, 15772, 15770, 15727, 15836, 15630,\n",
       "        15721, 15724, 15722, 15745, 15731, 15819, 15801, 15632, 15755, 15703,\n",
       "        15652, 15824, 15825, 15830, 15756, 15807, 15611, 15695, 15635, 15560,\n",
       "        15725, 15768, 15571, 15634, 15558, 15545, 15561, 15708, 15806, 15586,\n",
       "        15811, 15577, 15773, 15741, 15736, 15596, 15600, 15602, 15690, 15781,\n",
       "        15597, 15580, 15609, 15633, 15815, 15711, 15735, 15792, 15805, 15624,\n",
       "        15598, 15588, 15729, 15693, 15716, 15752, 15715, 15655, 15714, 15786,\n",
       "        15618, 15804, 15751, 15706, 15653, 15814, 15812, 15710, 15764, 15769,\n",
       "        15709, 15604, 15548, 15739, 15835, 15707, 15663, 15763, 15649, 15657,\n",
       "        15810, 15659, 15757, 15799, 15628, 15616, 15728, 15808, 15782, 15667,\n",
       "        15778, 15648, 15700, 15620, 15656, 15831, 15639, 15647, 15559, 15798,\n",
       "        15818, 15843, 15546, 15702, 15701, 15625, 15771, 15783, 15692, 15839,\n",
       "        15754, 15593, 15565, 15670, 15640, 15617, 15726, 15760, 15687, 15713,\n",
       "        15605, 15795, 15747, 15644, 15750, 15682, 15587, 15601, 15643, 15594,\n",
       "        15691, 15614, 15622, 15612, 15762, 15645, 15585, 15743, 15677, 15638,\n",
       "        15698, 15793, 15796, 15790, 15654, 15555, 15646, 15564, 15554, 15592,\n",
       "        15576, 15566, 15689, 15549, 15744, 15788, 15666, 15547, 15809, 15837,\n",
       "        15813, 15833, 15749, 15661, 15671, 15636, 15765, 15590, 15607, 15552,\n",
       "        15737, 15740, 15753, 15758, 15827, 15823, 15823, 15742, 15841, 15759,\n",
       "        15684, 15668, 15685, 14172, 15551, 15553, 15574, 15802, 15556, 15732,\n",
       "        15613, 15787, 15608, 15568, 15821, 15658, 15676, 15621, 15615, 15705,\n",
       "        15673, 15832, 15579, 15569, 15723, 15797, 15766, 15761, 15748, 15573,\n",
       "        15816, 15610, 15563, 15572, 15767, 15834, 15826, 15603, 15627, 15678,\n",
       "        15595, 15629, 15817, 15619, 15591, 15665, 15665, 15791, 15637,  6530,\n",
       "        15570,  6969, 15623, 15803, 15686, 15730, 15775, 15719, 15694, 15448,\n",
       "        15697,  1743, 15784, 15718,  3552, 15680, 15680, 15680,  1856,  1856,\n",
       "        13606,  1006,  1006, 11978,   190,  7056,  7056,  9025,  3399,  8205,\n",
       "        14727, 15712, 15712, 15712,  6282,  9272,   547,  2515,  2515,  2515,\n",
       "         2440,  2440,  2440,  6993,  6993,  5986,  5986,  5986, 10304,  5819,\n",
       "        10304,  5986,  6993,  2440,  2515,   547,  1478, 11445, 14275])"
      ]
     },
     "execution_count": 7,
     "metadata": {},
     "output_type": "execute_result"
    }
   ],
   "source": [
    "sen_gene_ls"
   ]
  },
  {
   "cell_type": "markdown",
   "id": "d15d5d2c",
   "metadata": {},
   "source": [
    "Intersection between original senescent marker genes and output senescent marker genes"
   ]
  },
  {
   "cell_type": "code",
   "execution_count": 8,
   "id": "0ad975f7",
   "metadata": {},
   "outputs": [
    {
     "name": "stdout",
     "output_type": "stream",
     "text": [
      "28\n",
      "18\n"
     ]
    }
   ],
   "source": [
    "sen_gene_ls\n",
    "\n",
    "filtered_gene_names = []\n",
    "for gene_idx in sen_gene_ls:\n",
    "    gene_idx = gene_idx.item()\n",
    "    filtered_gene_names.append(new_data.var.index[gene_idx])\n",
    "gene_idx2names = {'gene_idx': sen_gene_ls, 'gene_name': filtered_gene_names}\n",
    "\n",
    "gene_idx2names_df = pd.DataFrame(gene_idx2names)\n",
    "gene_idx2names_df.to_csv(\"predict_sene_makrers.csv\", index=False)\n",
    "inital_masker = pd.read_csv(\"initial_sene_markers.csv\")\n",
    "# Not in hallmarks, generate from model output\n",
    "predict_sens_list = list(set(gene_idx2names_df['gene_name']).difference(set(inital_masker['gene_name'])))\n",
    "\n",
    "print(len(predict_sens_list))\n",
    "\n",
    "\n",
    "\n",
    "\n",
    "Yi_filtered_gene_names = []\n",
    "for gene_idx in Yi_sen_gene_ls:\n",
    "    gene_idx = gene_idx.item()\n",
    "    Yi_filtered_gene_names.append(new_data.var.index[gene_idx])\n",
    "Yi_gene_idx2names = {'gene_idx': Yi_sen_gene_ls, 'gene_name': Yi_filtered_gene_names}\n",
    "\n",
    "Yi_gene_idx2names_df = pd.DataFrame(Yi_gene_idx2names)\n",
    "Yi_gene_idx2names_df.to_csv(\"Yi_predict_sene_makrers.csv\", index=False)\n",
    "\n",
    "Yi_predict_sens_list = list(set(Yi_gene_idx2names_df['gene_name']).difference(set(inital_masker['gene_name'])))\n",
    "\n",
    "print(len(Yi_predict_sens_list))\n"
   ]
  },
  {
   "cell_type": "code",
   "execution_count": 9,
   "id": "593ba185",
   "metadata": {},
   "outputs": [
    {
     "data": {
      "text/plain": [
       "6"
      ]
     },
     "execution_count": 9,
     "metadata": {},
     "output_type": "execute_result"
    }
   ],
   "source": [
    "len(set(Yi_predict_sens_list) & set(predict_sens_list))"
   ]
  },
  {
   "cell_type": "code",
   "execution_count": 11,
   "id": "16488fd3",
   "metadata": {},
   "outputs": [
    {
     "name": "stdout",
     "output_type": "stream",
     "text": [
      "AT2, Number of SnCs: 117\n"
     ]
    },
    {
     "name": "stderr",
     "output_type": "stream",
     "text": [
      "/bmbl_data/huchen/sencell_data1/.venv/lib/python3.9/site-packages/scanpy/tools/_rank_genes_groups.py:580: ImplicitModificationWarning: Trying to modify attribute `._uns` of view, initializing view as actual.\n",
      "  adata.uns[key_added] = {}\n",
      "/bmbl_data/huchen/sencell_data1/.venv/lib/python3.9/site-packages/scanpy/tools/_rank_genes_groups.py:420: RuntimeWarning: invalid value encountered in log2\n",
      "  self.stats[group_name, 'logfoldchanges'] = np.log2(\n",
      "/bmbl_data/huchen/sencell_data1/.venv/lib/python3.9/site-packages/scanpy/tools/_rank_genes_groups.py:580: ImplicitModificationWarning: Trying to modify attribute `._uns` of view, initializing view as actual.\n",
      "  adata.uns[key_added] = {}\n"
     ]
    },
    {
     "name": "stdout",
     "output_type": "stream",
     "text": [
      "Get 15844 degs!\n",
      "Plasma cells, Number of SnCs: 20\n"
     ]
    },
    {
     "name": "stderr",
     "output_type": "stream",
     "text": [
      "/bmbl_data/huchen/sencell_data1/.venv/lib/python3.9/site-packages/scanpy/tools/_rank_genes_groups.py:420: RuntimeWarning: invalid value encountered in log2\n",
      "  self.stats[group_name, 'logfoldchanges'] = np.log2(\n",
      "/bmbl_data/huchen/sencell_data1/.venv/lib/python3.9/site-packages/scanpy/tools/_rank_genes_groups.py:580: ImplicitModificationWarning: Trying to modify attribute `._uns` of view, initializing view as actual.\n",
      "  adata.uns[key_added] = {}\n"
     ]
    },
    {
     "name": "stdout",
     "output_type": "stream",
     "text": [
      "Get 15844 degs!\n",
      "CD4+ T Cells, Number of SnCs: 73\n"
     ]
    },
    {
     "name": "stderr",
     "output_type": "stream",
     "text": [
      "/bmbl_data/huchen/sencell_data1/.venv/lib/python3.9/site-packages/scanpy/tools/_rank_genes_groups.py:420: RuntimeWarning: invalid value encountered in log2\n",
      "  self.stats[group_name, 'logfoldchanges'] = np.log2(\n",
      "/bmbl_data/huchen/sencell_data1/.venv/lib/python3.9/site-packages/scanpy/tools/_rank_genes_groups.py:580: ImplicitModificationWarning: Trying to modify attribute `._uns` of view, initializing view as actual.\n",
      "  adata.uns[key_added] = {}\n"
     ]
    },
    {
     "name": "stdout",
     "output_type": "stream",
     "text": [
      "Get 15844 degs!\n",
      "Smooth muscle cells, Number of SnCs: 22\n"
     ]
    },
    {
     "name": "stderr",
     "output_type": "stream",
     "text": [
      "/bmbl_data/huchen/sencell_data1/.venv/lib/python3.9/site-packages/scanpy/tools/_rank_genes_groups.py:420: RuntimeWarning: invalid value encountered in log2\n",
      "  self.stats[group_name, 'logfoldchanges'] = np.log2(\n",
      "/bmbl_data/huchen/sencell_data1/.venv/lib/python3.9/site-packages/scanpy/tools/_rank_genes_groups.py:580: ImplicitModificationWarning: Trying to modify attribute `._uns` of view, initializing view as actual.\n",
      "  adata.uns[key_added] = {}\n"
     ]
    },
    {
     "name": "stdout",
     "output_type": "stream",
     "text": [
      "Get 15844 degs!\n",
      "Dendritic cells, Number of SnCs: 30\n"
     ]
    },
    {
     "name": "stderr",
     "output_type": "stream",
     "text": [
      "/bmbl_data/huchen/sencell_data1/.venv/lib/python3.9/site-packages/scanpy/tools/_rank_genes_groups.py:420: RuntimeWarning: invalid value encountered in log2\n",
      "  self.stats[group_name, 'logfoldchanges'] = np.log2(\n",
      "/bmbl_data/huchen/sencell_data1/.venv/lib/python3.9/site-packages/scanpy/tools/_rank_genes_groups.py:580: ImplicitModificationWarning: Trying to modify attribute `._uns` of view, initializing view as actual.\n",
      "  adata.uns[key_added] = {}\n"
     ]
    },
    {
     "name": "stdout",
     "output_type": "stream",
     "text": [
      "Get 15844 degs!\n",
      "Fibrotic fibroblast, Number of SnCs: 123\n"
     ]
    },
    {
     "name": "stderr",
     "output_type": "stream",
     "text": [
      "/bmbl_data/huchen/sencell_data1/.venv/lib/python3.9/site-packages/scanpy/tools/_rank_genes_groups.py:420: RuntimeWarning: invalid value encountered in log2\n",
      "  self.stats[group_name, 'logfoldchanges'] = np.log2(\n",
      "/bmbl_data/huchen/sencell_data1/.venv/lib/python3.9/site-packages/scanpy/tools/_rank_genes_groups.py:580: ImplicitModificationWarning: Trying to modify attribute `._uns` of view, initializing view as actual.\n",
      "  adata.uns[key_added] = {}\n"
     ]
    },
    {
     "name": "stdout",
     "output_type": "stream",
     "text": [
      "Get 15844 degs!\n",
      "EC Venous, Number of SnCs: 50\n"
     ]
    },
    {
     "name": "stderr",
     "output_type": "stream",
     "text": [
      "/bmbl_data/huchen/sencell_data1/.venv/lib/python3.9/site-packages/scanpy/tools/_rank_genes_groups.py:420: RuntimeWarning: invalid value encountered in log2\n",
      "  self.stats[group_name, 'logfoldchanges'] = np.log2(\n",
      "/bmbl_data/huchen/sencell_data1/.venv/lib/python3.9/site-packages/scanpy/tools/_rank_genes_groups.py:580: ImplicitModificationWarning: Trying to modify attribute `._uns` of view, initializing view as actual.\n",
      "  adata.uns[key_added] = {}\n"
     ]
    },
    {
     "name": "stdout",
     "output_type": "stream",
     "text": [
      "Get 15844 degs!\n",
      "EC General capillary, Number of SnCs: 22\n",
      "Get 15844 degs!\n"
     ]
    },
    {
     "name": "stderr",
     "output_type": "stream",
     "text": [
      "/bmbl_data/huchen/sencell_data1/.venv/lib/python3.9/site-packages/scanpy/tools/_rank_genes_groups.py:420: RuntimeWarning: invalid value encountered in log2\n",
      "  self.stats[group_name, 'logfoldchanges'] = np.log2(\n"
     ]
    }
   ],
   "source": [
    "def identify_sengene_v2(new_data,\n",
    "                        sencell_dict):\n",
    "    # prepare adata for deg\n",
    "    adata_deg=new_data.copy()\n",
    "    sp.pp.normalize_total(adata_deg, target_sum=1e4)\n",
    "    sp.pp.log1p(adata_deg)\n",
    "    sp.pp.scale(adata_deg)\n",
    "\n",
    "    # selected_ct=['Fibrotic fibroblast',\n",
    "    #   'EC Venous',\n",
    "    #   'CD4+ T Cells',\n",
    "    #   'Plasma cells',\n",
    "    #   'AT2',\n",
    "    #   'Smooth muscle cells',\n",
    "    #   'EC General capillary',\n",
    "    #   'Dendritic cells']\n",
    "    # No Smooth muscle cells detected in sencell_dict\n",
    "\n",
    "\n",
    "    sencell_indexs=list(sencell_dict.keys())\n",
    "    \n",
    "    # Cell index where ct in select_ct\n",
    "    sencell_indexs_updated=[]\n",
    "    for i in sencell_indexs:\n",
    "        ct=adata_deg.obs.iloc[i-adata_deg.shape[1]].clusters\n",
    "        if ct in selected_ct:\n",
    "            sencell_indexs_updated.append(i)\n",
    "            \n",
    "    sencell_indexs=sencell_indexs_updated\n",
    "    \n",
    "    # create SnC column\n",
    "    # NOTE: is_sen: normal / SnC\n",
    "    row_indices= np.array(sencell_indexs)-new_data.shape[1]\n",
    "    new_column = np.array(['normal']*new_data.shape[0])\n",
    "    new_column[row_indices] = 'SnC'\n",
    "    adata_deg.obs['is_sen'] = new_column\n",
    "    adata_deg.obs['is_sen']=adata_deg.obs['is_sen'].astype(str).astype('category')\n",
    "    # Verify the result\n",
    "    # print(adata_deg.obs['is_sen'])\n",
    "    \n",
    "    cell_types = adata_deg.obs['clusters'].unique()\n",
    "    \n",
    "    all_genes_names=list(new_data.var.index)\n",
    "    results_genes=[]\n",
    "    deg_results={}\n",
    "    deg_results_full={}\n",
    "    \n",
    "    for cell_type in cell_types:\n",
    "        adata_deg_sub=adata_deg[adata_deg.obs['clusters']==cell_type]\n",
    "        if 'SnC' in adata_deg_sub.obs['is_sen'].values:\n",
    "            value_counts = adata_deg_sub.obs['is_sen'].value_counts()\n",
    "            # 只考虑老化细胞数大于5的cell type\n",
    "            if value_counts['SnC']<=5:\n",
    "                continue\n",
    "            print(f\"{cell_type}, Number of SnCs: {value_counts['SnC']}\")    \n",
    "            sp.tl.rank_genes_groups(adata_deg_sub, groupby='is_sen', groups=['SnC'], \n",
    "                                    reference='normal', method='wilcoxon')\n",
    "\n",
    "            # Extract the results into a DataFrame\n",
    "            degs = pd.DataFrame({\n",
    "                'gene': adata_deg_sub.uns['rank_genes_groups']['names']['SnC'],\n",
    "                'p_val': adata_deg_sub.uns['rank_genes_groups']['pvals']['SnC'],\n",
    "                'logFC': adata_deg_sub.uns['rank_genes_groups']['logfoldchanges']['SnC'],\n",
    "                'p_val_adj': adata_deg_sub.uns['rank_genes_groups']['pvals_adj']['SnC']\n",
    "            })\n",
    "            \n",
    "            degs=degs.sort_values(by='logFC')\n",
    "            degs['prediction'] = degs['gene'].isin(predict_sens_list).astype(int)\n",
    "            subdegs = degs[degs['prediction'] == 1]\n",
    "            save_ct_name = cell_type.replace(' ', '_')\n",
    "            degs.to_csv(f\"outputs/DEG_res/{save_ct_name}_DEG_results.csv\", index=False)\n",
    "            subdegs.to_csv(f\"outputs/DEG_res/{save_ct_name}_sub_DEG_results.csv\", index=False)\n",
    "            deg_results_full[cell_type]=degs\n",
    "            num=len(degs)\n",
    "            print(f'Get {num} degs!')\n",
    "    return adata_deg, sencell_indexs, deg_results_full\n",
    "\n",
    "\n",
    "adata_deg, sencell_index_in_deg, deg_results_full=identify_sengene_v2(new_data,\n",
    "                        sencell_dict)"
   ]
  },
  {
   "cell_type": "code",
   "execution_count": 12,
   "id": "ee093321",
   "metadata": {},
   "outputs": [],
   "source": [
    "# new_data=sp.read_h5ad()#####your h5ad file\n",
    "#adata, cluster_cell_ls, cell_cluster_arr, celltype_names = utils.load_data_newfix(args.input_data_count)\n",
    "gene_cell = new_data.X.toarray().T\n",
    "\n",
    "    ####build dict for each sncs for each cell type\n",
    "sencell_indexs=list(sencell_dict.keys())\n",
    "ct_sencell_indexs={}\n",
    "row_numbers=np.array(sencell_indexs)-new_data.shape[1]\n",
    "\n",
    "for i in row_numbers:\n",
    "    ct_=new_data.obs.iloc[i]['clusters']\n",
    "    if ct_ in selected_ct:\n",
    "        if ct_ in ct_sencell_indexs:\n",
    "            ct_sencell_indexs[ct_].append(i+new_data.shape[1])\n",
    "        else:\n",
    "            ct_sencell_indexs[ct_]=[i+new_data.shape[1]]"
   ]
  },
  {
   "cell_type": "code",
   "execution_count": 13,
   "id": "6908c1b3",
   "metadata": {},
   "outputs": [
    {
     "data": {
      "text/plain": [
       "8"
      ]
     },
     "execution_count": 13,
     "metadata": {},
     "output_type": "execute_result"
    }
   ],
   "source": [
    "len(ct_sencell_indexs.keys())"
   ]
  },
  {
   "cell_type": "code",
   "execution_count": 14,
   "id": "2454fbbf",
   "metadata": {},
   "outputs": [
    {
     "name": "stderr",
     "output_type": "stream",
     "text": [
      "/bmbl_data/huchen/sencell_data1/.venv/lib/python3.9/site-packages/pandas/core/util/hashing.py:342: RuntimeWarning: invalid value encountered in cast\n",
      "  vals.astype(str).astype(object), hash_key, encoding\n",
      "/bmbl_data/huchen/sencell_data1/.venv/lib/python3.9/site-packages/pandas/core/util/hashing.py:342: RuntimeWarning: invalid value encountered in cast\n",
      "  vals.astype(str).astype(object), hash_key, encoding\n",
      "/bmbl_data/huchen/sencell_data1/.venv/lib/python3.9/site-packages/pandas/core/util/hashing.py:342: RuntimeWarning: invalid value encountered in cast\n",
      "  vals.astype(str).astype(object), hash_key, encoding\n"
     ]
    },
    {
     "name": "stdout",
     "output_type": "stream",
     "text": [
      "AnnData object with n_obs × n_vars = 24125 × 15844\n",
      "    obs: 'orig.ident', 'nCount_RNA', 'nFeature_RNA', 'percent.mt', 'Sample', 'Treatment', 'Injury', 'Status', 'Area', 'Type', 'Age', 'Age_Status', 'Sex', 'Treatment_Age_Status', 'Treatment_Age_Status_Sex', 'Treatment_Age_Status_Sex_Area', 'Names_Sample', 'Names_Age_Status', 'Names_Sample_Age_Status', 'nCount_SCT', 'nFeature_SCT', 'integrated_snn_res.0.2', 'seurat_clusters', 'integrated_snn_res.0.5', 'predicted.id', 'prediction.score.SCGB3A2..SCGB1A1..club', 'prediction.score.Plasma.cells', 'prediction.score.CD4..T.Cells', 'prediction.score.Goblet', 'prediction.score.B.cells', 'prediction.score.EC.Arterial', 'prediction.score.Smooth.muscle.cells', 'prediction.score.Ciliated', 'prediction.score.Proliferating.fibroblasts', 'prediction.score.AT2', 'prediction.score.SPP1..macrophages', 'prediction.score.Monocyte.derived.macrophage', 'prediction.score.Alveolar.fibroblasts', 'prediction.score.Mast.cells', 'prediction.score.Inflammatory.fibroblasts', 'prediction.score.AT1', 'prediction.score.Peribronchial.fibroblasts', 'prediction.score.CD8..T.Cells', 'prediction.score.Adventitial.fibroblasts', 'prediction.score.EC.Lymphatic', 'prediction.score.Subpleural.fibroblasts', 'prediction.score.Dendritic.cells', 'prediction.score.AT2.transitional', 'prediction.score.Monocyte', 'prediction.score.Basal', 'prediction.score.Pericyte', 'prediction.score.Fibrotic.fibroblast', 'prediction.score.Alveolar.macrophages', 'prediction.score.MUC5B..club', 'prediction.score.EC.Venous', 'prediction.score.NK.cells', 'prediction.score.EC.General.capillary', 'prediction.score.KRT5..KRT17..cells', 'prediction.score.max', 'predicted.id.score', 'clusters', 'n_genes'\n",
      "    var: 'n_cells', 'highly_variable', 'means', 'dispersions', 'dispersions_norm'\n",
      "    uns: 'log1p', 'hvg'\n"
     ]
    }
   ],
   "source": [
    "import scanpy as sc\n",
    "\n",
    "def getHVGindex(adata):\n",
    "    sc.pp.normalize_total(adata, target_sum=1e4)\n",
    "    sc.pp.log1p(adata)\n",
    "    sc.pp.highly_variable_genes(adata, min_mean=0.0125, max_mean=3, min_disp=0.5)\n",
    "    return adata\n",
    "\n",
    "HVG_adata = getHVGindex(new_data.copy())\n",
    "print(HVG_adata)"
   ]
  },
  {
   "cell_type": "code",
   "execution_count": 15,
   "id": "c546f2ef",
   "metadata": {},
   "outputs": [
    {
     "name": "stdout",
     "output_type": "stream",
     "text": [
      "[23, 25, 27, 30, 32, 33, 34, 37, 58, 82, 87, 88, 99, 110, 115, 135, 147, 150, 152, 153, 154, 174, 186, 194, 195, 197, 199, 204, 221, 231, 234, 237, 238, 240, 242, 244, 245, 246, 250, 251, 253, 254, 255, 257, 258, 259, 260, 261, 262, 263, 264, 265, 266, 269, 277, 280, 281, 282, 287, 288, 290, 294, 301, 309, 311, 312, 313, 316, 317, 318, 321, 325, 334, 341, 349, 352, 354, 355, 356, 362, 363, 367, 368, 371, 379, 385, 389, 407, 410, 411, 427, 429, 430, 435, 439, 445, 453, 469, 473, 489, 494, 500, 526, 537, 539, 542, 543, 558, 568, 587, 594, 595, 598, 606, 612, 632, 652, 657, 670, 672, 674, 678, 679, 684, 686, 700, 701, 736, 738, 743, 752, 753, 757, 760, 762, 764, 765, 767, 768, 769, 771, 772, 775, 779, 792, 793, 798, 804, 805, 822, 830, 837, 840, 843, 854, 858, 861, 863, 864, 867, 869, 873, 874, 882, 895, 906, 914, 931, 932, 968, 978, 980, 993, 1017, 1023, 1029, 1032, 1035, 1052, 1054, 1085, 1093, 1096, 1097, 1100, 1103, 1109, 1137, 1148, 1162, 1206, 1210, 1212, 1218, 1231, 1245, 1255, 1270, 1275, 1276, 1286, 1314, 1315, 1316, 1317, 1326, 1344, 1348, 1355, 1361, 1363, 1367, 1373, 1380, 1383, 1386, 1406, 1410, 1411, 1415, 1421, 1429, 1443, 1445, 1477, 1493, 1512, 1515, 1536, 1537, 1549, 1553, 1560, 1566, 1571, 1572, 1576, 1578, 1585, 1587, 1590, 1638, 1639, 1641, 1642, 1648, 1649, 1652, 1664, 1668, 1672, 1682, 1688, 1690, 1692, 1700, 1701, 1712, 1721, 1723, 1731, 1734, 1735, 1743, 1746, 1754, 1760, 1764, 1773, 1792, 1797, 1809, 1810, 1816, 1821, 1828, 1829, 1832, 1833, 1840, 1851, 1853, 1855, 1861, 1875, 1878, 1883, 1885, 1891, 1898, 1907, 1912, 1920, 1922, 1926, 1927, 1939, 1951, 1960, 1963, 1965, 1979, 1983, 1986, 1988, 1991, 2015, 2021, 2027, 2039, 2042, 2054, 2068, 2081, 2082, 2083, 2084, 2093, 2096, 2101, 2116, 2120, 2125, 2127, 2128, 2137, 2138, 2139, 2152, 2153, 2155, 2156, 2157, 2158, 2159, 2160, 2162, 2163, 2165, 2166, 2167, 2168, 2169, 2171, 2175, 2193, 2203, 2204, 2205, 2206, 2207, 2208, 2209, 2226, 2228, 2229, 2230, 2232, 2233, 2235, 2236, 2238, 2240, 2241, 2242, 2243, 2244, 2245, 2246, 2247, 2248, 2249, 2250, 2251, 2252, 2253, 2255, 2258, 2260, 2263, 2267, 2268, 2269, 2270, 2271, 2272, 2274, 2277, 2280, 2281, 2282, 2286, 2287, 2290, 2291, 2292, 2293, 2295, 2296, 2297, 2300, 2301, 2303, 2304, 2306, 2307, 2317, 2318, 2333, 2354, 2355, 2357, 2358, 2360, 2361, 2366, 2370, 2371, 2380, 2407, 2422, 2424, 2429, 2430, 2449, 2450, 2457, 2463, 2466, 2522, 2525, 2526, 2529, 2531, 2541, 2543, 2544, 2545, 2546, 2548, 2553, 2554, 2555, 2558, 2559, 2560, 2563, 2569, 2578, 2579, 2581, 2608, 2609, 2614, 2631, 2633, 2641, 2643, 2671, 2687, 2690, 2691, 2696, 2701, 2704, 2720, 2722, 2733, 2734, 2735, 2739, 2745, 2748, 2754, 2755, 2756, 2757, 2759, 2761, 2766, 2768, 2770, 2772, 2773, 2775, 2777, 2778, 2780, 2781, 2782, 2787, 2788, 2789, 2801, 2802, 2807, 2824, 2828, 2838, 2840, 2865, 2894, 2898, 2925, 2926, 2927, 2928, 2929, 2930, 2931, 2932, 2934, 2935, 2939, 2940, 2941, 2942, 2944, 2947, 2949, 2950, 2951, 2952, 2953, 2956, 2957, 2958, 2959, 2962, 2963, 2965, 2969, 2981, 3034, 3047, 3049, 3056, 3065, 3072, 3073, 3085, 3093, 3094, 3095, 3097, 3102, 3117, 3125, 3127, 3128, 3134, 3137, 3138, 3143, 3144, 3149, 3160, 3162, 3173, 3174, 3175, 3176, 3177, 3194, 3205, 3229, 3230, 3232, 3235, 3245, 3247, 3248, 3249, 3251, 3254, 3257, 3264, 3289, 3290, 3292, 3293, 3294, 3295, 3296, 3297, 3298, 3299, 3300, 3301, 3302, 3312, 3313, 3327, 3329, 3342, 3343, 3344, 3345, 3355, 3360, 3363, 3377, 3388, 3389, 3390, 3394, 3395, 3396, 3398, 3412, 3414, 3451, 3453, 3454, 3459, 3469, 3504, 3541, 3546, 3554, 3560, 3561, 3574, 3578, 3579, 3583, 3585, 3599, 3602, 3603, 3608, 3617, 3630, 3662, 3664, 3671, 3676, 3677, 3682, 3684, 3693, 3695, 3704, 3711, 3720, 3722, 3726, 3727, 3728, 3734, 3736, 3737, 3738, 3742, 3743, 3761, 3786, 3805, 3806, 3814, 3818, 3840, 3867, 3875, 3876, 3877, 3896, 3898, 3902, 3904, 3909, 3931, 3938, 3939, 3940, 3969, 3972, 3979, 3983, 3987, 4006, 4008, 4009, 4012, 4014, 4027, 4028, 4046, 4055, 4056, 4057, 4060, 4070, 4076, 4078, 4082, 4083, 4085, 4158, 4167, 4176, 4194, 4204, 4209, 4210, 4212, 4218, 4219, 4223, 4232, 4241, 4242, 4243, 4244, 4248, 4249, 4260, 4277, 4284, 4288, 4314, 4331, 4333, 4344, 4352, 4354, 4355, 4372, 4403, 4404, 4417, 4418, 4422, 4443, 4446, 4448, 4454, 4458, 4460, 4469, 4470, 4471, 4472, 4486, 4490, 4495, 4497, 4512, 4513, 4522, 4528, 4537, 4548, 4560, 4565, 4566, 4585, 4588, 4592, 4606, 4612, 4637, 4649, 4666, 4675, 4676, 4684, 4690, 4692, 4693, 4694, 4696, 4699, 4711, 4732, 4761, 4762, 4764, 4766, 4769, 4770, 4771, 4772, 4774, 4778, 4779, 4780, 4781, 4782, 4783, 4784, 4802, 4810, 4812, 4814, 4815, 4819, 4821, 4823, 4824, 4825, 4828, 4830, 4836, 4837, 4839, 4842, 4843, 4848, 4849, 4851, 4855, 4862, 4874, 4879, 4893, 4894, 4897, 4899, 4900, 4901, 4902, 4907, 4913, 4914, 4917, 4930, 4937, 4938, 4941, 4942, 4947, 4948, 4950, 4957, 4961, 4966, 4971, 4977, 4982, 4987, 4988, 4989, 4999, 5003, 5006, 5013, 5016, 5018, 5023, 5024, 5025, 5030, 5031, 5036, 5043, 5056, 5057, 5063, 5066, 5072, 5078, 5097, 5099, 5102, 5109, 5121, 5122, 5147, 5156, 5157, 5158, 5159, 5160, 5161, 5175, 5176, 5177, 5179, 5180, 5183, 5191, 5194, 5202, 5204, 5206, 5210, 5231, 5238, 5262, 5267, 5269, 5270, 5272, 5273, 5281, 5282, 5283, 5286, 5287, 5288, 5296, 5317, 5324, 5330, 5339, 5341, 5366, 5372, 5379, 5384, 5386, 5397, 5415, 5440, 5441, 5461, 5463, 5471, 5475, 5483, 5486, 5491, 5494, 5498, 5503, 5505, 5507, 5512, 5514, 5515, 5519, 5527, 5528, 5537, 5538, 5541, 5546, 5557, 5563, 5571, 5577, 5579, 5589, 5595, 5597, 5603, 5624, 5625, 5677, 5678, 5693, 5694, 5695, 5696, 5697, 5723, 5725, 5726, 5728, 5733, 5734, 5749, 5750, 5751, 5752, 5754, 5764, 5779, 5780, 5797, 5806, 5808, 5809, 5824, 5826, 5828, 5830, 5832, 5833, 5840, 5842, 5852, 5853, 5860, 5865, 5867, 5871, 5885, 5886, 5887, 5892, 5894, 5895, 5896, 5903, 5904, 5908, 5919, 5921, 5926, 5927, 5945, 5946, 5967, 5976, 5981, 5993, 5996, 6009, 6011, 6012, 6016, 6020, 6021, 6023, 6034, 6037, 6042, 6043, 6045, 6046, 6047, 6055, 6076, 6081, 6085, 6086, 6090, 6091, 6094, 6098, 6099, 6100, 6104, 6106, 6111, 6114, 6117, 6120, 6121, 6129, 6132, 6145, 6146, 6151, 6162, 6167, 6173, 6178, 6179, 6183, 6187, 6208, 6227, 6229, 6230, 6231, 6232, 6233, 6234, 6237, 6238, 6239, 6241, 6245, 6250, 6253, 6254, 6257, 6259, 6263, 6265, 6277, 6278, 6280, 6281, 6283, 6285, 6288, 6296, 6297, 6298, 6299, 6300, 6303, 6304, 6308, 6309, 6340, 6343, 6344, 6345, 6356, 6362, 6365, 6393, 6403, 6415, 6431, 6433, 6447, 6453, 6458, 6462, 6463, 6464, 6465, 6467, 6469, 6470, 6471, 6472, 6473, 6474, 6477, 6481, 6482, 6486, 6487, 6489, 6494, 6495, 6496, 6500, 6502, 6518, 6524, 6525, 6529, 6533, 6535, 6539, 6551, 6557, 6562, 6575, 6598, 6601, 6602, 6614, 6619, 6625, 6626, 6641, 6642, 6647, 6648, 6652, 6654, 6665, 6693, 6708, 6715, 6740, 6742, 6791, 6804, 6806, 6821, 6824, 6833, 6854, 6858, 6862, 6866, 6871, 6872, 6873, 6874, 6877, 6879, 6880, 6881, 6882, 6883, 6884, 6885, 6886, 6888, 6924, 6926, 6927, 6928, 6930, 6932, 6934, 6936, 6937, 6938, 6939, 6960, 6968, 6969, 6981, 6986, 6990, 6994, 6995, 6996, 6999, 7000, 7025, 7029, 7039, 7044, 7046, 7047, 7048, 7054, 7055, 7061, 7062, 7067, 7078, 7082, 7084, 7099, 7100, 7101, 7102, 7103, 7110, 7113, 7114, 7120, 7121, 7123, 7124, 7126, 7130, 7131, 7146, 7150, 7153, 7173, 7180, 7185, 7187, 7202, 7203, 7205, 7207, 7221, 7222, 7232, 7237, 7250, 7254, 7263, 7268, 7273, 7280, 7293, 7309, 7311, 7324, 7331, 7332, 7335, 7337, 7356, 7359, 7360, 7362, 7365, 7366, 7370, 7371, 7372, 7379, 7381, 7383, 7384, 7385, 7391, 7396, 7404, 7406, 7421, 7422, 7423, 7427, 7440, 7450, 7451, 7471, 7477, 7498, 7499, 7502, 7504, 7527, 7528, 7541, 7543, 7567, 7576, 7588, 7597, 7598, 7625, 7631, 7633, 7634, 7651, 7656, 7663, 7713, 7715, 7716, 7721, 7728, 7734, 7735, 7742, 7779, 7780, 7782, 7806, 7820, 7825, 7835, 7867, 7875, 7909, 7912, 7915, 7916, 7918, 7921, 7923, 7925, 7926, 7933, 7939, 7940, 7941, 7944, 7950, 7958, 7967, 7968, 7973, 7980, 7981, 7984, 7985, 7986, 7994, 8005, 8007, 8016, 8028, 8034, 8035, 8036, 8037, 8038, 8040, 8041, 8043, 8044, 8060, 8061, 8064, 8072, 8088, 8092, 8093, 8094, 8119, 8131, 8152, 8163, 8167, 8168, 8169, 8170, 8176, 8183, 8184, 8185, 8188, 8190, 8192, 8194, 8211, 8212, 8221, 8227, 8229, 8240, 8248, 8259, 8262, 8269, 8271, 8273, 8274, 8283, 8297, 8299, 8319, 8320, 8323, 8334, 8343, 8346, 8356, 8385, 8386, 8388, 8391, 8403, 8406, 8407, 8420, 8421, 8423, 8425, 8434, 8494, 8507, 8514, 8515, 8516, 8521, 8522, 8523, 8530, 8532, 8533, 8536, 8537, 8543, 8549, 8578, 8580, 8582, 8609, 8610, 8611, 8630, 8637, 8649, 8653, 8658, 8659, 8660, 8662, 8672, 8694, 8697, 8699, 8704, 8705, 8706, 8707, 8709, 8715, 8738, 8740, 8742, 8746, 8750, 8752, 8758, 8765, 8766, 8770, 8771, 8772, 8773, 8775, 8780, 8783, 8788, 8794, 8795, 8797, 8841, 8847, 8849, 8851, 8854, 8886, 8889, 8919, 8929, 8935, 8940, 8942, 8946, 8953, 8962, 8981, 8984, 8990, 8995, 8997, 8999, 9026, 9043, 9073, 9098, 9100, 9101, 9106, 9107, 9116, 9133, 9139, 9142, 9146, 9153, 9160, 9169, 9175, 9178, 9179, 9185, 9194, 9197, 9198, 9202, 9205, 9216, 9233, 9244, 9256, 9260, 9263, 9278, 9288, 9289, 9291, 9292, 9293, 9294, 9297, 9313, 9314, 9315, 9317, 9334, 9336, 9337, 9340, 9355, 9373, 9376, 9386, 9398, 9403, 9404, 9405, 9406, 9412, 9417, 9423, 9424, 9427, 9428, 9438, 9441, 9444, 9447, 9450, 9462, 9465, 9469, 9474, 9479, 9482, 9522, 9529, 9535, 9547, 9551, 9557, 9574, 9591, 9593, 9597, 9612, 9613, 9614, 9629, 9630, 9631, 9645, 9658, 9663, 9668, 9670, 9675, 9698, 9700, 9713, 9715, 9724, 9727, 9731, 9737, 9739, 9743, 9745, 9748, 9763, 9765, 9768, 9774, 9776, 9780, 9781, 9785, 9789, 9802, 9809, 9812, 9818, 9821, 9825, 9828, 9831, 9832, 9835, 9841, 9858, 9859, 9860, 9861, 9866, 9869, 9871, 9886, 9892, 9897, 9900, 9915, 9917, 9937, 9999, 10005, 10007, 10018, 10019, 10022, 10026, 10041, 10048, 10071, 10075, 10082, 10083, 10097, 10112, 10147, 10150, 10153, 10155, 10163, 10164, 10176, 10180, 10181, 10183, 10185, 10189, 10206, 10210, 10235, 10237, 10238, 10254, 10274, 10275, 10278, 10286, 10290, 10292, 10293, 10298, 10305, 10306, 10311, 10312, 10318, 10322, 10380, 10389, 10393, 10398, 10408, 10409, 10412, 10413, 10416, 10422, 10424, 10437, 10440, 10443, 10446, 10447, 10459, 10461, 10470, 10479, 10494, 10510, 10558, 10560, 10567, 10572, 10582, 10589, 10598, 10613, 10655, 10659, 10660, 10661, 10665, 10672, 10679, 10680, 10689, 10696, 10700, 10701, 10702, 10707, 10708, 10709, 10712, 10713, 10716, 10717, 10718, 10722, 10724, 10757, 10791, 10796, 10801, 10815, 10819, 10822, 10831, 10849, 10850, 10861, 10862, 10866, 10885, 10894, 10904, 10909, 10911, 10913, 10915, 10916, 10917, 10921, 10924, 10925, 10926, 10927, 10928, 10941, 10952, 10953, 10979, 10982, 10997, 10998, 11016, 11018, 11021, 11029, 11031, 11036, 11041, 11043, 11055, 11062, 11063, 11065, 11074, 11124, 11125, 11126, 11132, 11178, 11186, 11188, 11203, 11209, 11216, 11217, 11230, 11254, 11260, 11270, 11280, 11283, 11287, 11288, 11290, 11292, 11294, 11295, 11298, 11300, 11301, 11302, 11303, 11305, 11318, 11321, 11323, 11326, 11332, 11344, 11352, 11360, 11369, 11383, 11384, 11391, 11393, 11398, 11402, 11403, 11412, 11415, 11418, 11419, 11422, 11423, 11431, 11441, 11455, 11474, 11511, 11520, 11524, 11525, 11527, 11530, 11532, 11533, 11541, 11542, 11556, 11561, 11562, 11578, 11579, 11585, 11593, 11598, 11610, 11636, 11639, 11640, 11641, 11653, 11665, 11683, 11684, 11685, 11686, 11688, 11690, 11709, 11713, 11714, 11719, 11724, 11730, 11767, 11768, 11773, 11774, 11776, 11804, 11814, 11823, 11824, 11827, 11828, 11839, 11841, 11858, 11864, 11873, 11874, 11875, 11897, 11900, 11917, 11921, 11933, 11950, 11952, 11956, 11967, 11972, 11980, 12030, 12032, 12055, 12065, 12069, 12084, 12087, 12099, 12100, 12109, 12112, 12118, 12122, 12127, 12137, 12150, 12151, 12153, 12155, 12156, 12160, 12167, 12176, 12249, 12254, 12259, 12267, 12277, 12280, 12289, 12291, 12293, 12324, 12342, 12350, 12359, 12361, 12362, 12369, 12371, 12374, 12378, 12382, 12390, 12391, 12394, 12396, 12401, 12409, 12413, 12414, 12419, 12421, 12428, 12463, 12464, 12472, 12475, 12480, 12482, 12490, 12492, 12494, 12496, 12498, 12499, 12512, 12515, 12519, 12524, 12555, 12567, 12570, 12571, 12598, 12610, 12636, 12639, 12640, 12641, 12643, 12651, 12652, 12659, 12661, 12665, 12671, 12672, 12673, 12674, 12676, 12687, 12700, 12705, 12706, 12713, 12758, 12774, 12775, 12780, 12781, 12803, 12804, 12806, 12815, 12830, 12831, 12837, 12841, 12843, 12854, 12856, 12873, 12875, 12876, 12877, 12894, 12927, 12928, 12931, 12976, 13022, 13026, 13027, 13028, 13030, 13032, 13034, 13036, 13038, 13053, 13056, 13061, 13065, 13069, 13083, 13088, 13104, 13110, 13115, 13116, 13117, 13122, 13131, 13139, 13143, 13176, 13180, 13182, 13188, 13189, 13190, 13193, 13216, 13217, 13218, 13219, 13223, 13240, 13241, 13248, 13258, 13260, 13269, 13287, 13290, 13304, 13312, 13313, 13321, 13327, 13337, 13338, 13339, 13359, 13379, 13415, 13428, 13440, 13451, 13466, 13473, 13478, 13496, 13497, 13502, 13518, 13529, 13530, 13542, 13547, 13548, 13572, 13574, 13600, 13615, 13619, 13629, 13631, 13633, 13638, 13639, 13641, 13642, 13645, 13646, 13648, 13649, 13650, 13652, 13657, 13659, 13661, 13663, 13666, 13672, 13676, 13681, 13685, 13693, 13699, 13716, 13730, 13733, 13739, 13753, 13762, 13765, 13769, 13770, 13771, 13772, 13781, 13783, 13788, 13818, 13819, 13820, 13821, 13825, 13826, 13829, 13831, 13832, 13834, 13838, 13855, 13862, 13874, 13878, 13883, 13889, 13931, 13933, 13943, 13951, 13958, 13968, 13974, 13976, 13982, 13983, 13984, 13987, 13988, 13992, 13993, 13997, 14024, 14029, 14033, 14045, 14061, 14070, 14071, 14085, 14087, 14111, 14119, 14121, 14132, 14142, 14155, 14172, 14173, 14204, 14242, 14250, 14254, 14291, 14301, 14304, 14305, 14348, 14368, 14429, 14447, 14449, 14451, 14453, 14454, 14466, 14467, 14472, 14475, 14477, 14479, 14480, 14482, 14492, 14493, 14534, 14539, 14545, 14548, 14554, 14555, 14556, 14557, 14561, 14565, 14591, 14613, 14623, 14635, 14649, 14660, 14663, 14666, 14671, 14672, 14684, 14685, 14686, 14687, 14691, 14697, 14705, 14707, 14714, 14717, 14720, 14728, 14784, 14804, 14806, 14808, 14818, 14823, 14835, 14848, 14869, 14890, 14901, 14910, 14971, 15003, 15038, 15044, 15064, 15091, 15100, 15136, 15156, 15166, 15212, 15225, 15248, 15255, 15264, 15265, 15303, 15327, 15367, 15377, 15460, 15463, 15551, 15552, 15554, 15555, 15556, 15560, 15563, 15564, 15565, 15567, 15569, 15570, 15571, 15572, 15573, 15574, 15576, 15577, 15578, 15579, 15580, 15588, 15590, 15593, 15594, 15599, 15601, 15602, 15603, 15604, 15607, 15608, 15609, 15610, 15612, 15613, 15614, 15615, 15616, 15619, 15622, 15627, 15628, 15629, 15630, 15633, 15637, 15638, 15639, 15640, 15641, 15642, 15644, 15645, 15646, 15654, 15655, 15658, 15663, 15665, 15666, 15667, 15668, 15670, 15671, 15674, 15678, 15679, 15682, 15684, 15690, 15691, 15692, 15701, 15707, 15709, 15713, 15717, 15718, 15719, 15722, 15723, 15728, 15737, 15740, 15748, 15753, 15754, 15755, 15761, 15783, 15786, 15787, 15789, 15794, 15796, 15798, 15802, 15819, 15823, 15824, 15825, 15827, 15832, 15838, 15839]\n"
     ]
    }
   ],
   "source": [
    "HVG_var = HVG_adata.var.reset_index()\n",
    "high_gene_indexs = list(HVG_var[HVG_var['highly_variable'] == True].index)\n",
    "print(high_gene_indexs)"
   ]
  },
  {
   "cell_type": "code",
   "execution_count": 16,
   "id": "9cb1c3c2-4207-4bef-bc5f-5dc7e3b82786",
   "metadata": {},
   "outputs": [],
   "source": [
    "def identify_sengene_v1(sencell_dict,gene_cell,edge_index_selfloop,attention_scores,\n",
    "                        sen_gene_ls,ct_sencell_indexs, high_gene_indexs):\n",
    "    attention_scores=attention_scores.detach().to('cpu')\n",
    "    edge_index_selfloop=edge_index_selfloop.detach().to('cpu')\n",
    "\n",
    " \n",
    "    num_genes = gene_cell.shape[0]\n",
    "    num_cells = gene_cell.shape[1]\n",
    "    cell_mask_template = torch.zeros(num_genes + num_cells, dtype=torch.bool)\n",
    "\n",
    "    # NOTE: gene_scores for each gene, actually only for sen_gen_ls is enough\n",
    "    # return gene_scores\n",
    "    gene_scores=[]\n",
    "    for gene_index in range(num_genes):\n",
    "        # NOTE: high varible genes top 3k\n",
    "        if gene_index in sen_gene_ls or gene_index in high_gene_indexs:\n",
    "            # 保存一个基因在8个ct的snc上的score\n",
    "            ct_scores=[]  \n",
    "            for key,value in ct_sencell_indexs.items():\n",
    "            \n",
    "                cell_index=value\n",
    "                cell_index=torch.tensor(cell_index)\n",
    "                \n",
    "                cell_mask = cell_mask_template.clone()\n",
    "                cell_mask[cell_index] = True\n",
    "                \n",
    "                connected_cells=edge_index_selfloop[0][edge_index_selfloop[1] == gene_index]\n",
    "                \n",
    "                if len(connected_cells[cell_mask[connected_cells]])==0:\n",
    "                    ct_scores.append(torch.tensor(0))\n",
    "                    # print(f'no sencell in this gene {gene_index}')\n",
    "                else:\n",
    "                    # print('caculate attention')\n",
    "                #     tmp=attention_scores[edge_index_selfloop[1] == gene_index]\n",
    "                #     attention_edge=torch.sum(tmp[cell_mask[connected_cells]],axis=1)\n",
    "                #     cell_mask_normal=~cell_mask\n",
    "                #     attention_edge_normal=torch.sum(attention_scores[edge_index_selfloop[1] == gene_index][cell_mask_normal[connected_cells]],axis=1)\n",
    "                # #     #print(cell_mask,cell_mask_normal)\n",
    "                # #     # print(attention_edge,attention_edge_normal)\n",
    "                #     attention_s=torch.mean(attention_edge)\n",
    "                #     attention_normal=torch.mean(attention_edge_normal)\n",
    "                    \n",
    "                #     attention_s=attention_s-attention_normal\n",
    "                # #     # print(attention_s)\n",
    "                # #     # ct_scores[key] = attention_s.item()\n",
    "                #     ct_scores.append(attention_s)\n",
    "                    ct_scores.append(torch.tensor(0.1))\n",
    "        # 只计算老化基因还是对所有基因\n",
    "        # if gene_index in sen_gene_ls:\n",
    "        #     # print(\"sng:\",attention_s)\n",
    "            gene_scores.append(ct_scores)\n",
    "        else:\n",
    "            gene_scores.append([torch.tensor(0)] * 8)\n",
    "\n",
    "        \n",
    "    return gene_scores\n",
    "\n",
    "gene_scores=identify_sengene_v1(\n",
    "        sencell_dict,new_data.X.T,edge_index_selfloop,attention_scores,sen_gene_ls,ct_sencell_indexs, high_gene_indexs)"
   ]
  },
  {
   "cell_type": "code",
   "execution_count": 30,
   "id": "97f5c5f6",
   "metadata": {},
   "outputs": [],
   "source": [
    "gene_scores=torch.tensor(gene_scores)\n",
    "filtered_gene_scores=[]\n",
    "filtered_gene_names=[]\n",
    "for i in range(gene_scores.shape[0]):\n",
    "    if torch.sum(gene_scores[i])!=0:\n",
    "        filtered_gene_names.append(new_data.var.index[i])\n",
    "        filtered_gene_scores.append(gene_scores[i])\n",
    "\n",
    "filtered_gene_scores=torch.stack(filtered_gene_scores)"
   ]
  },
  {
   "cell_type": "code",
   "execution_count": 32,
   "id": "08409e96",
   "metadata": {},
   "outputs": [
    {
     "data": {
      "text/plain": [
       "torch.Size([2268, 8])"
      ]
     },
     "execution_count": 32,
     "metadata": {},
     "output_type": "execute_result"
    }
   ],
   "source": [
    "filtered_gene_scores.shape"
   ]
  },
  {
   "cell_type": "code",
   "execution_count": 33,
   "id": "ee94c3f3",
   "metadata": {},
   "outputs": [
    {
     "name": "stdout",
     "output_type": "stream",
     "text": [
      "torch.Size([2268])\n",
      "AT2 23\n",
      "torch.Size([2268])\n",
      "CD4+ T Cells 5\n",
      "torch.Size([2268])\n",
      "Dendritic cells 5\n",
      "torch.Size([2268])\n",
      "Fibrotic fibroblast 24\n",
      "torch.Size([2268])\n",
      "Smooth muscle cells 11\n",
      "torch.Size([2268])\n",
      "EC Venous 12\n",
      "torch.Size([2268])\n",
      "Plasma cells 48\n",
      "torch.Size([2268])\n",
      "EC General capillary 12\n"
     ]
    }
   ],
   "source": [
    "def calculate_outliers(scores):\n",
    "    counts=0\n",
    "    snc_index=[]\n",
    "\n",
    "    scores_ls=[]\n",
    "    \n",
    "    Q1 = np.percentile(scores, 25)\n",
    "    Q3 = np.percentile(scores, 75)\n",
    "    IQR = Q3 - Q1\n",
    "    lower_bound = Q1 - 1.5 * IQR\n",
    "    upper_bound = Q3 + 1.5 * IQR\n",
    "    \n",
    "    for i,score in enumerate(scores): \n",
    "        if score > upper_bound:\n",
    "            counts+=1\n",
    "            snc_index.append(i)\n",
    "            scores_ls.append(score)\n",
    "    \n",
    "    return counts,snc_index,scores_ls\n",
    "\n",
    "gene_deepsas={}\n",
    "\n",
    "gene_names=list(new_data.var_names)\n",
    "gene_names_sub=[gene_names[i] for i in sen_gene_ls]\n",
    "\n",
    "for i,(key,value) in enumerate(ct_sencell_indexs.items()):\n",
    "    scores=filtered_gene_scores[:,i]\n",
    "    print(scores.shape)\n",
    "    counts,sng_index,scores_ls=calculate_outliers(scores)\n",
    "    # 计算在每个cluster里面有多少离群gene\n",
    "    # 就是table1\n",
    "    print(key,counts)\n",
    "    sng_names=[[filtered_gene_names[i],float(scores_ls[j])] for j,i in enumerate(sng_index)]\n",
    "    gene_deepsas[key]=sng_names\n",
    "\n",
    "\n",
    "rows = []\n",
    "for cell_type, genes in gene_deepsas.items():\n",
    "    for gene, score in genes:\n",
    "        rows.append([cell_type, gene, score])\n",
    "\n",
    "df1 = pd.DataFrame(rows, columns=['Cell Type', 'Gene Name', 'Score']) ###table 1\n",
    "\n",
    "df1.to_csv(\"repro_table1.csv\",index=0)"
   ]
  },
  {
   "cell_type": "code",
   "execution_count": 34,
   "id": "6f4828b1",
   "metadata": {},
   "outputs": [
    {
     "name": "stdout",
     "output_type": "stream",
     "text": [
      "AT2 6354\n",
      "Plasma cells 8088\n",
      "CD4+ T Cells 4371\n",
      "Smooth muscle cells 7444\n",
      "Dendritic cells 6784\n",
      "Fibrotic fibroblast 6126\n",
      "EC Venous 7324\n",
      "EC General capillary 7433\n",
      "Fibrotic fibroblast 9\n",
      "EC Venous 7\n",
      "CD4+ T Cells 1\n",
      "Plasma cells 4\n",
      "AT2 3\n",
      "Smooth muscle cells 5\n",
      "EC General capillary 6\n",
      "Dendritic cells 3\n"
     ]
    },
    {
     "name": "stderr",
     "output_type": "stream",
     "text": [
      "/tmp/ipykernel_3780808/3929356287.py:33: SettingWithCopyWarning: \n",
      "A value is trying to be set on a copy of a slice from a DataFrame.\n",
      "Try using .loc[row_indexer,col_indexer] = value instead\n",
      "\n",
      "See the caveats in the documentation: https://pandas.pydata.org/pandas-docs/stable/user_guide/indexing.html#returning-a-view-versus-a-copy\n",
      "  t['cell type']=ct\n"
     ]
    }
   ],
   "source": [
    "filtered_degs={}\n",
    "for key,value in deg_results_full.items():\n",
    "    filtered_genes=value[(value['logFC']>=0.25)]['gene'].tolist()\n",
    "    #print(key, filtered_genes)\n",
    "    filtered_degs[key]=filtered_genes\n",
    "    print(key,len(filtered_genes))\n",
    "    \n",
    "results=[]\n",
    "for key,value in deg_results_full.items():\n",
    "    deg_results_full[key]['cell type']=key\n",
    "    results.append(deg_results_full[key])\n",
    "\n",
    "pd.concat(results).to_csv(\"./1.csv\")\n",
    "gene_deepsas_names={}\n",
    "for key,value in gene_deepsas.items():\n",
    "    gene_names=[line[0] for line in value]\n",
    "    gene_deepsas_names[key]=gene_names\n",
    "gene_deepsas_names\n",
    "\n",
    "# For table 2\n",
    "overlap_genes={}\n",
    "for ct in selected_ct:\n",
    "    ls1=set(gene_deepsas_names[ct])\n",
    "    ls2=set(filtered_degs[ct])\n",
    "    ls3=ls1.intersection(ls2)\n",
    "    print(ct, len(ls3))\n",
    "    overlap_genes[ct]=list(ls3)    \n",
    "\n",
    "table2=[]\n",
    "for ct in selected_ct:\n",
    "    t=deg_results_full[ct]\n",
    "    t=t[t['gene'].isin(overlap_genes[ct])]\n",
    "    t['cell type']=ct\n",
    "    table2.append(t)\n",
    "\n",
    "table2=pd.concat(table2)\n",
    "\n",
    "table2.to_csv(\"repro_table2.csv\",index=0)\n",
    "# The genes in table 3 is unique gene only occur in one cell type, I use excel to manually select genes in table3\n",
    "# No code to generate table3"
   ]
  }
 ],
 "metadata": {
  "kernelspec": {
   "display_name": ".venv",
   "language": "python",
   "name": "python3"
  },
  "language_info": {
   "codemirror_mode": {
    "name": "ipython",
    "version": 3
   },
   "file_extension": ".py",
   "mimetype": "text/x-python",
   "name": "python",
   "nbconvert_exporter": "python",
   "pygments_lexer": "ipython3",
   "version": "3.9.20"
  }
 },
 "nbformat": 4,
 "nbformat_minor": 5
}
