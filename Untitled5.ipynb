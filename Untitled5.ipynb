{
 "cells": [
  {
   "cell_type": "code",
   "execution_count": 1,
   "id": "6e560d4f",
   "metadata": {},
   "outputs": [],
   "source": [
    "import scanpy as sp"
   ]
  },
  {
   "cell_type": "code",
   "execution_count": 2,
   "id": "aa42d2af",
   "metadata": {},
   "outputs": [],
   "source": [
    "adata=sp.read_h5ad(\"./data/combined_g8.h5ad\")"
   ]
  },
  {
   "cell_type": "code",
   "execution_count": 3,
   "id": "ed3d9dc8",
   "metadata": {
    "scrolled": true
   },
   "outputs": [
    {
     "data": {
      "text/plain": [
       "AnnData object with n_obs × n_vars = 46009 × 24543\n",
       "    obs: 'orig.ident', 'nCount_RNA', 'nFeature_RNA', 'percent.ribo', 'percent.mito', 'count.mad.higher', 'integrated_snn_res.0.2', 'seurat_clusters', 'cell_type_seurat', 'disease', 'location'\n",
       "    var: 'vst.mean', 'vst.variance', 'vst.variance.expected', 'vst.variance.standardized', 'vst.variable'\n",
       "    obsm: 'X_pca', 'X_umap'"
      ]
     },
     "execution_count": 3,
     "metadata": {},
     "output_type": "execute_result"
    }
   ],
   "source": [
    "adata"
   ]
  },
  {
   "cell_type": "code",
   "execution_count": 6,
   "id": "82551078",
   "metadata": {
    "scrolled": true
   },
   "outputs": [
    {
     "data": {
      "text/plain": [
       "SCB01S5     10784\n",
       "SCB01S4      6012\n",
       "SCB01S7      5996\n",
       "SCB01S8      5730\n",
       "SCB01S1      5452\n",
       "SCB01S2      4433\n",
       "SCB01S10     4260\n",
       "SCB01S9      3342\n",
       "Name: orig.ident, dtype: int64"
      ]
     },
     "execution_count": 6,
     "metadata": {},
     "output_type": "execute_result"
    }
   ],
   "source": [
    "adata.obs['orig.ident']=='SCB01S5'"
   ]
  },
  {
   "cell_type": "code",
   "execution_count": 15,
   "id": "4dee5661",
   "metadata": {},
   "outputs": [
    {
     "data": {
      "text/plain": [
       "View of AnnData object with n_obs × n_vars = 10445 × 24543\n",
       "    obs: 'orig.ident', 'nCount_RNA', 'nFeature_RNA', 'percent.ribo', 'percent.mito', 'count.mad.higher', 'integrated_snn_res.0.2', 'seurat_clusters', 'cell_type_seurat', 'disease', 'location'\n",
       "    var: 'vst.mean', 'vst.variance', 'vst.variance.expected', 'vst.variance.standardized', 'vst.variable'\n",
       "    obsm: 'X_pca', 'X_umap'"
      ]
     },
     "execution_count": 15,
     "metadata": {},
     "output_type": "execute_result"
    }
   ],
   "source": []
  },
  {
   "cell_type": "code",
   "execution_count": 10,
   "id": "960e5a76",
   "metadata": {},
   "outputs": [
    {
     "data": {
      "text/plain": [
       "View of AnnData object with n_obs × n_vars = 7602 × 24543\n",
       "    obs: 'orig.ident', 'nCount_RNA', 'nFeature_RNA', 'percent.ribo', 'percent.mito', 'count.mad.higher', 'integrated_snn_res.0.2', 'seurat_clusters', 'cell_type_seurat', 'disease', 'location'\n",
       "    var: 'vst.mean', 'vst.variance', 'vst.variance.expected', 'vst.variance.standardized', 'vst.variable'\n",
       "    obsm: 'X_pca', 'X_umap'"
      ]
     },
     "execution_count": 10,
     "metadata": {},
     "output_type": "execute_result"
    }
   ],
   "source": [
    "adata[adata.obs['disease'] == 'Healthy']"
   ]
  },
  {
   "cell_type": "code",
   "execution_count": 16,
   "id": "9862e77e",
   "metadata": {},
   "outputs": [],
   "source": []
  },
  {
   "cell_type": "code",
   "execution_count": 18,
   "id": "3c0d4070",
   "metadata": {},
   "outputs": [
    {
     "data": {
      "text/html": [
       "<div>\n",
       "<style scoped>\n",
       "    .dataframe tbody tr th:only-of-type {\n",
       "        vertical-align: middle;\n",
       "    }\n",
       "\n",
       "    .dataframe tbody tr th {\n",
       "        vertical-align: top;\n",
       "    }\n",
       "\n",
       "    .dataframe thead th {\n",
       "        text-align: right;\n",
       "    }\n",
       "</style>\n",
       "<table border=\"1\" class=\"dataframe\">\n",
       "  <thead>\n",
       "    <tr style=\"text-align: right;\">\n",
       "      <th></th>\n",
       "      <th>orig.ident</th>\n",
       "      <th>nCount_RNA</th>\n",
       "      <th>nFeature_RNA</th>\n",
       "      <th>percent.ribo</th>\n",
       "      <th>percent.mito</th>\n",
       "      <th>count.mad.higher</th>\n",
       "      <th>integrated_snn_res.0.2</th>\n",
       "      <th>seurat_clusters</th>\n",
       "      <th>cell_type_seurat</th>\n",
       "      <th>disease</th>\n",
       "      <th>location</th>\n",
       "    </tr>\n",
       "  </thead>\n",
       "  <tbody>\n",
       "    <tr>\n",
       "      <th>AAACCCACACGTCGTG-1_2</th>\n",
       "      <td>SCB01S2</td>\n",
       "      <td>1841.0</td>\n",
       "      <td>756</td>\n",
       "      <td>15.915263</td>\n",
       "      <td>3.965236</td>\n",
       "      <td>False</td>\n",
       "      <td>1</td>\n",
       "      <td>1</td>\n",
       "      <td>1</td>\n",
       "      <td>IPF</td>\n",
       "      <td>LL</td>\n",
       "    </tr>\n",
       "    <tr>\n",
       "      <th>AAACCCACATTGAGCT-1_2</th>\n",
       "      <td>SCB01S2</td>\n",
       "      <td>11016.0</td>\n",
       "      <td>3013</td>\n",
       "      <td>7.734205</td>\n",
       "      <td>3.885258</td>\n",
       "      <td>False</td>\n",
       "      <td>0</td>\n",
       "      <td>0</td>\n",
       "      <td>0</td>\n",
       "      <td>IPF</td>\n",
       "      <td>LL</td>\n",
       "    </tr>\n",
       "    <tr>\n",
       "      <th>AAACCCAGTGCCAAGA-1_2</th>\n",
       "      <td>SCB01S2</td>\n",
       "      <td>968.0</td>\n",
       "      <td>586</td>\n",
       "      <td>11.053719</td>\n",
       "      <td>2.789256</td>\n",
       "      <td>False</td>\n",
       "      <td>1</td>\n",
       "      <td>1</td>\n",
       "      <td>1</td>\n",
       "      <td>IPF</td>\n",
       "      <td>LL</td>\n",
       "    </tr>\n",
       "    <tr>\n",
       "      <th>AAACCCATCCAATGCA-1_2</th>\n",
       "      <td>SCB01S2</td>\n",
       "      <td>768.0</td>\n",
       "      <td>541</td>\n",
       "      <td>11.458333</td>\n",
       "      <td>3.776042</td>\n",
       "      <td>False</td>\n",
       "      <td>2</td>\n",
       "      <td>2</td>\n",
       "      <td>2</td>\n",
       "      <td>IPF</td>\n",
       "      <td>LL</td>\n",
       "    </tr>\n",
       "    <tr>\n",
       "      <th>AAACCCATCCCATGGG-1_2</th>\n",
       "      <td>SCB01S2</td>\n",
       "      <td>3678.0</td>\n",
       "      <td>1329</td>\n",
       "      <td>9.923872</td>\n",
       "      <td>4.078303</td>\n",
       "      <td>False</td>\n",
       "      <td>1</td>\n",
       "      <td>1</td>\n",
       "      <td>1</td>\n",
       "      <td>IPF</td>\n",
       "      <td>LL</td>\n",
       "    </tr>\n",
       "    <tr>\n",
       "      <th>...</th>\n",
       "      <td>...</td>\n",
       "      <td>...</td>\n",
       "      <td>...</td>\n",
       "      <td>...</td>\n",
       "      <td>...</td>\n",
       "      <td>...</td>\n",
       "      <td>...</td>\n",
       "      <td>...</td>\n",
       "      <td>...</td>\n",
       "      <td>...</td>\n",
       "      <td>...</td>\n",
       "    </tr>\n",
       "    <tr>\n",
       "      <th>TTTGTTGCAACACGAG-1_8</th>\n",
       "      <td>SCB01S10</td>\n",
       "      <td>18338.0</td>\n",
       "      <td>5062</td>\n",
       "      <td>19.200567</td>\n",
       "      <td>7.672592</td>\n",
       "      <td>False</td>\n",
       "      <td>4</td>\n",
       "      <td>4</td>\n",
       "      <td>Epithelial cells</td>\n",
       "      <td>Healthy</td>\n",
       "      <td>NA</td>\n",
       "    </tr>\n",
       "    <tr>\n",
       "      <th>TTTGTTGCATCGGAGA-1_8</th>\n",
       "      <td>SCB01S10</td>\n",
       "      <td>10306.0</td>\n",
       "      <td>2805</td>\n",
       "      <td>23.529983</td>\n",
       "      <td>9.877741</td>\n",
       "      <td>False</td>\n",
       "      <td>4</td>\n",
       "      <td>4</td>\n",
       "      <td>Epithelial cells</td>\n",
       "      <td>Healthy</td>\n",
       "      <td>NA</td>\n",
       "    </tr>\n",
       "    <tr>\n",
       "      <th>TTTGTTGGTATGCTAC-1_8</th>\n",
       "      <td>SCB01S10</td>\n",
       "      <td>10829.0</td>\n",
       "      <td>3357</td>\n",
       "      <td>19.438545</td>\n",
       "      <td>8.495706</td>\n",
       "      <td>False</td>\n",
       "      <td>4</td>\n",
       "      <td>4</td>\n",
       "      <td>Epithelial cells</td>\n",
       "      <td>Healthy</td>\n",
       "      <td>NA</td>\n",
       "    </tr>\n",
       "    <tr>\n",
       "      <th>TTTGTTGGTGGTTCTA-1_8</th>\n",
       "      <td>SCB01S10</td>\n",
       "      <td>19756.0</td>\n",
       "      <td>4940</td>\n",
       "      <td>16.278599</td>\n",
       "      <td>6.565094</td>\n",
       "      <td>False</td>\n",
       "      <td>4</td>\n",
       "      <td>4</td>\n",
       "      <td>Epithelial cells</td>\n",
       "      <td>Healthy</td>\n",
       "      <td>NA</td>\n",
       "    </tr>\n",
       "    <tr>\n",
       "      <th>TTTGTTGGTTTCGACA-1_8</th>\n",
       "      <td>SCB01S10</td>\n",
       "      <td>16334.0</td>\n",
       "      <td>4189</td>\n",
       "      <td>23.429656</td>\n",
       "      <td>2.406024</td>\n",
       "      <td>False</td>\n",
       "      <td>6</td>\n",
       "      <td>6</td>\n",
       "      <td>Fibroblasts-Pericytes</td>\n",
       "      <td>Healthy</td>\n",
       "      <td>NA</td>\n",
       "    </tr>\n",
       "  </tbody>\n",
       "</table>\n",
       "<p>18047 rows × 11 columns</p>\n",
       "</div>"
      ],
      "text/plain": [
       "                     orig.ident  nCount_RNA  nFeature_RNA  percent.ribo  \\\n",
       "AAACCCACACGTCGTG-1_2    SCB01S2      1841.0           756     15.915263   \n",
       "AAACCCACATTGAGCT-1_2    SCB01S2     11016.0          3013      7.734205   \n",
       "AAACCCAGTGCCAAGA-1_2    SCB01S2       968.0           586     11.053719   \n",
       "AAACCCATCCAATGCA-1_2    SCB01S2       768.0           541     11.458333   \n",
       "AAACCCATCCCATGGG-1_2    SCB01S2      3678.0          1329      9.923872   \n",
       "...                         ...         ...           ...           ...   \n",
       "TTTGTTGCAACACGAG-1_8   SCB01S10     18338.0          5062     19.200567   \n",
       "TTTGTTGCATCGGAGA-1_8   SCB01S10     10306.0          2805     23.529983   \n",
       "TTTGTTGGTATGCTAC-1_8   SCB01S10     10829.0          3357     19.438545   \n",
       "TTTGTTGGTGGTTCTA-1_8   SCB01S10     19756.0          4940     16.278599   \n",
       "TTTGTTGGTTTCGACA-1_8   SCB01S10     16334.0          4189     23.429656   \n",
       "\n",
       "                      percent.mito  count.mad.higher integrated_snn_res.0.2  \\\n",
       "AAACCCACACGTCGTG-1_2      3.965236             False                      1   \n",
       "AAACCCACATTGAGCT-1_2      3.885258             False                      0   \n",
       "AAACCCAGTGCCAAGA-1_2      2.789256             False                      1   \n",
       "AAACCCATCCAATGCA-1_2      3.776042             False                      2   \n",
       "AAACCCATCCCATGGG-1_2      4.078303             False                      1   \n",
       "...                            ...               ...                    ...   \n",
       "TTTGTTGCAACACGAG-1_8      7.672592             False                      4   \n",
       "TTTGTTGCATCGGAGA-1_8      9.877741             False                      4   \n",
       "TTTGTTGGTATGCTAC-1_8      8.495706             False                      4   \n",
       "TTTGTTGGTGGTTCTA-1_8      6.565094             False                      4   \n",
       "TTTGTTGGTTTCGACA-1_8      2.406024             False                      6   \n",
       "\n",
       "                     seurat_clusters       cell_type_seurat  disease location  \n",
       "AAACCCACACGTCGTG-1_2               1                      1      IPF       LL  \n",
       "AAACCCACATTGAGCT-1_2               0                      0      IPF       LL  \n",
       "AAACCCAGTGCCAAGA-1_2               1                      1      IPF       LL  \n",
       "AAACCCATCCAATGCA-1_2               2                      2      IPF       LL  \n",
       "AAACCCATCCCATGGG-1_2               1                      1      IPF       LL  \n",
       "...                              ...                    ...      ...      ...  \n",
       "TTTGTTGCAACACGAG-1_8               4       Epithelial cells  Healthy       NA  \n",
       "TTTGTTGCATCGGAGA-1_8               4       Epithelial cells  Healthy       NA  \n",
       "TTTGTTGGTATGCTAC-1_8               4       Epithelial cells  Healthy       NA  \n",
       "TTTGTTGGTGGTTCTA-1_8               4       Epithelial cells  Healthy       NA  \n",
       "TTTGTTGGTTTCGACA-1_8               6  Fibroblasts-Pericytes  Healthy       NA  \n",
       "\n",
       "[18047 rows x 11 columns]"
      ]
     },
     "execution_count": 18,
     "metadata": {},
     "output_type": "execute_result"
    }
   ],
   "source": [
    "adata1.obs"
   ]
  },
  {
   "cell_type": "code",
   "execution_count": null,
   "id": "e9b77140",
   "metadata": {},
   "outputs": [],
   "source": []
  }
 ],
 "metadata": {
  "kernelspec": {
   "display_name": "Python (DeepMAPS)",
   "language": "python",
   "name": "deepmaps"
  },
  "language_info": {
   "codemirror_mode": {
    "name": "ipython",
    "version": 3
   },
   "file_extension": ".py",
   "mimetype": "text/x-python",
   "name": "python",
   "nbconvert_exporter": "python",
   "pygments_lexer": "ipython3",
   "version": "3.8.5"
  }
 },
 "nbformat": 4,
 "nbformat_minor": 5
}
