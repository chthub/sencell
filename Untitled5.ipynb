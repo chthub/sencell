{
 "cells": [
  {
   "cell_type": "code",
   "execution_count": 12,
   "id": "74686c4e",
   "metadata": {},
   "outputs": [],
   "source": [
    "results=[]"
   ]
  },
  {
   "cell_type": "code",
   "execution_count": null,
   "id": "c66c55a7",
   "metadata": {},
   "outputs": [],
   "source": []
  },
  {
   "cell_type": "code",
   "execution_count": 14,
   "id": "a46757e3",
   "metadata": {},
   "outputs": [
    {
     "name": "stdout",
     "output_type": "stream",
     "text": [
      "\n",
      "====== Part 1: load and process data ======\n",
      "                     orig.ident  nCount_RNA  nFeature_RNA  percent.ribo  \\\n",
      "AAACCCAGTAGCTTAC-1_7    SCB01S9      7963.0          2384     23.320357   \n",
      "AAACGAAAGTGCAAAT-1_7    SCB01S9     10125.0          3448     17.106173   \n",
      "AAACGAACACCTCAGG-1_7    SCB01S9      7893.0          2779     23.083745   \n",
      "AAACGCTCAAGACTGG-1_7    SCB01S9      1361.0           873      5.069802   \n",
      "AAACGCTCACCCTATC-1_7    SCB01S9     14995.0          4031     19.093031   \n",
      "\n",
      "                      percent.mito  count.mad.higher integrated_snn_res.0.2  \\\n",
      "AAACCCAGTAGCTTAC-1_7     10.573904             False                      4   \n",
      "AAACGAAAGTGCAAAT-1_7     14.775309             False                      9   \n",
      "AAACGAACACCTCAGG-1_7      6.398074             False                      4   \n",
      "AAACGCTCAAGACTGG-1_7      8.670096             False                      1   \n",
      "AAACGCTCACCCTATC-1_7      3.867956             False                      6   \n",
      "\n",
      "                     seurat_clusters       cell_type_seurat  disease location  \\\n",
      "AAACCCAGTAGCTTAC-1_7               4       Epithelial cells  Healthy       NA   \n",
      "AAACGAAAGTGCAAAT-1_7               9                      9  Healthy       NA   \n",
      "AAACGAACACCTCAGG-1_7               4       Epithelial cells  Healthy       NA   \n",
      "AAACGCTCAAGACTGG-1_7               1                      1  Healthy       NA   \n",
      "AAACGCTCACCCTATC-1_7               6  Fibroblasts-Pericytes  Healthy       NA   \n",
      "\n",
      "                     ann_level_3_pred  \n",
      "AAACCCAGTAGCTTAC-1_7            Basal  \n",
      "AAACGAAAGTGCAAAT-1_7            Basal  \n",
      "AAACGAACACCTCAGG-1_7            Basal  \n",
      "AAACGCTCAAGACTGG-1_7      Fibroblasts  \n",
      "AAACGCTCACCCTATC-1_7      Fibroblasts  \n",
      "cluster 数量： 12\n",
      "celltype names: ['Fibroblasts', 'Basal', 'Unknown', 'Secretory', 'None', 'Myofibroblasts', 'Multiciliated lineage', 'Rare', 'EC capillary', 'EC arterial', 'T cell lineage', 'Submucosal Secretory']\n",
      "---------------------  ----\n",
      "Fibroblasts            1450\n",
      "Basal                  1403\n",
      "Unknown                 741\n",
      "Secretory                73\n",
      "None                     62\n",
      "Myofibroblasts           47\n",
      "Multiciliated lineage    20\n",
      "Rare                      1\n",
      "EC capillary              1\n",
      "EC arterial               1\n",
      "T cell lineage            1\n",
      "Submucosal Secretory      1\n",
      "---------------------  ----\n",
      "各marker list所包含的gene数：\n",
      "  Markers1    Markers2    Markers3    Markers4\n",
      "----------  ----------  ----------  ----------\n",
      "       126          78         145          84\n",
      "total marker genes:  380\n"
     ]
    },
    {
     "name": "stderr",
     "output_type": "stream",
     "text": [
      "/home/chenghao/.conda/envs/sencell/lib/python3.7/site-packages/anndata/compat/_overloaded_dict.py:106: ImplicitModificationWarning: Trying to modify attribute `._uns` of view, initializing view as actual.\n",
      "  self.data[key] = value\n"
     ]
    },
    {
     "name": "stdout",
     "output_type": "stream",
     "text": [
      "highly_genes num:  2000\n",
      "After highly genes dropped duplicate:  1897\n",
      "Total gene num: 2240\n",
      "cell num: 3801, gene num: 2240\n",
      "The number of edges: 1234461\n"
     ]
    },
    {
     "name": "stderr",
     "output_type": "stream",
     "text": [
      "# 2023-01-04 09:51:55.435 [INFO] [3529215334.py:108] Part 1, data loading and processing end!\n"
     ]
    },
    {
     "name": "stdout",
     "output_type": "stream",
     "text": [
      "\n",
      "====== Part 1: load and process data ======\n",
      "                     orig.ident  nCount_RNA  nFeature_RNA  percent.ribo  \\\n",
      "AAACCCAAGACCTCAT-1_7    SCB01S9      9608.0          2997     23.043297   \n",
      "AAACCCAGTCTCGGAC-1_7    SCB01S9     15611.0          4070     20.491961   \n",
      "AAACGAAAGGCAGGGA-1_7    SCB01S9     19211.0          4306     25.547863   \n",
      "AAACGAACACAGCATT-1_7    SCB01S9      9237.0          3090     19.313630   \n",
      "AAACGAACACGGCTAC-1_7    SCB01S9      9373.0          2766     25.658807   \n",
      "\n",
      "                      percent.mito  count.mad.higher integrated_snn_res.0.2  \\\n",
      "AAACCCAAGACCTCAT-1_7      2.445878             False                      1   \n",
      "AAACCCAGTCTCGGAC-1_7      3.330985             False                      1   \n",
      "AAACGAAAGGCAGGGA-1_7      5.189735             False                      6   \n",
      "AAACGAACACAGCATT-1_7     13.034535             False                      4   \n",
      "AAACGAACACGGCTAC-1_7      3.606103             False                      0   \n",
      "\n",
      "                     seurat_clusters       cell_type_seurat  disease location  \\\n",
      "AAACCCAAGACCTCAT-1_7               1                      1  Healthy       NA   \n",
      "AAACCCAGTCTCGGAC-1_7               1                      1  Healthy       NA   \n",
      "AAACGAAAGGCAGGGA-1_7               6  Fibroblasts-Pericytes  Healthy       NA   \n",
      "AAACGAACACAGCATT-1_7               4       Epithelial cells  Healthy       NA   \n",
      "AAACGAACACGGCTAC-1_7               0                      0  Healthy       NA   \n",
      "\n",
      "                     ann_level_3_pred  \n",
      "AAACCCAAGACCTCAT-1_7          Unknown  \n",
      "AAACCCAGTCTCGGAC-1_7      Fibroblasts  \n",
      "AAACGAAAGGCAGGGA-1_7      Fibroblasts  \n",
      "AAACGAACACAGCATT-1_7            Basal  \n",
      "AAACGAACACGGCTAC-1_7          Unknown  \n",
      "cluster 数量： 10\n",
      "celltype names: ['Basal', 'Fibroblasts', 'Unknown', 'Secretory', 'Myofibroblasts', 'None', 'Multiciliated lineage', 'Mast cells', 'Submucosal Secretory', 'Rare']\n",
      "---------------------  ----\n",
      "Basal                  1416\n",
      "Fibroblasts            1372\n",
      "Unknown                 793\n",
      "Secretory                81\n",
      "Myofibroblasts           62\n",
      "None                     52\n",
      "Multiciliated lineage    22\n",
      "Mast cells                1\n",
      "Submucosal Secretory      1\n",
      "Rare                      1\n",
      "---------------------  ----\n",
      "各marker list所包含的gene数：\n",
      "  Markers1    Markers2    Markers3    Markers4\n",
      "----------  ----------  ----------  ----------\n",
      "       126          78         145          84\n",
      "total marker genes:  380\n"
     ]
    },
    {
     "name": "stderr",
     "output_type": "stream",
     "text": [
      "/home/chenghao/.conda/envs/sencell/lib/python3.7/site-packages/anndata/compat/_overloaded_dict.py:106: ImplicitModificationWarning: Trying to modify attribute `._uns` of view, initializing view as actual.\n",
      "  self.data[key] = value\n"
     ]
    },
    {
     "name": "stdout",
     "output_type": "stream",
     "text": [
      "highly_genes num:  2000\n",
      "After highly genes dropped duplicate:  1911\n",
      "Total gene num: 2254\n",
      "cell num: 3801, gene num: 2254\n",
      "The number of edges: 1180068\n"
     ]
    },
    {
     "name": "stderr",
     "output_type": "stream",
     "text": [
      "# 2023-01-04 09:52:05.124 [INFO] [3529215334.py:108] Part 1, data loading and processing end!\n"
     ]
    },
    {
     "name": "stdout",
     "output_type": "stream",
     "text": [
      "\n",
      "====== Part 1: load and process data ======\n",
      "cluster 数量： 13\n",
      "celltype names: ['Fibroblasts', 'Basal', 'Unknown', 'Secretory', 'None', 'Myofibroblasts', 'Multiciliated lineage', 'Rare', 'Submucosal Secretory', 'Mast cells', 'EC capillary', 'EC arterial', 'T cell lineage']\n",
      "---------------------  ----\n",
      "Fibroblasts            2822\n",
      "Basal                  2819\n",
      "Unknown                1534\n",
      "Secretory               154\n",
      "None                    114\n",
      "Myofibroblasts          109\n",
      "Multiciliated lineage    42\n",
      "Rare                      2\n",
      "Submucosal Secretory      2\n",
      "Mast cells                1\n",
      "EC capillary              1\n",
      "EC arterial               1\n",
      "T cell lineage            1\n",
      "---------------------  ----\n",
      "各marker list所包含的gene数：\n",
      "  Markers1    Markers2    Markers3    Markers4\n",
      "----------  ----------  ----------  ----------\n",
      "       126          78         145          84\n",
      "total marker genes:  380\n",
      "highly_genes num:  2000\n",
      "After highly genes dropped duplicate:  1901\n",
      "Total gene num: 2244\n",
      "cell num: 7602, gene num: 2244\n",
      "The number of edges: 2276908\n"
     ]
    },
    {
     "name": "stderr",
     "output_type": "stream",
     "text": [
      "# 2023-01-04 09:52:17.305 [INFO] [3529215334.py:108] Part 1, data loading and processing end!\n"
     ]
    }
   ],
   "source": [
    "import numpy as np\n",
    "import seaborn as sns\n",
    "import torch\n",
    "\n",
    "import umap\n",
    "import matplotlib.pyplot as plt\n",
    "import pandas as pd\n",
    "from torch_geometric.utils import k_hop_subgraph, to_networkx, from_networkx\n",
    "import matplotlib\n",
    "\n",
    "import utils\n",
    "import plots\n",
    "from model_AE import reduction_AE\n",
    "from model_GAT import Encoder, SenGAE, train_GAT, train_GAT_new\n",
    "from model_Sencell import Sencell\n",
    "from sampling import sub_sampling_by_random\n",
    "from model_Sencell import cell_optim, update_cell_embeddings\n",
    "from sampling import identify_sengene_then_sencell\n",
    "\n",
    "import logging\n",
    "import os\n",
    "import argparse\n",
    "import random\n",
    "\n",
    "\n",
    "is_jupyter = True\n",
    "\n",
    "parser = argparse.ArgumentParser(description='Main program for sencells')\n",
    "\n",
    "parser.add_argument('--output_dir', type=str, default='./outputs', help='')\n",
    "parser.add_argument('--exp_name', type=str, default='', help='')\n",
    "parser.add_argument('--device_index', type=int, default=0, help='')\n",
    "parser.add_argument('--retrain', action='store_true', default=False, help='')\n",
    "\n",
    "parser.add_argument('--gat_epoch', type=int, default=30, help='')\n",
    "parser.add_argument('--sencell_num', type=int, default=100, help='')\n",
    "parser.add_argument('--cell_optim_epoch', type=int, default=15, help='')\n",
    "\n",
    "for exp_name,output_dir in zip(['h1_7','h2_8','healthy_9'],['./outputs/7/','./outputs/8/','./outputs/9/']):\n",
    "\n",
    "    if is_jupyter:\n",
    "        args = parser.parse_args(args=[])\n",
    "        args.exp_name = exp_name\n",
    "        args.output_dir=output_dir\n",
    "        args.retrain = False\n",
    "    else:\n",
    "        args = parser.parse_args()\n",
    "    args.is_jupyter = is_jupyter\n",
    "\n",
    "\n",
    "    # set random seed\n",
    "    seed=42\n",
    "    torch.manual_seed(seed)\n",
    "    torch.cuda.manual_seed(seed)\n",
    "    torch.cuda.manual_seed_all(seed)\n",
    "    np.random.seed(seed)\n",
    "    random.seed(seed)\n",
    "    os.environ['PYTHONHASHSEED'] = str(seed)\n",
    "    torch.backends.cudnn.deterministic = True\n",
    "    torch.backends.cudnn.benchmark = False\n",
    "\n",
    "\n",
    "    if not os.path.exists(args.output_dir):\n",
    "        os.makedirs(args.output_dir)\n",
    "\n",
    "    logging.basicConfig(format='%(asctime)s.%(msecs)03d [%(levelname)s] [%(filename)s:%(lineno)d] %(message)s',\n",
    "                        datefmt='# %Y-%m-%d %H:%M:%S')\n",
    "\n",
    "    logging.getLogger().setLevel(logging.INFO)\n",
    "    logger = logging.getLogger()\n",
    "\n",
    "    # Part 1: load and process data\n",
    "    # cell_cluster_arr在画umap的时候用\n",
    "    print(\"\\n====== Part 1: load and process data ======\")\n",
    "    if 's5' in args.exp_name:\n",
    "        adata, cluster_cell_ls, cell_cluster_arr, celltype_names = utils.load_data()\n",
    "    elif 'h1' in args.exp_name:\n",
    "        adata, cluster_cell_ls, cell_cluster_arr, celltype_names = utils.load_data_healthy1()\n",
    "    elif 'h2' in args.exp_name:\n",
    "        adata, cluster_cell_ls, cell_cluster_arr, celltype_names = utils.load_data_healthy2()\n",
    "    elif 'd1' in args.exp_name:\n",
    "        adata, cluster_cell_ls, cell_cluster_arr, celltype_names = utils.load_data_d1()\n",
    "    elif 'd2' in args.exp_name:\n",
    "        adata, cluster_cell_ls, cell_cluster_arr, celltype_names = utils.load_data_d2()\n",
    "    elif 'healthy' in args.exp_name:\n",
    "        adata, cluster_cell_ls, cell_cluster_arr, celltype_names = utils.load_data_healthy()\n",
    "    elif 'disease1' in args.exp_name:\n",
    "        adata, cluster_cell_ls, cell_cluster_arr, celltype_names = utils.load_data_disease1()\n",
    "    elif 'disease' in args.exp_name:\n",
    "        adata, cluster_cell_ls, cell_cluster_arr, celltype_names = utils.load_data_disease()\n",
    "    elif 'hd' in args.exp_name:\n",
    "        adata, cluster_cell_ls, cell_cluster_arr, celltype_names = utils.load_data_healthy_disease()\n",
    "\n",
    "    # plots.umapPlot(adata.obsm['X_umap'],clusters=cell_cluster_arr,labels=celltype_names)\n",
    "\n",
    "    new_data, markers_index,\\\n",
    "        sen_gene_ls, nonsen_gene_ls, gene_names = utils.process_data(\n",
    "            adata, cluster_cell_ls, cell_cluster_arr)\n",
    "\n",
    "    gene_cell = new_data.X.toarray().T\n",
    "    args.gene_num = gene_cell.shape[0]\n",
    "    args.cell_num = gene_cell.shape[1]\n",
    "\n",
    "    print(f'cell num: {new_data.shape[0]}, gene num: {new_data.shape[1]}')\n",
    "\n",
    "    graph_nx = utils.build_graph_nx(\n",
    "        new_data,gene_cell, cell_cluster_arr, sen_gene_ls, nonsen_gene_ls, gene_names)\n",
    "    logger.info(\"Part 1, data loading and processing end!\")\n",
    "\n",
    "\n",
    "    from utils import load_objs\n",
    "    cell_score_dict, big_graph_index_dict=load_objs(f\"{args.output_dir}{args.exp_name}_cell_score_dict\")\n",
    "\n",
    "    file_path=f'{args.output_dir}{args.exp_name}_outputs.data'\n",
    "    sencell_dict,sen_gene_indexs=torch.load(file_path)\n",
    "\n",
    "    cell_names=[]\n",
    "    for i in sencell_dict.keys():\n",
    "        cell_names.append(graph_nx.nodes[big_graph_index_dict[i]]['name'])\n",
    "        \n",
    "    results.append(cell_names)"
   ]
  },
  {
   "cell_type": "code",
   "execution_count": 22,
   "id": "3557b765",
   "metadata": {},
   "outputs": [
    {
     "name": "stdout",
     "output_type": "stream",
     "text": [
      "0.24675324675324675\n",
      "0.03896103896103896\n"
     ]
    }
   ],
   "source": [
    "set1=set(results[0])\n",
    "set2=set(results[1])\n",
    "set3=set(results[2])\n",
    "\n",
    "print(len(set3.intersection(set1))/len(set3))\n",
    "print(len(set3.intersection(set2))/len(set3))"
   ]
  },
  {
   "cell_type": "code",
   "execution_count": 21,
   "id": "271d2136",
   "metadata": {},
   "outputs": [
    {
     "data": {
      "text/plain": [
       "{'CTCAGTCAGACAACAT-1_8', 'GTCCCATTCCTGGTCT-1_7', 'TGGTAGTTCTCCCATG-1_8'}"
      ]
     },
     "execution_count": 21,
     "metadata": {},
     "output_type": "execute_result"
    }
   ],
   "source": [
    "set3.intersection(set2)"
   ]
  },
  {
   "cell_type": "code",
   "execution_count": null,
   "id": "0dcf96c8",
   "metadata": {},
   "outputs": [],
   "source": []
  }
 ],
 "metadata": {
  "kernelspec": {
   "display_name": "Python (sencell)",
   "language": "python",
   "name": "sencell"
  },
  "language_info": {
   "codemirror_mode": {
    "name": "ipython",
    "version": 3
   },
   "file_extension": ".py",
   "mimetype": "text/x-python",
   "name": "python",
   "nbconvert_exporter": "python",
   "pygments_lexer": "ipython3",
   "version": "3.7.15"
  }
 },
 "nbformat": 4,
 "nbformat_minor": 5
}
