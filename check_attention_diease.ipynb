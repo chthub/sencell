{
 "cells": [
  {
   "cell_type": "code",
   "execution_count": 1,
   "id": "f7863d6a",
   "metadata": {},
   "outputs": [
    {
     "name": "stderr",
     "output_type": "stream",
     "text": [
      "# 2022-11-30 08:18:32.160 [DEBUG] [attrs.py:77] Creating converter from 3 to 5\n"
     ]
    },
    {
     "name": "stdout",
     "output_type": "stream",
     "text": [
      "cluster 数量： 14\n",
      "celltype names: ['0', '1', '2', '3', '5', 'Epithelial cells', '7', '8', '10', 'Pericytes', 'Fibroblasts-Pericytes', '14', '9', 'Endothelial cells']\n",
      "---------------------  -----\n",
      "0                      10712\n",
      "1                       7273\n",
      "2                       5435\n",
      "3                       3923\n",
      "5                       2695\n",
      "Epithelial cells        2385\n",
      "7                       1630\n",
      "8                       1607\n",
      "10                       900\n",
      "Pericytes                571\n",
      "Fibroblasts-Pericytes    466\n",
      "14                       361\n",
      "9                        263\n",
      "Endothelial cells        186\n",
      "---------------------  -----\n",
      "各marker list所包含的gene数：\n",
      "  Markers1    Markers2    Markers3    Markers4\n",
      "----------  ----------  ----------  ----------\n",
      "       126          78         145          84\n",
      "total marker genes:  380\n",
      "highly_genes num:  2000\n",
      "After highly genes dropped duplicate:  1881\n",
      "highly genes里面有全0！！\n",
      "Total gene num: 2186\n",
      "cell num: 38407, gene num: 2186\n",
      "The number of edges: 5240183\n"
     ]
    },
    {
     "name": "stderr",
     "output_type": "stream",
     "text": [
      "# 2022-11-30 08:18:56.067 [INFO] [3306991342.py:53] Part 1, data loading and processing end!\n"
     ]
    },
    {
     "name": "stdout",
     "output_type": "stream",
     "text": [
      "device: cuda:0\n",
      "the number of edges: 5240183\n",
      "edge index:  torch.Size([2, 5240183])\n",
      "node feature:  torch.Size([40593, 128])\n",
      "Pyg graph: Data(x=[40593, 128], edge_index=[2, 10480366], y=[40593])\n"
     ]
    },
    {
     "name": "stderr",
     "output_type": "stream",
     "text": [
      "# 2022-11-30 08:19:05.125 [INFO] [3306991342.py:72] Part 2, AE end!\n",
      "# 2022-11-30 08:19:05.190 [INFO] [3306991342.py:82] Part 3, training GAT end!\n"
     ]
    },
    {
     "name": "stdout",
     "output_type": "stream",
     "text": [
      "graph.is_directed(): False\n"
     ]
    }
   ],
   "source": [
    "import numpy as np\n",
    "import seaborn as sns\n",
    "import torch\n",
    "\n",
    "import umap\n",
    "import matplotlib.pyplot as plt\n",
    "import pandas as pd\n",
    "from community import community_louvain\n",
    "from torch_geometric.utils import k_hop_subgraph,to_networkx,from_networkx\n",
    "import matplotlib\n",
    "\n",
    "import utils\n",
    "import plots\n",
    "from model_AE import reduction_AE\n",
    "from model_GAT import Encoder,SenGAE,train_GAT\n",
    "from model_Sencell import Sencell\n",
    "\n",
    "import logging\n",
    "import os\n",
    "import argparse\n",
    "\n",
    "\n",
    "parser = argparse.ArgumentParser(description='Main program for sencells')\n",
    "\n",
    "parser.add_argument('--output_dir', type=str, default='./outputs', help='')\n",
    "parser.add_argument('--exp_name', type=str, default='', help='')\n",
    "\n",
    "args = parser.parse_args(args=[])\n",
    "\n",
    "args.exp_name='disease'\n",
    "\n",
    "if not os.path.exists(args.output_dir):\n",
    "    os.makedirs(args.output_dir)\n",
    "\n",
    "logging.basicConfig(format='%(asctime)s.%(msecs)03d [%(levelname)s] [%(filename)s:%(lineno)d] %(message)s',\n",
    "                    datefmt='# %Y-%m-%d %H:%M:%S')\n",
    "\n",
    "logging.getLogger().setLevel(logging.DEBUG)\n",
    "logger = logging.getLogger()\n",
    "\n",
    "# Part 1: load and process data\n",
    "# cell_cluster_arr在画umap的时候用\n",
    "adata,cluster_cell_ls,cell_cluster_arr,celltype_names=utils.load_data_disease()\n",
    "# plots.umapPlot(adata.obsm['X_umap'],clusters=cell_cluster_arr,labels=celltype_names)\n",
    "\n",
    "new_data,markers_index,\\\n",
    "sen_gene_ls,nonsen_gene_ls,gene_names=utils.process_data(adata,cluster_cell_ls,cell_cluster_arr)\n",
    "\n",
    "print(f'cell num: {new_data.shape[0]}, gene num: {new_data.shape[1]}')\n",
    "\n",
    "gene_cell=new_data.X.toarray().T\n",
    "graph_nx=utils.build_graph_nx(gene_cell,cell_cluster_arr,sen_gene_ls,nonsen_gene_ls,gene_names)\n",
    "logger.info(\"Part 1, data loading and processing end!\")\n",
    "\n",
    "# Part 2: generate init embedding\n",
    "device = torch.device(\"cuda:0\" if torch.cuda.is_available() else \"cpu\")\n",
    "print('device:',device)\n",
    "args.device=device\n",
    "\n",
    "retrain=False\n",
    "if retrain:\n",
    "    gene_embed,cell_embed=reduction_AE(gene_cell,device)\n",
    "    print(gene_embed.shape,cell_embed.shape)\n",
    "    torch.save(gene_embed,os.path.join(args.output_dir,f'{args.exp_name}_gene.emb'))\n",
    "    torch.save(cell_embed,os.path.join(args.output_dir,f'{args.exp_name}_cell.emb'))\n",
    "else:\n",
    "    gene_embed=torch.load(os.path.join(args.output_dir,f'{args.exp_name}_gene.emb'))\n",
    "    cell_embed=torch.load(os.path.join(args.output_dir,f'{args.exp_name}_cell.emb'))\n",
    "\n",
    "graph_nx=utils.add_nx_embedding(graph_nx,gene_embed,cell_embed)\n",
    "graph_pyg=utils.build_graph_pyg(gene_cell,gene_embed,cell_embed)\n",
    "logger.info(\"Part 2, AE end!\")\n",
    "\n",
    "# Part 3: train GAT\n",
    "# graph_pyg=graph_pyg.to('cpu')\n",
    "args.gene_num=gene_cell.shape[0]\n",
    "args.cell_num=gene_cell.shape[1]\n",
    "\n",
    "\n",
    "\n",
    "GAT_model=train_GAT(graph_nx,graph_pyg,args,retrain=False,resampling=False)\n",
    "logger.info(\"Part 3, training GAT end!\")\n",
    "\n",
    "\n",
    "\n",
    "from sampling import identify_sencell_marker_graph\n",
    "from sampling import sub_sampling_by_random\n",
    "from model_Sencell import cell_optim,update_cell_embeddings,old_cell_optim\n",
    "\n",
    "from sampling import identify_sengene_then_sencell\n",
    "\n",
    "\n",
    "all_gene_ls=[]\n",
    "\n",
    "list_sencell_cover=[]\n",
    "list_sengene_cover=[]\n",
    "\n",
    "def get_sencell_cover(old_sencell_dict,sencell_dict):\n",
    "    set1=set(list(old_sencell_dict.keys()))\n",
    "    set2=set(list(sencell_dict.keys()))\n",
    "    set3=set1.intersection(set2)\n",
    "    print('sencell cover:',len(set3)/len(set2))\n",
    "    \n",
    "    return len(set3)/len(set2)\n",
    "\n",
    "def get_sengene_cover(old_sengene_ls,sengene_ls):\n",
    "    set1=set(old_sengene_ls)\n",
    "    set2=set(sengene_ls)\n",
    "    set3=set1.intersection(set2)\n",
    "    print('sengene cover:',len(set3)/len(set2))\n",
    "    \n",
    "    return len(set3)/len(set2)\n"
   ]
  },
  {
   "cell_type": "code",
   "execution_count": 2,
   "id": "bcc009f5",
   "metadata": {},
   "outputs": [
    {
     "name": "stderr",
     "output_type": "stream",
     "text": [
      "# 2022-11-30 08:19:05.199 [INFO] [<timed exec>:6] iteration: 0\n"
     ]
    },
    {
     "name": "stdout",
     "output_type": "stream",
     "text": [
      "Start sampling subgraph randomly ...\n",
      "    Sengene num: 362, Nonsengen num: 362\n",
      "subgraph total node num: (39131,)\n",
      "After sampling, gene num:  tensor(724)\n",
      "obj saved ./outputs/disease_cell_score_dict\n",
      "    Sencell num: 200, Nonsencell num: 2000\n",
      "CPU times: user 19min 35s, sys: 3.91 s, total: 19min 39s\n",
      "Wall time: 19min 41s\n"
     ]
    }
   ],
   "source": [
    "%%time\n",
    "import sampling\n",
    "all_marker_index=sen_gene_ls\n",
    "    \n",
    "iteration_results=[]\n",
    "for iteration in range(5):\n",
    "    logger.info(f\"iteration: {iteration}\")\n",
    "    sampled_graph,sencell_dict,nonsencell_dict,cell_clusters,big_graph_index_dict=sampling.sub_sampling_by_random(graph_nx,\n",
    "                                                            sen_gene_ls,\n",
    "                                                            nonsen_gene_ls,\n",
    "                                                            GAT_model,\n",
    "                                                            args,\n",
    "                                                            all_marker_index,\n",
    "                                                            n_gene=len(all_marker_index),                                                        \n",
    "                                                            gene_rate=0.3,cell_rate=0.5,\n",
    "                                                            debug=False)\n",
    "    break"
   ]
  },
  {
   "cell_type": "code",
   "execution_count": null,
   "id": "f9f30cd5",
   "metadata": {},
   "outputs": [],
   "source": []
  },
  {
   "cell_type": "code",
   "execution_count": null,
   "id": "4f8ba655",
   "metadata": {},
   "outputs": [],
   "source": []
  },
  {
   "cell_type": "code",
   "execution_count": null,
   "id": "a26a8032",
   "metadata": {},
   "outputs": [],
   "source": []
  },
  {
   "cell_type": "code",
   "execution_count": null,
   "id": "6dd136e2",
   "metadata": {},
   "outputs": [],
   "source": []
  },
  {
   "cell_type": "code",
   "execution_count": null,
   "id": "05cbce38",
   "metadata": {},
   "outputs": [],
   "source": []
  }
 ],
 "metadata": {
  "kernelspec": {
   "display_name": "Python (DeepMAPS)",
   "language": "python",
   "name": "deepmaps"
  },
  "language_info": {
   "codemirror_mode": {
    "name": "ipython",
    "version": 3
   },
   "file_extension": ".py",
   "mimetype": "text/x-python",
   "name": "python",
   "nbconvert_exporter": "python",
   "pygments_lexer": "ipython3",
   "version": "3.8.5"
  }
 },
 "nbformat": 4,
 "nbformat_minor": 5
}
