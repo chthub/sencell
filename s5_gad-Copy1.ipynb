{
 "cells": [
  {
   "cell_type": "code",
   "execution_count": 1,
   "id": "0fd08762",
   "metadata": {},
   "outputs": [
    {
     "name": "stderr",
     "output_type": "stream",
     "text": [
      "# 2022-12-02 16:12:43.094 [DEBUG] [attrs.py:77] Creating converter from 3 to 5\n"
     ]
    },
    {
     "name": "stdout",
     "output_type": "stream",
     "text": [
      "cluster 数量： 21\n",
      "celltype names: ['Macrophages', 'T cell lineage', 'Unknown', 'B cell lineage', 'Innate lymphoid cell NK', 'AT2', 'Monocytes', 'Multiciliated lineage', 'Dendritic cells', 'EC capillary', 'Mast cells', 'Fibroblasts', 'Secretory', 'EC venous', 'Lymphatic EC mature', 'AT1', 'Basal', 'EC arterial', 'Myofibroblasts', 'None', 'Submucosal Secretory']\n",
      "-----------------------  ----\n",
      "Macrophages              6941\n",
      "T cell lineage            749\n",
      "Unknown                   618\n",
      "B cell lineage            374\n",
      "Innate lymphoid cell NK   327\n",
      "AT2                       294\n",
      "Monocytes                 228\n",
      "Multiciliated lineage     194\n",
      "Dendritic cells           177\n",
      "EC capillary              138\n",
      "Mast cells                100\n",
      "Fibroblasts                93\n",
      "Secretory                  86\n",
      "EC venous                  74\n",
      "Lymphatic EC mature        68\n",
      "AT1                        27\n",
      "Basal                      26\n",
      "EC arterial                20\n",
      "Myofibroblasts             17\n",
      "None                        6\n",
      "Submucosal Secretory        1\n",
      "-----------------------  ----\n",
      "各marker list所包含的gene数：\n",
      "  Markers1    Markers2    Markers3    Markers4\n",
      "----------  ----------  ----------  ----------\n",
      "       126          78         145          84\n",
      "total marker genes:  380\n",
      "highly_genes num:  2000\n",
      "After highly genes dropped duplicate:  1935\n",
      "Total gene num: 2286\n",
      "cell num: 10558, gene num: 2286\n",
      "device:  cuda:0\n"
     ]
    }
   ],
   "source": [
    "import numpy as np\n",
    "import seaborn as sns\n",
    "import torch\n",
    "\n",
    "import umap\n",
    "import matplotlib.pyplot as plt\n",
    "import pandas as pd\n",
    "from community import community_louvain\n",
    "from torch_geometric.utils import k_hop_subgraph,to_networkx,from_networkx\n",
    "import matplotlib\n",
    "\n",
    "import utils\n",
    "import plots\n",
    "from model_AE import reduction_AE\n",
    "from model_GAT import Encoder,SenGAE,train_GAT\n",
    "from model_Sencell import Sencell\n",
    "\n",
    "import logging\n",
    "import os\n",
    "import argparse\n",
    "from tqdm import tqdm\n",
    "\n",
    "parser = argparse.ArgumentParser(description='Main program for sencells')\n",
    "\n",
    "parser.add_argument('--output_dir', type=str, default='./outputs', help='')\n",
    "parser.add_argument('--exp_name', type=str, default='', help='')\n",
    "\n",
    "args = parser.parse_args(args=[])\n",
    "\n",
    "args.exp_name='s5'\n",
    "\n",
    "if not os.path.exists(args.output_dir):\n",
    "    os.makedirs(args.output_dir)\n",
    "\n",
    "logging.basicConfig(format='%(asctime)s.%(msecs)03d [%(levelname)s] [%(filename)s:%(lineno)d] %(message)s',\n",
    "                    datefmt='# %Y-%m-%d %H:%M:%S')\n",
    "\n",
    "logging.getLogger().setLevel(logging.DEBUG)\n",
    "logger = logging.getLogger()\n",
    "\n",
    "# Part 1: load and process data\n",
    "# cell_cluster_arr在画umap的时候用\n",
    "adata,cluster_cell_ls,cell_cluster_arr,celltype_names=utils.load_data()\n",
    "# plots.umapPlot(adata.obsm['X_umap'],clusters=cell_cluster_arr,labels=celltype_names)\n",
    "\n",
    "new_data,markers_index,\\\n",
    "sen_gene_ls,nonsen_gene_ls,gene_names=utils.process_data(adata,cluster_cell_ls,cell_cluster_arr)\n",
    "\n",
    "print(f'cell num: {new_data.shape[0]}, gene num: {new_data.shape[1]}')\n",
    "\n",
    "gene_cell=new_data.X.toarray().T\n",
    "cell_gene=gene_cell.T\n",
    "device = torch.device(\"cuda:0\" if torch.cuda.is_available() else \"cpu\")\n",
    "print('device: ',device)"
   ]
  },
  {
   "cell_type": "code",
   "execution_count": 2,
   "id": "a1b8d116",
   "metadata": {},
   "outputs": [],
   "source": [
    "def get_simi(u1, u2):\n",
    "    # u1,u2必须是numpy.array，not tensor\n",
    "    nz_u1 = u1.nonzero()[0]\n",
    "    nz_u2 = u2.nonzero()[0]\n",
    "    nz_inter = np.array(list(set(nz_u1) & set(nz_u2)))\n",
    "    nz_union = np.array(list(set(nz_u1) | set(nz_u2)))\n",
    "    if len(nz_inter) == 0:\n",
    "        simi_score = 1 / (len(nz_union) + len(u1))\n",
    "    elif len(nz_inter) == len(nz_union):\n",
    "        simi_score = (len(nz_union) + len(u1) - 1) / (len(nz_union) + len(u1))\n",
    "    else:\n",
    "        simi_score = len(nz_inter) / len(nz_union)\n",
    "    return float(simi_score)\n",
    "\n",
    "def eucliDistance(v1,v2):\n",
    "    # 计算欧氏距离\n",
    "    return F.pairwise_distance(v1.view(1,-1),v2.view(1,-1),p=2)\n",
    "\n",
    "def loss_exp(v1,v2):\n",
    "    return torch.exp(-0.1*eucliDistance(v1,v2))\n",
    "\n",
    "# sim1_ls=[]\n",
    "# cell_gene=gene_cell.T\n",
    "# for i in tqdm(range(cell_gene.shape[0])):\n",
    "#     for j in range(i+1,cell_gene.shape[0]):\n",
    "#         v1=cell_gene[i]\n",
    "#         v2=cell_gene[j]\n",
    "#         sim1=get_simi(v1,v2)\n",
    "#         sim1_ls.append(sim1)"
   ]
  },
  {
   "cell_type": "code",
   "execution_count": null,
   "id": "e449b461",
   "metadata": {},
   "outputs": [],
   "source": [
    "# torch.save(sim1_ls,\"./outputs/sim1_ls\")"
   ]
  },
  {
   "cell_type": "code",
   "execution_count": 16,
   "id": "d7b608a4",
   "metadata": {},
   "outputs": [
    {
     "data": {
      "text/plain": [
       "tensor([[0., 1.],\n",
       "        [1., 0.]])"
      ]
     },
     "execution_count": 16,
     "metadata": {},
     "output_type": "execute_result"
    }
   ],
   "source": [
    "a = torch.tensor([[1.,  2], [1., 1]])\n",
    "# b = torch.tensor([[1., 0], [0.,  0],[-1,-1]])\n",
    "torch.cdist(a, a, p=2)"
   ]
  },
  {
   "cell_type": "code",
   "execution_count": null,
   "id": "6f0e360b",
   "metadata": {},
   "outputs": [],
   "source": []
  },
  {
   "cell_type": "code",
   "execution_count": null,
   "id": "afabe6e2",
   "metadata": {},
   "outputs": [],
   "source": []
  },
  {
   "cell_type": "code",
   "execution_count": null,
   "id": "88529211",
   "metadata": {},
   "outputs": [],
   "source": []
  },
  {
   "cell_type": "code",
   "execution_count": null,
   "id": "58864f64",
   "metadata": {},
   "outputs": [],
   "source": []
  },
  {
   "cell_type": "code",
   "execution_count": 17,
   "id": "6e602ae8",
   "metadata": {},
   "outputs": [
    {
     "name": "stdout",
     "output_type": "stream",
     "text": [
      "CPU times: user 102 ms, sys: 24.7 ms, total: 126 ms\n",
      "Wall time: 125 ms\n"
     ]
    }
   ],
   "source": [
    "%%time\n",
    "import torch\n",
    "from torch import nn, optim\n",
    "from torch.nn import functional as F\n",
    "import torch.utils.data as Data\n",
    "import numpy as np\n",
    "\n",
    "\n",
    "class AE(nn.Module):\n",
    "    def __init__(self, dim, emb_dim=128):\n",
    "        super(AE, self).__init__()\n",
    "        self.dim = dim\n",
    "        self.fc1 = nn.Linear(dim, 512)\n",
    "        self.fc2 = nn.Linear(512, emb_dim)\n",
    "        self.fc3 = nn.Linear(emb_dim, 512)\n",
    "        self.fc4 = nn.Linear(512, dim)\n",
    "\n",
    "    def encode(self, x):\n",
    "        h1 = F.relu(self.fc1(x))\n",
    "        return F.relu(self.fc2(h1))\n",
    "\n",
    "    def decode(self, z):\n",
    "        h3 = F.relu(self.fc3(z))\n",
    "        return torch.relu(self.fc4(h3))\n",
    "\n",
    "    def forward(self, x):\n",
    "        z = self.encode(x.view(-1, self.dim))\n",
    "        return self.decode(z), z\n",
    "    \n",
    "    \n",
    "feature=torch.tensor(gene_cell.T)\n",
    "feature=feature.to(device)\n",
    "model = AE(dim=feature.shape[1]).to(device)\n",
    "ba=feature.shape[0]\n",
    "loader = Data.DataLoader(feature, ba)\n",
    "optimizer = optim.Adam(model.parameters(), lr=1e-3)\n",
    "\n",
    "loss_func = nn.MSELoss()\n",
    "EPOCH_AE = 2000\n",
    "for epoch in range(EPOCH_AE):\n",
    "    embeddings = []\n",
    "    # loss_ls=[]\n",
    "    for _, batch_x in enumerate(loader)\t:\n",
    "        decoded, encoded = model(batch_x)\n",
    "        res=torch.cdist(encoded,encoded,p=2)\n",
    "        break\n",
    "        loss1 = loss_func(batch_x, decoded)\n",
    "        loss2 = 0\n",
    "        for i in range(batch_x.shape[0]):\n",
    "            for j in range(i+1,batch_x.shape[0]):\n",
    "                v1=batch_x[i]\n",
    "                v2=batch_x[j]\n",
    "                h1=encoded[i]\n",
    "                h2=encoded[j]\n",
    "                sim1=get_simi(np.array(v1.cpu()),np.array(v2.cpu()))\n",
    "                sim2=loss_exp(h1,h2)\n",
    "                loss2+=sim1*(sim2-sim1).abs()\n",
    "        print(loss1,loss2)\n",
    "        loss=loss1+loss2\n",
    "        optimizer.zero_grad()\n",
    "        loss.backward()\n",
    "        optimizer.step()\n",
    "        embeddings.append(encoded)\n",
    "    #     loss_ls.append(loss.item())\n",
    "    # scheduler.step(np.mean(loss_ls))\n",
    "#     print('Epoch :', epoch, '|', 'train_loss:%.12f' % loss.data)\n",
    "    break"
   ]
  },
  {
   "cell_type": "code",
   "execution_count": 22,
   "id": "f11437b4",
   "metadata": {},
   "outputs": [
    {
     "data": {
      "text/plain": [
       "tensor([[5.9802e-04, 7.2308e-01, 7.1889e-01,  ..., 7.0415e-01, 7.8821e-01,\n",
       "         8.0227e-01],\n",
       "        [7.2308e-01, 0.0000e+00, 4.6027e-01,  ..., 4.9548e-01, 6.5668e-01,\n",
       "         5.9445e-01],\n",
       "        [7.1889e-01, 4.6027e-01, 0.0000e+00,  ..., 4.7793e-01, 7.2780e-01,\n",
       "         6.1345e-01],\n",
       "        ...,\n",
       "        [7.0415e-01, 4.9548e-01, 4.7793e-01,  ..., 0.0000e+00, 7.4396e-01,\n",
       "         6.8867e-01],\n",
       "        [7.8821e-01, 6.5668e-01, 7.2780e-01,  ..., 7.4396e-01, 3.4527e-04,\n",
       "         7.8473e-01],\n",
       "        [8.0227e-01, 5.9445e-01, 6.1345e-01,  ..., 6.8867e-01, 7.8473e-01,\n",
       "         0.0000e+00]], device='cuda:0', grad_fn=<ViewBackward>)"
      ]
     },
     "execution_count": 22,
     "metadata": {},
     "output_type": "execute_result"
    }
   ],
   "source": [
    "res"
   ]
  },
  {
   "cell_type": "code",
   "execution_count": null,
   "id": "309b4ae5",
   "metadata": {},
   "outputs": [],
   "source": []
  },
  {
   "cell_type": "code",
   "execution_count": null,
   "id": "d84fa8e7",
   "metadata": {},
   "outputs": [],
   "source": []
  },
  {
   "cell_type": "code",
   "execution_count": null,
   "id": "3494be4f",
   "metadata": {},
   "outputs": [],
   "source": []
  },
  {
   "cell_type": "code",
   "execution_count": null,
   "id": "e6a88dcd",
   "metadata": {},
   "outputs": [],
   "source": []
  },
  {
   "cell_type": "code",
   "execution_count": null,
   "id": "6a520cd3",
   "metadata": {},
   "outputs": [],
   "source": []
  },
  {
   "cell_type": "code",
   "execution_count": null,
   "id": "872bf224",
   "metadata": {},
   "outputs": [],
   "source": []
  },
  {
   "cell_type": "code",
   "execution_count": 3,
   "id": "2d53b798",
   "metadata": {},
   "outputs": [
    {
     "ename": "KeyboardInterrupt",
     "evalue": "",
     "output_type": "error",
     "traceback": [
      "\u001b[0;31m---------------------------------------------------------------------------\u001b[0m",
      "\u001b[0;31mKeyboardInterrupt\u001b[0m                         Traceback (most recent call last)",
      "File \u001b[0;32m<timed exec>:52\u001b[0m, in \u001b[0;36m<module>\u001b[0;34m\u001b[0m\n",
      "Input \u001b[0;32mIn [2]\u001b[0m, in \u001b[0;36mget_simi\u001b[0;34m(u1, u2)\u001b[0m\n\u001b[1;32m      4\u001b[0m nz_u2 \u001b[38;5;241m=\u001b[39m u2\u001b[38;5;241m.\u001b[39mnonzero()[\u001b[38;5;241m0\u001b[39m]\n\u001b[1;32m      5\u001b[0m nz_inter \u001b[38;5;241m=\u001b[39m np\u001b[38;5;241m.\u001b[39marray(\u001b[38;5;28mlist\u001b[39m(\u001b[38;5;28mset\u001b[39m(nz_u1) \u001b[38;5;241m&\u001b[39m \u001b[38;5;28mset\u001b[39m(nz_u2)))\n\u001b[0;32m----> 6\u001b[0m nz_union \u001b[38;5;241m=\u001b[39m np\u001b[38;5;241m.\u001b[39marray(\u001b[38;5;28mlist\u001b[39m(\u001b[38;5;28;43mset\u001b[39;49m\u001b[43m(\u001b[49m\u001b[43mnz_u1\u001b[49m\u001b[43m)\u001b[49m\u001b[43m \u001b[49m\u001b[38;5;241;43m|\u001b[39;49m\u001b[43m \u001b[49m\u001b[38;5;28;43mset\u001b[39;49m\u001b[43m(\u001b[49m\u001b[43mnz_u2\u001b[49m\u001b[43m)\u001b[49m))\n\u001b[1;32m      7\u001b[0m \u001b[38;5;28;01mif\u001b[39;00m \u001b[38;5;28mlen\u001b[39m(nz_inter) \u001b[38;5;241m==\u001b[39m \u001b[38;5;241m0\u001b[39m:\n\u001b[1;32m      8\u001b[0m     simi_score \u001b[38;5;241m=\u001b[39m \u001b[38;5;241m1\u001b[39m \u001b[38;5;241m/\u001b[39m (\u001b[38;5;28mlen\u001b[39m(nz_union) \u001b[38;5;241m+\u001b[39m \u001b[38;5;28mlen\u001b[39m(u1))\n",
      "\u001b[0;31mKeyboardInterrupt\u001b[0m: "
     ]
    }
   ],
   "source": [
    "%%time\n",
    "import torch\n",
    "from torch import nn, optim\n",
    "from torch.nn import functional as F\n",
    "import torch.utils.data as Data\n",
    "import numpy as np\n",
    "\n",
    "\n",
    "class AE(nn.Module):\n",
    "    def __init__(self, dim, emb_dim=128):\n",
    "        super(AE, self).__init__()\n",
    "        self.dim = dim\n",
    "        self.fc1 = nn.Linear(dim, 512)\n",
    "        self.fc2 = nn.Linear(512, emb_dim)\n",
    "        self.fc3 = nn.Linear(emb_dim, 512)\n",
    "        self.fc4 = nn.Linear(512, dim)\n",
    "\n",
    "    def encode(self, x):\n",
    "        h1 = F.relu(self.fc1(x))\n",
    "        return F.relu(self.fc2(h1))\n",
    "\n",
    "    def decode(self, z):\n",
    "        h3 = F.relu(self.fc3(z))\n",
    "        return torch.relu(self.fc4(h3))\n",
    "\n",
    "    def forward(self, x):\n",
    "        z = self.encode(x.view(-1, self.dim))\n",
    "        return self.decode(z), z\n",
    "    \n",
    "    \n",
    "feature=torch.tensor(gene_cell.T)\n",
    "feature=feature.to(device)\n",
    "model = AE(dim=feature.shape[1]).to(device)\n",
    "ba=5000\n",
    "loader = Data.DataLoader(feature, ba)\n",
    "optimizer = optim.Adam(model.parameters(), lr=1e-3)\n",
    "\n",
    "loss_func = nn.MSELoss()\n",
    "EPOCH_AE = 2000\n",
    "for epoch in range(EPOCH_AE):\n",
    "    embeddings = []\n",
    "    # loss_ls=[]\n",
    "    for _, batch_x in enumerate(loader)\t:\n",
    "        decoded, encoded = model(batch_x)\n",
    "        loss1 = loss_func(batch_x, decoded)\n",
    "        loss2 = 0\n",
    "        for i in range(batch_x.shape[0]):\n",
    "            for j in range(i+1,batch_x.shape[0]):\n",
    "                v1=batch_x[i]\n",
    "                v2=batch_x[j]\n",
    "                h1=encoded[i]\n",
    "                h2=encoded[j]\n",
    "                sim1=get_simi(np.array(v1.cpu()),np.array(v2.cpu()))\n",
    "                sim2=loss_exp(h1,h2)\n",
    "                loss2+=sim1*(sim2-sim1).abs()\n",
    "        print(loss1,loss2)\n",
    "        loss=loss1+loss2\n",
    "        optimizer.zero_grad()\n",
    "        loss.backward()\n",
    "        optimizer.step()\n",
    "        embeddings.append(encoded)\n",
    "    #     loss_ls.append(loss.item())\n",
    "    # scheduler.step(np.mean(loss_ls))\n",
    "    print('Epoch :', epoch, '|', 'train_loss:%.12f' % loss.data)\n",
    "    break"
   ]
  },
  {
   "cell_type": "code",
   "execution_count": null,
   "id": "f8bb583e",
   "metadata": {},
   "outputs": [],
   "source": []
  },
  {
   "cell_type": "code",
   "execution_count": 4,
   "id": "895138ba",
   "metadata": {},
   "outputs": [
    {
     "data": {
      "text/plain": [
       "25000000"
      ]
     },
     "execution_count": 4,
     "metadata": {},
     "output_type": "execute_result"
    }
   ],
   "source": []
  },
  {
   "cell_type": "code",
   "execution_count": null,
   "id": "82e63972",
   "metadata": {},
   "outputs": [],
   "source": []
  },
  {
   "cell_type": "code",
   "execution_count": null,
   "id": "b25f85d3",
   "metadata": {},
   "outputs": [],
   "source": []
  },
  {
   "cell_type": "code",
   "execution_count": null,
   "id": "6720d8c4",
   "metadata": {},
   "outputs": [],
   "source": []
  },
  {
   "cell_type": "code",
   "execution_count": null,
   "id": "cc0c037b",
   "metadata": {},
   "outputs": [],
   "source": []
  },
  {
   "cell_type": "code",
   "execution_count": null,
   "id": "c623ffb4",
   "metadata": {},
   "outputs": [],
   "source": []
  },
  {
   "cell_type": "code",
   "execution_count": null,
   "id": "90285389",
   "metadata": {},
   "outputs": [],
   "source": []
  },
  {
   "cell_type": "code",
   "execution_count": null,
   "id": "37677e62",
   "metadata": {},
   "outputs": [],
   "source": []
  },
  {
   "cell_type": "code",
   "execution_count": null,
   "id": "630e00f8",
   "metadata": {},
   "outputs": [],
   "source": []
  }
 ],
 "metadata": {
  "kernelspec": {
   "display_name": "Python (DeepMAPS)",
   "language": "python",
   "name": "deepmaps"
  },
  "language_info": {
   "codemirror_mode": {
    "name": "ipython",
    "version": 3
   },
   "file_extension": ".py",
   "mimetype": "text/x-python",
   "name": "python",
   "nbconvert_exporter": "python",
   "pygments_lexer": "ipython3",
   "version": "3.8.5"
  }
 },
 "nbformat": 4,
 "nbformat_minor": 5
}
