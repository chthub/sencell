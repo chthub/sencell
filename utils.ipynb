{
 "cells": [
  {
   "cell_type": "code",
   "execution_count": null,
   "id": "70c8b085",
   "metadata": {},
   "outputs": [],
   "source": [
    "gene_num=1000\n",
    "cell_num=2000\n",
    "\n",
    "means=np.random.normal(0.5, 0.1, gene_num)\n",
    "print(max(means),min(means))\n",
    "\n",
    "results=[]\n",
    "for mean in means:\n",
    "    expression=np.random.normal(mean, 0.05, cell_num)\n",
    "    results.append(expression)\n",
    "    \n",
    "results=np.array(results)\n",
    "\n",
    "# 设置0表达所占比例\n",
    "Tzero=0.7\n",
    "mask=np.random.uniform(0,1,[gene_num,cell_num])>Tzero\n",
    "results=np.where(mask, results, 0)\n",
    "print('Tzero:',np.sum(results==0)/(cell_num*gene_num))"
   ]
  },
  {
   "cell_type": "code",
   "execution_count": null,
   "id": "a89b6c71",
   "metadata": {},
   "outputs": [],
   "source": [
    "sns.heatmap(results,cmap='Greys')"
   ]
  }
 ],
 "metadata": {
  "kernelspec": {
   "display_name": "Python (DeepMAPS)",
   "language": "python",
   "name": "deepmaps"
  },
  "language_info": {
   "codemirror_mode": {
    "name": "ipython",
    "version": 3
   },
   "file_extension": ".py",
   "mimetype": "text/x-python",
   "name": "python",
   "nbconvert_exporter": "python",
   "pygments_lexer": "ipython3",
   "version": "3.8.5"
  }
 },
 "nbformat": 4,
 "nbformat_minor": 5
}
