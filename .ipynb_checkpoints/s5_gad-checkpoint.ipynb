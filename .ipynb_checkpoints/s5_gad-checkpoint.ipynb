{
 "cells": [
  {
   "cell_type": "code",
   "execution_count": 1,
   "id": "d4d9728d",
   "metadata": {},
   "outputs": [
    {
     "name": "stderr",
     "output_type": "stream",
     "text": [
      "# 2022-12-02 16:27:49.136 [DEBUG] [attrs.py:77] Creating converter from 3 to 5\n"
     ]
    },
    {
     "name": "stdout",
     "output_type": "stream",
     "text": [
      "cluster 数量： 21\n",
      "celltype names: ['Macrophages', 'T cell lineage', 'Unknown', 'B cell lineage', 'Innate lymphoid cell NK', 'AT2', 'Monocytes', 'Multiciliated lineage', 'Dendritic cells', 'EC capillary', 'Mast cells', 'Fibroblasts', 'Secretory', 'EC venous', 'Lymphatic EC mature', 'AT1', 'Basal', 'EC arterial', 'Myofibroblasts', 'None', 'Submucosal Secretory']\n",
      "-----------------------  ----\n",
      "Macrophages              6941\n",
      "T cell lineage            749\n",
      "Unknown                   618\n",
      "B cell lineage            374\n",
      "Innate lymphoid cell NK   327\n",
      "AT2                       294\n",
      "Monocytes                 228\n",
      "Multiciliated lineage     194\n",
      "Dendritic cells           177\n",
      "EC capillary              138\n",
      "Mast cells                100\n",
      "Fibroblasts                93\n",
      "Secretory                  86\n",
      "EC venous                  74\n",
      "Lymphatic EC mature        68\n",
      "AT1                        27\n",
      "Basal                      26\n",
      "EC arterial                20\n",
      "Myofibroblasts             17\n",
      "None                        6\n",
      "Submucosal Secretory        1\n",
      "-----------------------  ----\n",
      "各marker list所包含的gene数：\n",
      "  Markers1    Markers2    Markers3    Markers4\n",
      "----------  ----------  ----------  ----------\n",
      "       126          78         145          84\n",
      "total marker genes:  380\n",
      "highly_genes num:  2000\n",
      "After highly genes dropped duplicate:  1935\n",
      "Total gene num: 2286\n",
      "cell num: 10558, gene num: 2286\n",
      "device:  cuda:0\n"
     ]
    }
   ],
   "source": [
    "import numpy as np\n",
    "import seaborn as sns\n",
    "import torch\n",
    "\n",
    "import umap\n",
    "import matplotlib.pyplot as plt\n",
    "import pandas as pd\n",
    "from community import community_louvain\n",
    "from torch_geometric.utils import k_hop_subgraph,to_networkx,from_networkx\n",
    "import matplotlib\n",
    "\n",
    "import utils\n",
    "import plots\n",
    "from model_AE import reduction_AE\n",
    "from model_GAT import Encoder,SenGAE,train_GAT\n",
    "from model_Sencell import Sencell\n",
    "\n",
    "import logging\n",
    "import os\n",
    "import argparse\n",
    "from tqdm import tqdm\n",
    "\n",
    "parser = argparse.ArgumentParser(description='Main program for sencells')\n",
    "\n",
    "parser.add_argument('--output_dir', type=str, default='./outputs', help='')\n",
    "parser.add_argument('--exp_name', type=str, default='', help='')\n",
    "\n",
    "args = parser.parse_args(args=[])\n",
    "\n",
    "args.exp_name='s5'\n",
    "\n",
    "if not os.path.exists(args.output_dir):\n",
    "    os.makedirs(args.output_dir)\n",
    "\n",
    "logging.basicConfig(format='%(asctime)s.%(msecs)03d [%(levelname)s] [%(filename)s:%(lineno)d] %(message)s',\n",
    "                    datefmt='# %Y-%m-%d %H:%M:%S')\n",
    "\n",
    "logging.getLogger().setLevel(logging.DEBUG)\n",
    "logger = logging.getLogger()\n",
    "\n",
    "# Part 1: load and process data\n",
    "# cell_cluster_arr在画umap的时候用\n",
    "adata,cluster_cell_ls,cell_cluster_arr,celltype_names=utils.load_data()\n",
    "# plots.umapPlot(adata.obsm['X_umap'],clusters=cell_cluster_arr,labels=celltype_names)\n",
    "\n",
    "new_data,markers_index,\\\n",
    "sen_gene_ls,nonsen_gene_ls,gene_names=utils.process_data(adata,cluster_cell_ls,cell_cluster_arr)\n",
    "\n",
    "print(f'cell num: {new_data.shape[0]}, gene num: {new_data.shape[1]}')\n",
    "\n",
    "gene_cell=new_data.X.toarray().T\n",
    "cell_gene=gene_cell.T\n",
    "device = torch.device(\"cuda:0\" if torch.cuda.is_available() else \"cpu\")\n",
    "print('device: ',device)"
   ]
  },
  {
   "cell_type": "code",
   "execution_count": null,
   "id": "7b9056c8",
   "metadata": {},
   "outputs": [
    {
     "name": "stdout",
     "output_type": "stream",
     "text": [
      "Parent process 86747.\n"
     ]
    },
    {
     "name": "stderr",
     "output_type": "stream",
     "text": [
      " 51%|█████     | 5376/10558 [34:39<36:04:31, 25.06s/it]"
     ]
    }
   ],
   "source": [
    "def get_simi(i,j,u1, u2):\n",
    "    # u1,u2必须是numpy.array，not tensor\n",
    "    nz_u1 = u1.nonzero()[0]\n",
    "    nz_u2 = u2.nonzero()[0]\n",
    "    nz_inter = set(nz_u1) & set(nz_u2)\n",
    "    nz_union = set(nz_u1) | set(nz_u2)\n",
    "    if len(nz_inter) == 0:\n",
    "        simi_score = 1 / (len(nz_union) + len(u1))\n",
    "    elif len(nz_inter) == len(nz_union):\n",
    "        simi_score = (len(nz_union) + len(u1) - 1) / (len(nz_union) + len(u1))\n",
    "    else:\n",
    "        simi_score = len(nz_inter) / len(nz_union)\n",
    "    results_matrix[i][j]=simi_score\n",
    "    return simi_score\n",
    "\n",
    "def eucliDistance(v1,v2):\n",
    "    # 计算欧氏距离\n",
    "    return F.pairwise_distance(v1.view(1,-1),v2.view(1,-1),p=2)\n",
    "\n",
    "def loss_exp(v1,v2):\n",
    "    return torch.exp(-0.1*eucliDistance(v1,v2))\n",
    "\n",
    "sim1_ls=[]\n",
    "cell_gene=gene_cell.T    \n",
    "results_matrix=np.zeros((cell_gene.shape[0],cell_gene.shape[0])) \n",
    "\n",
    "\n",
    "from multiprocessing import Pool\n",
    "import os, time, random\n",
    "\n",
    "\n",
    "print('Parent process %s.' % os.getpid())\n",
    "p = Pool()\n",
    "for i in tqdm(range(cell_gene.shape[0])):\n",
    "    for j in range(i+1,cell_gene.shape[0]):\n",
    "        v1=cell_gene[i]\n",
    "        v2=cell_gene[j]\n",
    "        p.apply_async(get_simi, args=(i,j,v1,v2,))\n",
    "\n",
    "print('Waiting for all subprocesses done...')\n",
    "p.close()\n",
    "p.join()\n",
    "print('All subprocesses done.')"
   ]
  },
  {
   "cell_type": "code",
   "execution_count": null,
   "id": "9f4a7e63",
   "metadata": {},
   "outputs": [],
   "source": []
  },
  {
   "cell_type": "code",
   "execution_count": 1,
   "id": "882c661e",
   "metadata": {},
   "outputs": [
    {
     "data": {
      "text/plain": [
       "1"
      ]
     },
     "execution_count": 1,
     "metadata": {},
     "output_type": "execute_result"
    }
   ],
   "source": [
    "1"
   ]
  },
  {
   "cell_type": "code",
   "execution_count": null,
   "id": "9b9ef490",
   "metadata": {},
   "outputs": [],
   "source": []
  },
  {
   "cell_type": "code",
   "execution_count": null,
   "id": "13a77672",
   "metadata": {},
   "outputs": [],
   "source": []
  },
  {
   "cell_type": "code",
   "execution_count": null,
   "id": "22133321",
   "metadata": {},
   "outputs": [],
   "source": []
  },
  {
   "cell_type": "code",
   "execution_count": 3,
   "id": "15058910",
   "metadata": {},
   "outputs": [
    {
     "data": {
      "text/plain": [
       "array([[0., 0., 0., ..., 0., 0., 0.],\n",
       "       [0., 0., 0., ..., 0., 0., 0.],\n",
       "       [0., 0., 0., ..., 0., 0., 0.],\n",
       "       ...,\n",
       "       [0., 0., 0., ..., 0., 0., 0.],\n",
       "       [0., 0., 0., ..., 0., 0., 0.],\n",
       "       [0., 0., 0., ..., 0., 0., 0.]])"
      ]
     },
     "execution_count": 3,
     "metadata": {},
     "output_type": "execute_result"
    }
   ],
   "source": [
    "np.zeros((cell_gene.shape[0],cell_gene.shape[0])) "
   ]
  },
  {
   "cell_type": "code",
   "execution_count": null,
   "id": "383e074c",
   "metadata": {},
   "outputs": [],
   "source": []
  },
  {
   "cell_type": "code",
   "execution_count": null,
   "id": "8d72d9a4",
   "metadata": {},
   "outputs": [],
   "source": []
  },
  {
   "cell_type": "code",
   "execution_count": null,
   "id": "63524bc7",
   "metadata": {},
   "outputs": [],
   "source": [
    "torch.save(sim1_ls,\"./outputs/sim1_ls\")"
   ]
  },
  {
   "cell_type": "code",
   "execution_count": null,
   "id": "00460547",
   "metadata": {},
   "outputs": [],
   "source": []
  },
  {
   "cell_type": "code",
   "execution_count": 4,
   "id": "cdc96782",
   "metadata": {},
   "outputs": [
    {
     "name": "stdout",
     "output_type": "stream",
     "text": [
      "CPU times: user 102 ms, sys: 29.1 ms, total: 131 ms\n",
      "Wall time: 129 ms\n"
     ]
    }
   ],
   "source": [
    "%%time\n",
    "import torch\n",
    "from torch import nn, optim\n",
    "from torch.nn import functional as F\n",
    "import torch.utils.data as Data\n",
    "import numpy as np\n",
    "\n",
    "\n",
    "class AE(nn.Module):\n",
    "    def __init__(self, dim, emb_dim=128):\n",
    "        super(AE, self).__init__()\n",
    "        self.dim = dim\n",
    "        self.fc1 = nn.Linear(dim, 512)\n",
    "        self.fc2 = nn.Linear(512, emb_dim)\n",
    "        self.fc3 = nn.Linear(emb_dim, 512)\n",
    "        self.fc4 = nn.Linear(512, dim)\n",
    "\n",
    "    def encode(self, x):\n",
    "        h1 = F.relu(self.fc1(x))\n",
    "        return F.relu(self.fc2(h1))\n",
    "\n",
    "    def decode(self, z):\n",
    "        h3 = F.relu(self.fc3(z))\n",
    "        return torch.relu(self.fc4(h3))\n",
    "\n",
    "    def forward(self, x):\n",
    "        z = self.encode(x.view(-1, self.dim))\n",
    "        return self.decode(z), z\n",
    "    \n",
    "    \n",
    "feature=torch.tensor(gene_cell.T)\n",
    "feature=feature.to(device)\n",
    "model = AE(dim=feature.shape[1]).to(device)\n",
    "ba=feature.shape[0]\n",
    "loader = Data.DataLoader(feature, ba)\n",
    "optimizer = optim.Adam(model.parameters(), lr=1e-3)\n",
    "\n",
    "loss_func = nn.MSELoss()\n",
    "EPOCH_AE = 2000\n",
    "for epoch in range(EPOCH_AE):\n",
    "    embeddings = []\n",
    "    # loss_ls=[]\n",
    "    for _, batch_x in enumerate(loader)\t:\n",
    "        decoded, encoded = model(batch_x)\n",
    "        break\n",
    "        loss1 = loss_func(batch_x, decoded)\n",
    "        loss2 = 0\n",
    "        for i in range(batch_x.shape[0]):\n",
    "            for j in range(i+1,batch_x.shape[0]):\n",
    "                v1=batch_x[i]\n",
    "                v2=batch_x[j]\n",
    "                h1=encoded[i]\n",
    "                h2=encoded[j]\n",
    "                sim1=get_simi(np.array(v1.cpu()),np.array(v2.cpu()))\n",
    "                sim2=loss_exp(h1,h2)\n",
    "                loss2+=sim1*(sim2-sim1).abs()\n",
    "        print(loss1,loss2)\n",
    "        loss=loss1+loss2\n",
    "        optimizer.zero_grad()\n",
    "        loss.backward()\n",
    "        optimizer.step()\n",
    "        embeddings.append(encoded)\n",
    "    #     loss_ls.append(loss.item())\n",
    "    # scheduler.step(np.mean(loss_ls))\n",
    "#     print('Epoch :', epoch, '|', 'train_loss:%.12f' % loss.data)\n",
    "    break"
   ]
  },
  {
   "cell_type": "code",
   "execution_count": 6,
   "id": "6d051d63",
   "metadata": {},
   "outputs": [
    {
     "data": {
      "text/plain": [
       "torch.Size([10558, 128])"
      ]
     },
     "execution_count": 6,
     "metadata": {},
     "output_type": "execute_result"
    }
   ],
   "source": [
    "encoded.shape"
   ]
  },
  {
   "cell_type": "code",
   "execution_count": null,
   "id": "0b78bb8e",
   "metadata": {},
   "outputs": [],
   "source": []
  },
  {
   "cell_type": "code",
   "execution_count": null,
   "id": "22af8501",
   "metadata": {},
   "outputs": [],
   "source": []
  },
  {
   "cell_type": "code",
   "execution_count": null,
   "id": "0f9120b3",
   "metadata": {},
   "outputs": [],
   "source": []
  },
  {
   "cell_type": "code",
   "execution_count": null,
   "id": "ec5f25e1",
   "metadata": {},
   "outputs": [],
   "source": []
  },
  {
   "cell_type": "code",
   "execution_count": null,
   "id": "718a8f8f",
   "metadata": {},
   "outputs": [],
   "source": []
  },
  {
   "cell_type": "code",
   "execution_count": null,
   "id": "f7b41c9e",
   "metadata": {},
   "outputs": [],
   "source": []
  },
  {
   "cell_type": "code",
   "execution_count": 3,
   "id": "364add1e",
   "metadata": {},
   "outputs": [
    {
     "ename": "KeyboardInterrupt",
     "evalue": "",
     "output_type": "error",
     "traceback": [
      "\u001b[0;31m---------------------------------------------------------------------------\u001b[0m",
      "\u001b[0;31mKeyboardInterrupt\u001b[0m                         Traceback (most recent call last)",
      "File \u001b[0;32m<timed exec>:52\u001b[0m, in \u001b[0;36m<module>\u001b[0;34m\u001b[0m\n",
      "Input \u001b[0;32mIn [2]\u001b[0m, in \u001b[0;36mget_simi\u001b[0;34m(u1, u2)\u001b[0m\n\u001b[1;32m      4\u001b[0m nz_u2 \u001b[38;5;241m=\u001b[39m u2\u001b[38;5;241m.\u001b[39mnonzero()[\u001b[38;5;241m0\u001b[39m]\n\u001b[1;32m      5\u001b[0m nz_inter \u001b[38;5;241m=\u001b[39m np\u001b[38;5;241m.\u001b[39marray(\u001b[38;5;28mlist\u001b[39m(\u001b[38;5;28mset\u001b[39m(nz_u1) \u001b[38;5;241m&\u001b[39m \u001b[38;5;28mset\u001b[39m(nz_u2)))\n\u001b[0;32m----> 6\u001b[0m nz_union \u001b[38;5;241m=\u001b[39m np\u001b[38;5;241m.\u001b[39marray(\u001b[38;5;28mlist\u001b[39m(\u001b[38;5;28;43mset\u001b[39;49m\u001b[43m(\u001b[49m\u001b[43mnz_u1\u001b[49m\u001b[43m)\u001b[49m\u001b[43m \u001b[49m\u001b[38;5;241;43m|\u001b[39;49m\u001b[43m \u001b[49m\u001b[38;5;28;43mset\u001b[39;49m\u001b[43m(\u001b[49m\u001b[43mnz_u2\u001b[49m\u001b[43m)\u001b[49m))\n\u001b[1;32m      7\u001b[0m \u001b[38;5;28;01mif\u001b[39;00m \u001b[38;5;28mlen\u001b[39m(nz_inter) \u001b[38;5;241m==\u001b[39m \u001b[38;5;241m0\u001b[39m:\n\u001b[1;32m      8\u001b[0m     simi_score \u001b[38;5;241m=\u001b[39m \u001b[38;5;241m1\u001b[39m \u001b[38;5;241m/\u001b[39m (\u001b[38;5;28mlen\u001b[39m(nz_union) \u001b[38;5;241m+\u001b[39m \u001b[38;5;28mlen\u001b[39m(u1))\n",
      "\u001b[0;31mKeyboardInterrupt\u001b[0m: "
     ]
    }
   ],
   "source": [
    "%%time\n",
    "import torch\n",
    "from torch import nn, optim\n",
    "from torch.nn import functional as F\n",
    "import torch.utils.data as Data\n",
    "import numpy as np\n",
    "\n",
    "\n",
    "class AE(nn.Module):\n",
    "    def __init__(self, dim, emb_dim=128):\n",
    "        super(AE, self).__init__()\n",
    "        self.dim = dim\n",
    "        self.fc1 = nn.Linear(dim, 512)\n",
    "        self.fc2 = nn.Linear(512, emb_dim)\n",
    "        self.fc3 = nn.Linear(emb_dim, 512)\n",
    "        self.fc4 = nn.Linear(512, dim)\n",
    "\n",
    "    def encode(self, x):\n",
    "        h1 = F.relu(self.fc1(x))\n",
    "        return F.relu(self.fc2(h1))\n",
    "\n",
    "    def decode(self, z):\n",
    "        h3 = F.relu(self.fc3(z))\n",
    "        return torch.relu(self.fc4(h3))\n",
    "\n",
    "    def forward(self, x):\n",
    "        z = self.encode(x.view(-1, self.dim))\n",
    "        return self.decode(z), z\n",
    "    \n",
    "    \n",
    "feature=torch.tensor(gene_cell.T)\n",
    "feature=feature.to(device)\n",
    "model = AE(dim=feature.shape[1]).to(device)\n",
    "ba=5000\n",
    "loader = Data.DataLoader(feature, ba)\n",
    "optimizer = optim.Adam(model.parameters(), lr=1e-3)\n",
    "\n",
    "loss_func = nn.MSELoss()\n",
    "EPOCH_AE = 2000\n",
    "for epoch in range(EPOCH_AE):\n",
    "    embeddings = []\n",
    "    # loss_ls=[]\n",
    "    for _, batch_x in enumerate(loader)\t:\n",
    "        decoded, encoded = model(batch_x)\n",
    "        loss1 = loss_func(batch_x, decoded)\n",
    "        loss2 = 0\n",
    "        for i in range(batch_x.shape[0]):\n",
    "            for j in range(i+1,batch_x.shape[0]):\n",
    "                v1=batch_x[i]\n",
    "                v2=batch_x[j]\n",
    "                h1=encoded[i]\n",
    "                h2=encoded[j]\n",
    "                sim1=get_simi(np.array(v1.cpu()),np.array(v2.cpu()))\n",
    "                sim2=loss_exp(h1,h2)\n",
    "                loss2+=sim1*(sim2-sim1).abs()\n",
    "        print(loss1,loss2)\n",
    "        loss=loss1+loss2\n",
    "        optimizer.zero_grad()\n",
    "        loss.backward()\n",
    "        optimizer.step()\n",
    "        embeddings.append(encoded)\n",
    "    #     loss_ls.append(loss.item())\n",
    "    # scheduler.step(np.mean(loss_ls))\n",
    "    print('Epoch :', epoch, '|', 'train_loss:%.12f' % loss.data)\n",
    "    break"
   ]
  },
  {
   "cell_type": "code",
   "execution_count": null,
   "id": "be7e5f87",
   "metadata": {},
   "outputs": [],
   "source": []
  },
  {
   "cell_type": "code",
   "execution_count": 4,
   "id": "aabc15a3",
   "metadata": {},
   "outputs": [
    {
     "data": {
      "text/plain": [
       "25000000"
      ]
     },
     "execution_count": 4,
     "metadata": {},
     "output_type": "execute_result"
    }
   ],
   "source": []
  },
  {
   "cell_type": "code",
   "execution_count": null,
   "id": "a493c8ea",
   "metadata": {},
   "outputs": [],
   "source": []
  },
  {
   "cell_type": "code",
   "execution_count": null,
   "id": "0e1420c3",
   "metadata": {},
   "outputs": [],
   "source": []
  },
  {
   "cell_type": "code",
   "execution_count": null,
   "id": "31d0b957",
   "metadata": {},
   "outputs": [],
   "source": []
  },
  {
   "cell_type": "code",
   "execution_count": null,
   "id": "b6c9b811",
   "metadata": {},
   "outputs": [],
   "source": []
  },
  {
   "cell_type": "code",
   "execution_count": null,
   "id": "fbbbb52b",
   "metadata": {},
   "outputs": [],
   "source": []
  },
  {
   "cell_type": "code",
   "execution_count": null,
   "id": "e1eb703a",
   "metadata": {},
   "outputs": [],
   "source": []
  },
  {
   "cell_type": "code",
   "execution_count": null,
   "id": "00cea1fc",
   "metadata": {},
   "outputs": [],
   "source": []
  },
  {
   "cell_type": "code",
   "execution_count": null,
   "id": "010c5492",
   "metadata": {},
   "outputs": [],
   "source": []
  }
 ],
 "metadata": {
  "kernelspec": {
   "display_name": "Python (DeepMAPS)",
   "language": "python",
   "name": "deepmaps"
  },
  "language_info": {
   "codemirror_mode": {
    "name": "ipython",
    "version": 3
   },
   "file_extension": ".py",
   "mimetype": "text/x-python",
   "name": "python",
   "nbconvert_exporter": "python",
   "pygments_lexer": "ipython3",
   "version": "3.8.5"
  }
 },
 "nbformat": 4,
 "nbformat_minor": 5
}
