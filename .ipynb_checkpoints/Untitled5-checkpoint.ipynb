{
 "cells": [
  {
   "cell_type": "code",
   "execution_count": 1,
   "id": "90df1f01",
   "metadata": {},
   "outputs": [],
   "source": [
    "import scanpy as sp"
   ]
  },
  {
   "cell_type": "code",
   "execution_count": 2,
   "id": "972a2532",
   "metadata": {},
   "outputs": [],
   "source": [
    "adata=sp.read_h5ad(\"./data/combined_g8.h5ad\")"
   ]
  },
  {
   "cell_type": "code",
   "execution_count": 3,
   "id": "8ecc397d",
   "metadata": {
    "scrolled": true
   },
   "outputs": [
    {
     "data": {
      "text/plain": [
       "AnnData object with n_obs × n_vars = 46009 × 24543\n",
       "    obs: 'orig.ident', 'nCount_RNA', 'nFeature_RNA', 'percent.ribo', 'percent.mito', 'count.mad.higher', 'integrated_snn_res.0.2', 'seurat_clusters', 'cell_type_seurat', 'disease', 'location'\n",
       "    var: 'vst.mean', 'vst.variance', 'vst.variance.expected', 'vst.variance.standardized', 'vst.variable'\n",
       "    obsm: 'X_pca', 'X_umap'"
      ]
     },
     "execution_count": 3,
     "metadata": {},
     "output_type": "execute_result"
    }
   ],
   "source": [
    "adata"
   ]
  },
  {
   "cell_type": "code",
   "execution_count": 6,
   "id": "fd497b4a",
   "metadata": {
    "scrolled": true
   },
   "outputs": [
    {
     "data": {
      "text/plain": [
       "SCB01S5     10784\n",
       "SCB01S4      6012\n",
       "SCB01S7      5996\n",
       "SCB01S8      5730\n",
       "SCB01S1      5452\n",
       "SCB01S2      4433\n",
       "SCB01S10     4260\n",
       "SCB01S9      3342\n",
       "Name: orig.ident, dtype: int64"
      ]
     },
     "execution_count": 6,
     "metadata": {},
     "output_type": "execute_result"
    }
   ],
   "source": [
    "adata.obs['orig.ident']=='SCB01S5'"
   ]
  },
  {
   "cell_type": "code",
   "execution_count": 15,
   "id": "2a2647ac",
   "metadata": {},
   "outputs": [
    {
     "data": {
      "text/plain": [
       "View of AnnData object with n_obs × n_vars = 10445 × 24543\n",
       "    obs: 'orig.ident', 'nCount_RNA', 'nFeature_RNA', 'percent.ribo', 'percent.mito', 'count.mad.higher', 'integrated_snn_res.0.2', 'seurat_clusters', 'cell_type_seurat', 'disease', 'location'\n",
       "    var: 'vst.mean', 'vst.variance', 'vst.variance.expected', 'vst.variance.standardized', 'vst.variable'\n",
       "    obsm: 'X_pca', 'X_umap'"
      ]
     },
     "execution_count": 15,
     "metadata": {},
     "output_type": "execute_result"
    }
   ],
   "source": []
  },
  {
   "cell_type": "code",
   "execution_count": 10,
   "id": "7a30435d",
   "metadata": {},
   "outputs": [
    {
     "data": {
      "text/plain": [
       "View of AnnData object with n_obs × n_vars = 7602 × 24543\n",
       "    obs: 'orig.ident', 'nCount_RNA', 'nFeature_RNA', 'percent.ribo', 'percent.mito', 'count.mad.higher', 'integrated_snn_res.0.2', 'seurat_clusters', 'cell_type_seurat', 'disease', 'location'\n",
       "    var: 'vst.mean', 'vst.variance', 'vst.variance.expected', 'vst.variance.standardized', 'vst.variable'\n",
       "    obsm: 'X_pca', 'X_umap'"
      ]
     },
     "execution_count": 10,
     "metadata": {},
     "output_type": "execute_result"
    }
   ],
   "source": [
    "adata[adata.obs['disease'] == 'Healthy']"
   ]
  },
  {
   "cell_type": "code",
   "execution_count": null,
   "id": "fcc2a198",
   "metadata": {},
   "outputs": [],
   "source": [
    "adata1=adata[(adata.obs['orig.ident']=='SCB01S2') | (adata.obs['orig.ident']=='SCB01S4') | (adata.obs['orig.ident']=='SCB01S9') |  (adata.obs['orig.ident']=='SCB01S10')]"
   ]
  }
 ],
 "metadata": {
  "kernelspec": {
   "display_name": "Python (DeepMAPS)",
   "language": "python",
   "name": "deepmaps"
  },
  "language_info": {
   "codemirror_mode": {
    "name": "ipython",
    "version": 3
   },
   "file_extension": ".py",
   "mimetype": "text/x-python",
   "name": "python",
   "nbconvert_exporter": "python",
   "pygments_lexer": "ipython3",
   "version": "3.8.5"
  }
 },
 "nbformat": 4,
 "nbformat_minor": 5
}
