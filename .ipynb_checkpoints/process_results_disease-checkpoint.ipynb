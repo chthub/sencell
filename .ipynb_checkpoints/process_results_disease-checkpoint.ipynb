{
 "cells": [
  {
   "cell_type": "code",
   "execution_count": 1,
   "id": "408524ef",
   "metadata": {},
   "outputs": [],
   "source": [
    "jobids=\"\"\"# Submitted batch job 14001082\n",
    "# Submitted batch job 14001083\n",
    "# Submitted batch job 14001084\"\"\"\n",
    "jobids=[i.split(' ')[-1] for i in jobids.split(\"\\n\")]"
   ]
  },
  {
   "cell_type": "code",
   "execution_count": null,
   "id": "a36aad64",
   "metadata": {},
   "outputs": [],
   "source": []
  },
  {
   "cell_type": "code",
   "execution_count": null,
   "id": "bae0036e",
   "metadata": {},
   "outputs": [],
   "source": []
  },
  {
   "cell_type": "code",
   "execution_count": 2,
   "id": "8f262158",
   "metadata": {},
   "outputs": [
    {
     "name": "stdout",
     "output_type": "stream",
     "text": [
      "cluster 数量： 24\n",
      "celltype names: ['Macrophages', 'T cell lineage', 'Monocytes', 'Unknown', 'B cell lineage', 'Innate lymphoid cell NK', 'Dendritic cells', 'Multiciliated lineage', 'AT2', 'Secretory', 'Mast cells', 'Fibroblasts', 'EC capillary', 'EC venous', 'Lymphatic EC mature', 'AT1', 'Basal', 'EC arterial', 'Myofibroblasts', 'None', 'Submucosal Secretory', 'Lymphatic EC differentiating', 'SM activated stress response', 'Rare']\n",
      "----------------------------  -----\n",
      "Macrophages                   18151\n",
      "T cell lineage                 5401\n",
      "Monocytes                      4842\n",
      "Unknown                        2830\n",
      "B cell lineage                 1540\n",
      "Innate lymphoid cell NK        1324\n",
      "Dendritic cells                 772\n",
      "Multiciliated lineage           738\n",
      "AT2                             724\n",
      "Secretory                       389\n",
      "Mast cells                      366\n",
      "Fibroblasts                     337\n",
      "EC capillary                    277\n",
      "EC venous                       186\n",
      "Lymphatic EC mature             169\n",
      "AT1                             152\n",
      "Basal                            91\n",
      "EC arterial                      58\n",
      "Myofibroblasts                   30\n",
      "None                             21\n",
      "Submucosal Secretory              4\n",
      "Lymphatic EC differentiating      3\n",
      "SM activated stress response      1\n",
      "Rare                              1\n",
      "----------------------------  -----\n",
      "各marker list所包含的gene数：\n",
      "  Markers1    Markers2    Markers3    Markers4\n",
      "----------  ----------  ----------  ----------\n",
      "       126          78         145          84\n",
      "total marker genes:  380\n"
     ]
    },
    {
     "name": "stderr",
     "output_type": "stream",
     "text": [
      "/users/PCON0022/haocheng/.conda/envs/deepmaps_env/lib/python3.8/site-packages/anndata/compat/_overloaded_dict.py:106: ImplicitModificationWarning: Trying to modify attribute `._uns` of view, initializing view as actual.\n",
      "  self.data[key] = value\n"
     ]
    },
    {
     "name": "stdout",
     "output_type": "stream",
     "text": [
      "highly_genes num:  2000\n",
      "After highly genes dropped duplicate:  1924\n",
      "Total gene num: 2286\n",
      "cell num: 38407, gene num: 2286\n",
      "The number of edges: 3688551\n"
     ]
    },
    {
     "name": "stderr",
     "output_type": "stream",
     "text": [
      "# 2022-12-07 08:14:59.162 [INFO] [2682742472.py:79] Part 1, data loading and processing end!\n"
     ]
    },
    {
     "name": "stdout",
     "output_type": "stream",
     "text": [
      "device: cuda:0\n",
      "the number of edges: 3688551\n",
      "edge index:  torch.Size([2, 3688551])\n",
      "node feature:  torch.Size([12724, 128])\n",
      "Pyg graph: Data(x=[12724, 128], edge_index=[2, 7377102], y=[40693])\n"
     ]
    },
    {
     "ename": "RuntimeError",
     "evalue": "The size of tensor a (7061225) must match the size of tensor b (6745357) at non-singleton dimension 0",
     "output_type": "error",
     "traceback": [
      "\u001b[0;31m---------------------------------------------------------------------------\u001b[0m",
      "\u001b[0;31mRuntimeError\u001b[0m                              Traceback (most recent call last)",
      "Input \u001b[0;32mIn [2]\u001b[0m, in \u001b[0;36m<cell line: 100>\u001b[0;34m()\u001b[0m\n\u001b[1;32m     96\u001b[0m     cell_embed \u001b[38;5;241m=\u001b[39m torch\u001b[38;5;241m.\u001b[39mload(os\u001b[38;5;241m.\u001b[39mpath\u001b[38;5;241m.\u001b[39mjoin(\n\u001b[1;32m     97\u001b[0m         args\u001b[38;5;241m.\u001b[39moutput_dir, \u001b[38;5;124mf\u001b[39m\u001b[38;5;124m'\u001b[39m\u001b[38;5;132;01m{\u001b[39;00margs\u001b[38;5;241m.\u001b[39mexp_name\u001b[38;5;132;01m}\u001b[39;00m\u001b[38;5;124m_cell.emb\u001b[39m\u001b[38;5;124m'\u001b[39m))\n\u001b[1;32m     99\u001b[0m graph_nx \u001b[38;5;241m=\u001b[39m utils\u001b[38;5;241m.\u001b[39madd_nx_embedding(graph_nx, gene_embed, cell_embed)\n\u001b[0;32m--> 100\u001b[0m graph_pyg \u001b[38;5;241m=\u001b[39m \u001b[43mutils\u001b[49m\u001b[38;5;241;43m.\u001b[39;49m\u001b[43mbuild_graph_pyg\u001b[49m\u001b[43m(\u001b[49m\u001b[43mgene_cell\u001b[49m\u001b[43m,\u001b[49m\u001b[43m \u001b[49m\u001b[43mgene_embed\u001b[49m\u001b[43m,\u001b[49m\u001b[43m \u001b[49m\u001b[43mcell_embed\u001b[49m\u001b[43m)\u001b[49m\n\u001b[1;32m    101\u001b[0m logger\u001b[38;5;241m.\u001b[39minfo(\u001b[38;5;124m\"\u001b[39m\u001b[38;5;124mPart 2, AE end!\u001b[39m\u001b[38;5;124m\"\u001b[39m)\n\u001b[1;32m    103\u001b[0m \u001b[38;5;66;03m# Part 3: train GAT\u001b[39;00m\n\u001b[1;32m    104\u001b[0m \u001b[38;5;66;03m# graph_pyg=graph_pyg.to('cpu')\u001b[39;00m\n",
      "File \u001b[0;32m~/sencell/utils.py:315\u001b[0m, in \u001b[0;36mbuild_graph_pyg\u001b[0;34m(gene_cell, gene_embed, cell_embed)\u001b[0m\n\u001b[1;32m    312\u001b[0m graph_pyg \u001b[38;5;241m=\u001b[39m Graphdata(x\u001b[38;5;241m=\u001b[39mx, edge_index\u001b[38;5;241m=\u001b[39medge_index, y\u001b[38;5;241m=\u001b[39my)\n\u001b[1;32m    314\u001b[0m \u001b[38;5;28mprint\u001b[39m(\u001b[38;5;124m'\u001b[39m\u001b[38;5;124mPyg graph:\u001b[39m\u001b[38;5;124m'\u001b[39m, graph_pyg)\n\u001b[0;32m--> 315\u001b[0m \u001b[38;5;28mprint\u001b[39m(\u001b[38;5;124m'\u001b[39m\u001b[38;5;124mgraph.is_directed():\u001b[39m\u001b[38;5;124m'\u001b[39m, \u001b[43mgraph_pyg\u001b[49m\u001b[38;5;241;43m.\u001b[39;49m\u001b[43mis_directed\u001b[49m\u001b[43m(\u001b[49m\u001b[43m)\u001b[49m)\n\u001b[1;32m    317\u001b[0m \u001b[38;5;28;01mreturn\u001b[39;00m graph_pyg\n",
      "File \u001b[0;32m~/.conda/envs/deepmaps_env/lib/python3.8/site-packages/torch_geometric/data/data.py:187\u001b[0m, in \u001b[0;36mBaseData.is_directed\u001b[0;34m(self)\u001b[0m\n\u001b[1;32m    185\u001b[0m \u001b[38;5;28;01mdef\u001b[39;00m \u001b[38;5;21mis_directed\u001b[39m(\u001b[38;5;28mself\u001b[39m) \u001b[38;5;241m-\u001b[39m\u001b[38;5;241m>\u001b[39m \u001b[38;5;28mbool\u001b[39m:\n\u001b[1;32m    186\u001b[0m     \u001b[38;5;124mr\u001b[39m\u001b[38;5;124;03m\"\"\"Returns :obj:`True` if graph edges are directed.\"\"\"\u001b[39;00m\n\u001b[0;32m--> 187\u001b[0m     \u001b[38;5;28;01mreturn\u001b[39;00m \u001b[38;5;129;01mnot\u001b[39;00m \u001b[38;5;28;43mself\u001b[39;49m\u001b[38;5;241;43m.\u001b[39;49m\u001b[43mis_undirected\u001b[49m\u001b[43m(\u001b[49m\u001b[43m)\u001b[49m\n",
      "File \u001b[0;32m~/.conda/envs/deepmaps_env/lib/python3.8/site-packages/torch_geometric/data/data.py:183\u001b[0m, in \u001b[0;36mBaseData.is_undirected\u001b[0;34m(self)\u001b[0m\n\u001b[1;32m    181\u001b[0m \u001b[38;5;28;01mdef\u001b[39;00m \u001b[38;5;21mis_undirected\u001b[39m(\u001b[38;5;28mself\u001b[39m) \u001b[38;5;241m-\u001b[39m\u001b[38;5;241m>\u001b[39m \u001b[38;5;28mbool\u001b[39m:\n\u001b[1;32m    182\u001b[0m     \u001b[38;5;124mr\u001b[39m\u001b[38;5;124;03m\"\"\"Returns :obj:`True` if graph edges are undirected.\"\"\"\u001b[39;00m\n\u001b[0;32m--> 183\u001b[0m     \u001b[38;5;28;01mreturn\u001b[39;00m \u001b[38;5;28mall\u001b[39m([store\u001b[38;5;241m.\u001b[39mis_undirected() \u001b[38;5;28;01mfor\u001b[39;00m store \u001b[38;5;129;01min\u001b[39;00m \u001b[38;5;28mself\u001b[39m\u001b[38;5;241m.\u001b[39medge_stores])\n",
      "File \u001b[0;32m~/.conda/envs/deepmaps_env/lib/python3.8/site-packages/torch_geometric/data/data.py:183\u001b[0m, in \u001b[0;36m<listcomp>\u001b[0;34m(.0)\u001b[0m\n\u001b[1;32m    181\u001b[0m \u001b[38;5;28;01mdef\u001b[39;00m \u001b[38;5;21mis_undirected\u001b[39m(\u001b[38;5;28mself\u001b[39m) \u001b[38;5;241m-\u001b[39m\u001b[38;5;241m>\u001b[39m \u001b[38;5;28mbool\u001b[39m:\n\u001b[1;32m    182\u001b[0m     \u001b[38;5;124mr\u001b[39m\u001b[38;5;124;03m\"\"\"Returns :obj:`True` if graph edges are undirected.\"\"\"\u001b[39;00m\n\u001b[0;32m--> 183\u001b[0m     \u001b[38;5;28;01mreturn\u001b[39;00m \u001b[38;5;28mall\u001b[39m([\u001b[43mstore\u001b[49m\u001b[38;5;241;43m.\u001b[39;49m\u001b[43mis_undirected\u001b[49m\u001b[43m(\u001b[49m\u001b[43m)\u001b[49m \u001b[38;5;28;01mfor\u001b[39;00m store \u001b[38;5;129;01min\u001b[39;00m \u001b[38;5;28mself\u001b[39m\u001b[38;5;241m.\u001b[39medge_stores])\n",
      "File \u001b[0;32m~/.conda/envs/deepmaps_env/lib/python3.8/site-packages/torch_geometric/data/storage.py:423\u001b[0m, in \u001b[0;36mEdgeStorage.is_undirected\u001b[0;34m(self)\u001b[0m\n\u001b[1;32m    421\u001b[0m edge_index \u001b[38;5;241m=\u001b[39m \u001b[38;5;28mself\u001b[39m\u001b[38;5;241m.\u001b[39medge_index\n\u001b[1;32m    422\u001b[0m edge_attr \u001b[38;5;241m=\u001b[39m \u001b[38;5;28mself\u001b[39m\u001b[38;5;241m.\u001b[39medge_attr \u001b[38;5;28;01mif\u001b[39;00m \u001b[38;5;124m'\u001b[39m\u001b[38;5;124medge_attr\u001b[39m\u001b[38;5;124m'\u001b[39m \u001b[38;5;129;01min\u001b[39;00m \u001b[38;5;28mself\u001b[39m \u001b[38;5;28;01melse\u001b[39;00m \u001b[38;5;28;01mNone\u001b[39;00m\n\u001b[0;32m--> 423\u001b[0m \u001b[38;5;28;01mreturn\u001b[39;00m \u001b[43mis_undirected\u001b[49m\u001b[43m(\u001b[49m\u001b[43medge_index\u001b[49m\u001b[43m,\u001b[49m\u001b[43m \u001b[49m\u001b[43medge_attr\u001b[49m\u001b[43m,\u001b[49m\u001b[43m \u001b[49m\u001b[43mnum_nodes\u001b[49m\u001b[38;5;241;43m=\u001b[39;49m\u001b[38;5;28;43mself\u001b[39;49m\u001b[38;5;241;43m.\u001b[39;49m\u001b[43msize\u001b[49m\u001b[43m(\u001b[49m\u001b[38;5;241;43m0\u001b[39;49m\u001b[43m)\u001b[49m\u001b[43m)\u001b[49m\n",
      "File \u001b[0;32m~/.conda/envs/deepmaps_env/lib/python3.8/site-packages/torch_geometric/utils/undirected.py:40\u001b[0m, in \u001b[0;36mis_undirected\u001b[0;34m(edge_index, edge_attr, num_nodes)\u001b[0m\n\u001b[1;32m     35\u001b[0m edge_index1, edge_attr1 \u001b[38;5;241m=\u001b[39m coalesce(edge_index, edge_attr,\n\u001b[1;32m     36\u001b[0m                                    num_nodes\u001b[38;5;241m=\u001b[39mnum_nodes, sort_by_row\u001b[38;5;241m=\u001b[39m\u001b[38;5;28;01mTrue\u001b[39;00m)\n\u001b[1;32m     37\u001b[0m edge_index2, edge_attr2 \u001b[38;5;241m=\u001b[39m coalesce(edge_index1, edge_attr1,\n\u001b[1;32m     38\u001b[0m                                    num_nodes\u001b[38;5;241m=\u001b[39mnum_nodes, sort_by_row\u001b[38;5;241m=\u001b[39m\u001b[38;5;28;01mFalse\u001b[39;00m)\n\u001b[0;32m---> 40\u001b[0m \u001b[38;5;28;01mreturn\u001b[39;00m (\u001b[38;5;28mbool\u001b[39m(torch\u001b[38;5;241m.\u001b[39mall(\u001b[43medge_index1\u001b[49m\u001b[43m[\u001b[49m\u001b[38;5;241;43m0\u001b[39;49m\u001b[43m]\u001b[49m\u001b[43m \u001b[49m\u001b[38;5;241;43m==\u001b[39;49m\u001b[43m \u001b[49m\u001b[43medge_index2\u001b[49m\u001b[43m[\u001b[49m\u001b[38;5;241;43m1\u001b[39;49m\u001b[43m]\u001b[49m))\n\u001b[1;32m     41\u001b[0m         \u001b[38;5;129;01mand\u001b[39;00m \u001b[38;5;28mbool\u001b[39m(torch\u001b[38;5;241m.\u001b[39mall(edge_index1[\u001b[38;5;241m1\u001b[39m] \u001b[38;5;241m==\u001b[39m edge_index2[\u001b[38;5;241m0\u001b[39m])) \u001b[38;5;129;01mand\u001b[39;00m \u001b[38;5;28mall\u001b[39m([\n\u001b[1;32m     42\u001b[0m             torch\u001b[38;5;241m.\u001b[39mall(e \u001b[38;5;241m==\u001b[39m e_T) \u001b[38;5;28;01mfor\u001b[39;00m e, e_T \u001b[38;5;129;01min\u001b[39;00m \u001b[38;5;28mzip\u001b[39m(edge_attr1, edge_attr2)\n\u001b[1;32m     43\u001b[0m         ]))\n",
      "\u001b[0;31mRuntimeError\u001b[0m: The size of tensor a (7061225) must match the size of tensor b (6745357) at non-singleton dimension 0"
     ]
    }
   ],
   "source": [
    "import numpy as np\n",
    "import seaborn as sns\n",
    "import torch\n",
    "\n",
    "import umap\n",
    "import matplotlib.pyplot as plt\n",
    "import pandas as pd\n",
    "from community import community_louvain\n",
    "from torch_geometric.utils import k_hop_subgraph,to_networkx,from_networkx\n",
    "import matplotlib\n",
    "\n",
    "import utils\n",
    "import plots\n",
    "from model_AE import reduction_AE\n",
    "from model_GAT import Encoder,SenGAE,train_GAT\n",
    "from model_Sencell import Sencell\n",
    "from sampling import sub_sampling_by_random\n",
    "from model_Sencell import cell_optim,update_cell_embeddings\n",
    "from sampling import identify_sengene_then_sencell\n",
    "\n",
    "import logging\n",
    "import os\n",
    "import argparse\n",
    "\n",
    "is_jupyter=True\n",
    "\n",
    "parser = argparse.ArgumentParser(description='Main program for sencells')\n",
    "\n",
    "parser.add_argument('--output_dir', type=str, default='./outputs', help='')\n",
    "parser.add_argument('--exp_name', type=str, default='', help='')\n",
    "parser.add_argument('--sencell_num', type=int, default=100, help='')\n",
    "parser.add_argument('--retrain', action='store_true', default=False, help='')\n",
    "\n",
    "\n",
    "if is_jupyter:\n",
    "    args = parser.parse_args(args=[])\n",
    "    args.exp_name='disease1'\n",
    "    args.retrain=False  \n",
    "else:\n",
    "    args = parser.parse_args()\n",
    "args.is_jupyter=is_jupyter\n",
    "\n",
    "args.exp_name='disease1_14001082'\n",
    "args.output_dir='./outputs/14001082'\n",
    "args.device_index=0\n",
    "\n",
    "if not os.path.exists(args.output_dir):\n",
    "    os.makedirs(args.output_dir)\n",
    "\n",
    "logging.basicConfig(format='%(asctime)s.%(msecs)03d [%(levelname)s] [%(filename)s:%(lineno)d] %(message)s',\n",
    "                    datefmt='# %Y-%m-%d %H:%M:%S')\n",
    "\n",
    "logging.getLogger().setLevel(logging.INFO)\n",
    "logger = logging.getLogger()\n",
    "\n",
    "# Part 1: load and process data\n",
    "# cell_cluster_arr在画umap的时候用\n",
    "if 's5' in args.exp_name:\n",
    "    adata,cluster_cell_ls,cell_cluster_arr,celltype_names=utils.load_data()\n",
    "elif 'healthy' in args.exp_name:\n",
    "    adata,cluster_cell_ls,cell_cluster_arr,celltype_names=utils.load_data_healthy()\n",
    "elif 'disease1' in args.exp_name:\n",
    "    adata, cluster_cell_ls, cell_cluster_arr, celltype_names = utils.load_data_disease1()\n",
    "elif 'disease' in args.exp_name:\n",
    "    adata,cluster_cell_ls,cell_cluster_arr,celltype_names=utils.load_data_disease()\n",
    "\n",
    "# plots.umapPlot(adata.obsm['X_umap'],clusters=cell_cluster_arr,labels=celltype_names)\n",
    "\n",
    "new_data, markers_index,\\\n",
    "    sen_gene_ls, nonsen_gene_ls, gene_names = utils.process_data(\n",
    "        adata, cluster_cell_ls, cell_cluster_arr)\n",
    "\n",
    "gene_cell = new_data.X.toarray().T\n",
    "args.gene_num = gene_cell.shape[0]\n",
    "args.cell_num = gene_cell.shape[1]\n",
    "\n",
    "print(f'cell num: {new_data.shape[0]}, gene num: {new_data.shape[1]}')\n",
    "\n",
    "graph_nx = utils.build_graph_nx(\n",
    "    gene_cell, cell_cluster_arr, sen_gene_ls, nonsen_gene_ls, gene_names)\n",
    "logger.info(\"Part 1, data loading and processing end!\")\n",
    "\n",
    "# Part 2: generate init embedding\n",
    "device = torch.device(f\"cuda:{args.device_index}\" if torch.cuda.is_available() else \"cpu\")\n",
    "print('device:', device)\n",
    "args.device = device\n",
    "\n",
    "if args.retrain:\n",
    "    gene_embed, cell_embed = reduction_AE(gene_cell, device)\n",
    "    print(gene_embed.shape, cell_embed.shape)\n",
    "    torch.save(gene_embed, os.path.join(\n",
    "        args.output_dir, f'{args.exp_name}_gene.emb'))\n",
    "    torch.save(cell_embed, os.path.join(\n",
    "        args.output_dir, f'{args.exp_name}_cell.emb'))\n",
    "else:\n",
    "    gene_embed = torch.load(os.path.join(\n",
    "        args.output_dir, f'{args.exp_name}_gene.emb'))\n",
    "    cell_embed = torch.load(os.path.join(\n",
    "        args.output_dir, f'{args.exp_name}_cell.emb'))\n",
    "\n",
    "graph_nx = utils.add_nx_embedding(graph_nx, gene_embed, cell_embed)\n",
    "graph_pyg = utils.build_graph_pyg(gene_cell, gene_embed, cell_embed)\n",
    "logger.info(\"Part 2, AE end!\")\n",
    "\n",
    "# Part 3: train GAT\n",
    "# graph_pyg=graph_pyg.to('cpu')\n",
    "\n",
    "GAT_model = train_GAT(graph_nx, graph_pyg, args,\n",
    "                      retrain=args.retrain, resampling=args.retrain)\n",
    "logger.info(\"Part 3, training GAT end!\")\n",
    "\n",
    "\n",
    "all_gene_ls = []\n",
    "\n",
    "list_sencell_cover = []\n",
    "list_sengene_cover = []"
   ]
  },
  {
   "cell_type": "code",
   "execution_count": null,
   "id": "6c97cfd8",
   "metadata": {},
   "outputs": [],
   "source": []
  },
  {
   "cell_type": "code",
   "execution_count": null,
   "id": "463c68bb",
   "metadata": {},
   "outputs": [],
   "source": [
    "device = torch.device(f\"cuda:{args.device_index}\" if torch.cuda.is_available() else \"cpu\")\n",
    "print('device:', device)\n",
    "args.device = device"
   ]
  },
  {
   "cell_type": "code",
   "execution_count": 4,
   "id": "13b92589",
   "metadata": {},
   "outputs": [
    {
     "name": "stderr",
     "output_type": "stream",
     "text": [
      "# 2022-12-06 13:23:44.652 [INFO] [2833460121.py:9] iteration: 0\n"
     ]
    },
    {
     "name": "stdout",
     "output_type": "stream",
     "text": [
      "Start sampling subgraph randomly ...\n",
      "    Sengene num: 362, Nonsengen num: 1924\n",
      "subgraph total node num: (40693,)\n",
      "After sampling, gene num:  tensor(2286)\n"
     ]
    },
    {
     "name": "stderr",
     "output_type": "stream",
     "text": [
      "# 2022-12-06 13:55:16.389 [INFO] [2833460121.py:22] epoch: 0\n"
     ]
    },
    {
     "name": "stdout",
     "output_type": "stream",
     "text": [
      "obj saved ./outputs/13995010/disease_13995010_cell_score_dict_test\n",
      "    Sencell num: 100, Nonsencell num: 1000\n",
      "rechoice sengene num: 362 rechoice nonsengene num: 1924\n",
      "obj saved ./outputs/13995010/disease_13995010_cell_score_dict_test\n",
      "    Sencell num: 100, Nonsencell num: 1000\n",
      "sencell cover: 0.82\n",
      "sengene cover: 0.4171270718232044\n"
     ]
    }
   ],
   "source": [
    "\n",
    "cellmodel = Sencell().to(device)\n",
    "optimizer = torch.optim.Adam(cellmodel.parameters(), lr=0.001,\n",
    "                             weight_decay=1e-3)\n",
    "\n",
    "all_marker_index = sen_gene_ls\n",
    "\n",
    "iteration_results = []\n",
    "for iteration in range(5):\n",
    "    logger.info(f\"iteration: {iteration}\")\n",
    "    sampled_graph, sencell_dict, nonsencell_dict, cell_clusters, big_graph_index_dict = sub_sampling_by_random(graph_nx,\n",
    "                                                                                                               sen_gene_ls,\n",
    "                                                                                                               nonsen_gene_ls,\n",
    "                                                                                                               GAT_model,\n",
    "                                                                                                               args,\n",
    "                                                                                                               all_marker_index,\n",
    "                                                                                                               n_gene=len(\n",
    "                                                                                                                   all_marker_index),\n",
    "                                                                                                               gene_rate=0.3, cell_rate=0.5,\n",
    "                                                                                                               debug=False)\n",
    "    old_sengene_indexs = all_marker_index\n",
    "    for epoch in range(10):\n",
    "        logger.info(f\"epoch: {epoch}\")\n",
    "        old_sencell_dict = sencell_dict\n",
    "        cellmodel, sencell_dict, nonsencell_dict = cell_optim(cellmodel, optimizer,\n",
    "                                                              sencell_dict, nonsencell_dict, args,\n",
    "                                                              train=False)\n",
    "        # sampled_graph=update_cell_embeddings(sampled_graph,sencell_dict,nonsencell_dict)\n",
    "        sencell_dict, nonsencell_dict, \\\n",
    "            sen_gene_indexs, nonsen_gene_indexs = identify_sengene_then_sencell(sampled_graph, GAT_model,\n",
    "                                                                                sencell_dict, nonsencell_dict,\n",
    "                                                                                cell_clusters,\n",
    "                                                                                big_graph_index_dict,\n",
    "                                                                                len(all_marker_index), args)\n",
    "\n",
    "        ratio_cell = utils.get_sencell_cover(old_sencell_dict, sencell_dict)\n",
    "        ratio_gene = utils.get_sengene_cover(\n",
    "            old_sengene_indexs, sen_gene_indexs)\n",
    "        old_sengene_indexs = sen_gene_indexs\n",
    "        break\n",
    "    break\n",
    "\n",
    "    iteration_results.append([sen_gene_indexs, sencell_dict])\n"
   ]
  },
  {
   "cell_type": "code",
   "execution_count": null,
   "id": "3177f5d4",
   "metadata": {},
   "outputs": [],
   "source": []
  },
  {
   "cell_type": "code",
   "execution_count": null,
   "id": "a3edfdf3",
   "metadata": {},
   "outputs": [],
   "source": []
  },
  {
   "cell_type": "code",
   "execution_count": null,
   "id": "e8fb2930",
   "metadata": {},
   "outputs": [],
   "source": []
  },
  {
   "cell_type": "code",
   "execution_count": null,
   "id": "715dbcb0",
   "metadata": {},
   "outputs": [],
   "source": []
  }
 ],
 "metadata": {
  "kernelspec": {
   "display_name": "Python (DeepMAPS)",
   "language": "python",
   "name": "deepmaps"
  },
  "language_info": {
   "codemirror_mode": {
    "name": "ipython",
    "version": 3
   },
   "file_extension": ".py",
   "mimetype": "text/x-python",
   "name": "python",
   "nbconvert_exporter": "python",
   "pygments_lexer": "ipython3",
   "version": "3.8.5"
  }
 },
 "nbformat": 4,
 "nbformat_minor": 5
}
