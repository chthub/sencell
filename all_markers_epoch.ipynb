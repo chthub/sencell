{
 "cells": [
  {
   "cell_type": "code",
   "execution_count": 1,
   "id": "1a2c77fa",
   "metadata": {},
   "outputs": [
    {
     "name": "stderr",
     "output_type": "stream",
     "text": [
      "# 2022-11-22 12:33:17.390 [DEBUG] [attrs.py:77] Creating converter from 3 to 5\n"
     ]
    },
    {
     "name": "stdout",
     "output_type": "stream",
     "text": [
      "cluster 数量： 21\n",
      "celltype names: ['Macrophages', 'T cell lineage', 'Unknown', 'B cell lineage', 'Innate lymphoid cell NK', 'AT2', 'Monocytes', 'Multiciliated lineage', 'Dendritic cells', 'EC capillary', 'Mast cells', 'Fibroblasts', 'Secretory', 'EC venous', 'Lymphatic EC mature', 'AT1', 'Basal', 'EC arterial', 'Myofibroblasts', 'None', 'Submucosal Secretory']\n",
      "-----------------------  ----\n",
      "Macrophages              6941\n",
      "T cell lineage            749\n",
      "Unknown                   618\n",
      "B cell lineage            374\n",
      "Innate lymphoid cell NK   327\n",
      "AT2                       294\n",
      "Monocytes                 228\n",
      "Multiciliated lineage     194\n",
      "Dendritic cells           177\n",
      "EC capillary              138\n",
      "Mast cells                100\n",
      "Fibroblasts                93\n",
      "Secretory                  86\n",
      "EC venous                  74\n",
      "Lymphatic EC mature        68\n",
      "AT1                        27\n",
      "Basal                      26\n",
      "EC arterial                20\n",
      "Myofibroblasts             17\n",
      "None                        6\n",
      "Submucosal Secretory        1\n",
      "-----------------------  ----\n",
      "各marker list所包含的gene数：\n",
      "  Markers1    Markers2    Markers3    Markers4\n",
      "----------  ----------  ----------  ----------\n",
      "       126          78         145          84\n",
      "total marker genes:  380\n",
      "highly_genes num:  2000\n",
      "After highly genes dropped duplicate:  1894\n",
      "Total gene num: 2245\n",
      "cell num: 10558, gene num: 2245\n",
      "The number of edges: 1745053\n"
     ]
    },
    {
     "name": "stderr",
     "output_type": "stream",
     "text": [
      "# 2022-11-22 12:33:23.519 [INFO] [3655344800.py:39] Part 1, data loading and processing end!\n"
     ]
    },
    {
     "name": "stdout",
     "output_type": "stream",
     "text": [
      "device:  cuda:0\n",
      "the number of edges: 1745053\n",
      "edge index:  torch.Size([2, 1745053])\n",
      "node feature:  torch.Size([12803, 128])\n",
      "Pyg graph: Data(x=[12803, 128], edge_index=[2, 3490106], y=[12803])\n"
     ]
    },
    {
     "name": "stderr",
     "output_type": "stream",
     "text": [
      "# 2022-11-22 12:33:27.310 [INFO] [3655344800.py:57] Part 2, AE end!\n",
      "# 2022-11-22 12:33:27.319 [INFO] [3655344800.py:62] Part 3, training GAT end!\n"
     ]
    },
    {
     "name": "stdout",
     "output_type": "stream",
     "text": [
      "graph.is_directed(): False\n"
     ]
    }
   ],
   "source": [
    "import numpy as np\n",
    "import seaborn as sns\n",
    "import torch\n",
    "\n",
    "import umap\n",
    "import matplotlib.pyplot as plt\n",
    "import pandas as pd\n",
    "from community import community_louvain\n",
    "from torch_geometric.utils import k_hop_subgraph,to_networkx,from_networkx\n",
    "import matplotlib\n",
    "\n",
    "import utils\n",
    "import plots\n",
    "from model_AE import reduction_AE\n",
    "from model_GAT import Encoder,SenGAE,train_GAT\n",
    "from model_Sencell import Sencell\n",
    "\n",
    "import logging\n",
    "\n",
    "logging.basicConfig(format='%(asctime)s.%(msecs)03d [%(levelname)s] [%(filename)s:%(lineno)d] %(message)s',\n",
    "                    datefmt='# %Y-%m-%d %H:%M:%S')\n",
    "\n",
    "logging.getLogger().setLevel(logging.DEBUG)\n",
    "logger = logging.getLogger()\n",
    "\n",
    "# Part 1: load and process data\n",
    "data_path=\"/users/PCON0022/haocheng/Basu_lab/rmarkdown/SCB01S5.h5ad\"\n",
    "# cell_cluster_arr在画umap的时候用\n",
    "adata,cluster_cell_ls,cell_cluster_arr,celltype_names=utils.load_data(data_path)\n",
    "# plots.umapPlot(adata.obsm['X_umap'],clusters=cell_cluster_arr,labels=celltype_names)\n",
    "\n",
    "new_data,markers_index,\\\n",
    "sen_gene_ls,nonsen_gene_ls,gene_names=utils.process_data(adata,cluster_cell_ls,cell_cluster_arr)\n",
    "\n",
    "print(f'cell num: {new_data.shape[0]}, gene num: {new_data.shape[1]}')\n",
    "\n",
    "gene_cell=new_data.X.toarray().T\n",
    "graph_nx=utils.build_graph_nx(gene_cell,cell_cluster_arr,sen_gene_ls,nonsen_gene_ls,gene_names)\n",
    "logger.info(\"Part 1, data loading and processing end!\")\n",
    "\n",
    "# Part 2: generate init embedding\n",
    "device = torch.device(\"cuda:0\" if torch.cuda.is_available() else \"cpu\")\n",
    "print('device: ',device)\n",
    "\n",
    "retrain=False\n",
    "if retrain:\n",
    "    gene_embed,cell_embed=reduction_AE(gene_cell,device)\n",
    "    logger.info(gene_embed.shape,cell_embed.shape)\n",
    "    torch.save(gene_embed,'./gene.emb')\n",
    "    torch.save(cell_embed,'./cell.emb')\n",
    "else:\n",
    "    gene_embed=torch.load('./gene.emb')\n",
    "    cell_embed=torch.load('./cell.emb')\n",
    "\n",
    "graph_nx=utils.add_nx_embedding(graph_nx,gene_embed,cell_embed)\n",
    "graph_pyg=utils.build_graph_pyg(gene_cell,gene_embed,cell_embed)\n",
    "logger.info(\"Part 2, AE end!\")\n",
    "\n",
    "# Part 3: train GAT\n",
    "# graph_pyg=graph_pyg.to('cpu')\n",
    "GAT_model=train_GAT(graph_nx,graph_pyg,device,retrain=False,resampling=False)\n",
    "logger.info(\"Part 3, training GAT end!\")\n",
    "\n",
    "\n",
    "\n",
    "from sampling import identify_sencell_marker_graph\n",
    "from sampling import sub_sampling_by_random\n",
    "from model_Sencell import cell_optim,update_cell_embeddings,old_cell_optim\n",
    "\n",
    "from sampling import identify_sengene_then_sencell\n",
    "\n",
    "\n",
    "all_gene_ls=[]\n",
    "\n",
    "list_sencell_cover=[]\n",
    "list_sengene_cover=[]\n",
    "\n",
    "def get_sencell_cover(old_sencell_dict,sencell_dict):\n",
    "    set1=set(list(old_sencell_dict.keys()))\n",
    "    set2=set(list(sencell_dict.keys()))\n",
    "    set3=set1.intersection(set2)\n",
    "    print('sencell cover:',len(set3)/len(set2))\n",
    "    \n",
    "    return len(set3)/len(set2)\n",
    "\n",
    "def get_sengene_cover(old_sengene_ls,sengene_ls):\n",
    "    set1=set(old_sengene_ls)\n",
    "    set2=set(sengene_ls)\n",
    "    set3=set1.intersection(set2)\n",
    "    print('sengene cover:',len(set3)/len(set2))\n",
    "    \n",
    "    return len(set3)/len(set2)\n",
    "    \n",
    "    \n",
    "cellmodel=Sencell().to(device)\n",
    "optimizer = torch.optim.Adam(cellmodel.parameters(), lr=0.001, \n",
    "                                weight_decay=1e-3)\n",
    "\n"
   ]
  },
  {
   "cell_type": "code",
   "execution_count": null,
   "id": "3d666508",
   "metadata": {},
   "outputs": [
    {
     "name": "stderr",
     "output_type": "stream",
     "text": [
      "# 2022-11-22 12:33:27.331 [INFO] [2913966771.py:5] iteration: 0\n"
     ]
    },
    {
     "name": "stdout",
     "output_type": "stream",
     "text": [
      "Start sampling subgraph randomly ...\n",
      "    Sengene num: 351, Nonsengen num: 351\n",
      "subgraph total node num: (11260,)\n",
      "After sampling, gene num:  tensor(702)\n"
     ]
    },
    {
     "name": "stderr",
     "output_type": "stream",
     "text": [
      "# 2022-11-22 12:35:21.368 [INFO] [2913966771.py:17] epoch: 0\n"
     ]
    },
    {
     "name": "stdout",
     "output_type": "stream",
     "text": [
      "    Sencell num: 321, Nonsencell num: 3210\n",
      "这一簇没有非老化细胞： 20\n",
      "72.55316162109375\n",
      "这一簇没有非老化细胞： 20\n",
      "67.7896499633789\n",
      "这一簇没有非老化细胞： 20\n",
      "60.401214599609375\n",
      "这一簇没有非老化细胞： 20\n",
      "49.614994049072266\n",
      "这一簇没有非老化细胞： 20\n",
      "41.79710006713867\n",
      "这一簇没有非老化细胞： 20\n",
      "49.069705963134766\n",
      "这一簇没有非老化细胞： 20\n",
      "51.16868209838867\n",
      "这一簇没有非老化细胞： 20\n",
      "46.07640838623047\n",
      "这一簇没有非老化细胞： 20\n",
      "41.43885803222656\n",
      "这一簇没有非老化细胞： 20\n",
      "41.812034606933594\n",
      "这一簇没有非老化细胞： 20\n",
      "43.59840774536133\n",
      "这一簇没有非老化细胞： 20\n",
      "44.84477615356445\n",
      "这一簇没有非老化细胞： 20\n",
      "44.68792724609375\n",
      "这一簇没有非老化细胞： 20\n",
      "43.306724548339844\n",
      "这一簇没有非老化细胞： 20\n",
      "41.63454818725586\n",
      "这一簇没有非老化细胞： 20\n",
      "40.03664016723633\n",
      "这一簇没有非老化细胞： 20\n",
      "39.082427978515625\n",
      "这一簇没有非老化细胞： 20\n",
      "39.80221939086914\n",
      "这一簇没有非老化细胞： 20\n",
      "40.30607604980469\n",
      "这一簇没有非老化细胞： 20\n",
      "39.654266357421875\n",
      "rechoice sengene num: 351 rechoice nonsengene num: 351\n"
     ]
    },
    {
     "name": "stderr",
     "output_type": "stream",
     "text": [
      "# 2022-11-22 12:42:25.282 [INFO] [2913966771.py:17] epoch: 1\n"
     ]
    },
    {
     "name": "stdout",
     "output_type": "stream",
     "text": [
      "    Sencell num: 500, Nonsencell num: 5000\n",
      "sencell cover: 0.416\n",
      "sengene cover: 0.6153846153846154\n",
      "52.15517044067383\n",
      "51.26611328125\n",
      "50.074501037597656\n",
      "48.53220748901367\n",
      "46.60333251953125\n",
      "44.2351188659668\n",
      "41.403961181640625\n",
      "38.033145904541016\n",
      "34.147117614746094\n",
      "31.399789810180664\n",
      "32.73973083496094\n",
      "35.510498046875\n",
      "36.92243194580078\n",
      "36.492103576660156\n",
      "34.690616607666016\n",
      "32.329376220703125\n",
      "30.3323974609375\n",
      "29.589271545410156\n",
      "30.171680450439453\n",
      "31.148889541625977\n",
      "rechoice sengene num: 351 rechoice nonsengene num: 351\n"
     ]
    },
    {
     "name": "stderr",
     "output_type": "stream",
     "text": [
      "# 2022-11-22 12:50:48.994 [INFO] [2913966771.py:17] epoch: 2\n"
     ]
    },
    {
     "name": "stdout",
     "output_type": "stream",
     "text": [
      "    Sencell num: 599, Nonsencell num: 5990\n",
      "sencell cover: 0.7879799666110183\n",
      "sengene cover: 0.9002849002849003\n",
      "43.39860916137695\n",
      "43.38319778442383\n",
      "43.001766204833984\n",
      "42.26011657714844\n",
      "41.148582458496094\n",
      "39.654930114746094\n",
      "37.759281158447266\n",
      "35.39746856689453\n",
      "32.579036712646484\n",
      "29.63399314880371\n",
      "27.657487869262695\n",
      "28.128787994384766\n",
      "29.93459129333496\n",
      "31.566696166992188\n",
      "32.321144104003906\n",
      "32.02210998535156\n",
      "30.82480812072754\n",
      "29.113666534423828\n",
      "27.492300033569336\n",
      "26.7003231048584\n",
      "rechoice sengene num: 351 rechoice nonsengene num: 351\n"
     ]
    },
    {
     "name": "stderr",
     "output_type": "stream",
     "text": [
      "# 2022-11-22 13:00:00.568 [INFO] [2913966771.py:17] epoch: 3\n"
     ]
    },
    {
     "name": "stdout",
     "output_type": "stream",
     "text": [
      "    Sencell num: 611, Nonsencell num: 6110\n",
      "sencell cover: 0.9361702127659575\n",
      "sengene cover: 0.9173789173789174\n",
      "32.698341369628906\n",
      "33.31145095825195\n",
      "33.30641174316406\n",
      "32.78070831298828\n",
      "31.87259292602539\n",
      "30.648832321166992\n",
      "29.131704330444336\n",
      "27.581207275390625\n",
      "26.195592880249023\n",
      "25.16754722595215\n",
      "24.82940673828125\n",
      "25.304065704345703\n",
      "26.24588394165039\n",
      "26.99132537841797\n",
      "27.1325626373291\n",
      "26.623306274414062\n",
      "25.6896915435791\n",
      "24.68787384033203\n",
      "23.978788375854492\n",
      "23.754230499267578\n",
      "rechoice sengene num: 351 rechoice nonsengene num: 351\n"
     ]
    },
    {
     "name": "stderr",
     "output_type": "stream",
     "text": [
      "# 2022-11-22 13:07:57.331 [INFO] [2913966771.py:17] epoch: 4\n"
     ]
    },
    {
     "name": "stdout",
     "output_type": "stream",
     "text": [
      "    Sencell num: 610, Nonsencell num: 6100\n",
      "sencell cover: 1.0\n",
      "sengene cover: 0.9914529914529915\n",
      "25.446048736572266\n",
      "25.810136795043945\n",
      "25.94640350341797\n",
      "25.814533233642578\n",
      "25.427289962768555\n",
      "24.835750579833984\n",
      "24.160438537597656\n",
      "23.605897903442383\n",
      "23.388168334960938\n",
      "23.559246063232422\n",
      "23.927207946777344\n",
      "24.242321014404297\n",
      "24.344867706298828\n",
      "24.198284149169922\n",
      "23.883209228515625\n",
      "23.544954299926758\n",
      "23.318191528320312\n",
      "23.273481369018555\n",
      "23.371572494506836\n",
      "23.504112243652344\n",
      "rechoice sengene num: 351 rechoice nonsengene num: 351\n"
     ]
    },
    {
     "name": "stderr",
     "output_type": "stream",
     "text": [
      "# 2022-11-22 13:15:53.623 [INFO] [2913966771.py:17] epoch: 5\n"
     ]
    },
    {
     "name": "stdout",
     "output_type": "stream",
     "text": [
      "    Sencell num: 610, Nonsencell num: 6100\n",
      "sencell cover: 1.0\n",
      "sengene cover: 1.0\n",
      "24.190134048461914\n",
      "24.082809448242188\n",
      "23.802387237548828\n",
      "23.466537475585938\n",
      "23.200538635253906\n",
      "23.09458351135254\n",
      "23.164094924926758\n",
      "23.326025009155273\n",
      "23.447647094726562\n",
      "23.443466186523438\n",
      "23.31714630126953\n",
      "23.136133193969727\n",
      "22.99697494506836\n",
      "22.94344711303711\n",
      "22.96664047241211\n",
      "23.01802635192871\n",
      "23.049659729003906\n",
      "23.03679656982422\n",
      "22.97646713256836\n",
      "22.88961410522461\n",
      "rechoice sengene num: 351 rechoice nonsengene num: 351\n"
     ]
    },
    {
     "name": "stderr",
     "output_type": "stream",
     "text": [
      "# 2022-11-22 13:23:49.380 [INFO] [2913966771.py:17] epoch: 6\n"
     ]
    },
    {
     "name": "stdout",
     "output_type": "stream",
     "text": [
      "    Sencell num: 610, Nonsencell num: 6100\n",
      "sencell cover: 1.0\n",
      "sengene cover: 1.0\n",
      "22.793476104736328\n",
      "22.751148223876953\n",
      "22.74424934387207\n",
      "22.75848960876465\n",
      "22.765552520751953\n",
      "22.745534896850586\n",
      "22.70099449157715\n",
      "22.648386001586914\n",
      "22.604076385498047\n",
      "22.575448989868164\n",
      "22.56015968322754\n",
      "22.5505428314209\n",
      "22.534912109375\n",
      "22.507068634033203\n",
      "22.46979522705078\n",
      "22.431684494018555\n",
      "22.398767471313477\n",
      "22.372772216796875\n",
      "22.351972579956055\n",
      "22.332773208618164\n",
      "rechoice sengene num: 351 rechoice nonsengene num: 351\n"
     ]
    },
    {
     "name": "stderr",
     "output_type": "stream",
     "text": [
      "# 2022-11-22 13:31:45.603 [INFO] [2913966771.py:17] epoch: 7\n"
     ]
    },
    {
     "name": "stdout",
     "output_type": "stream",
     "text": [
      "    Sencell num: 610, Nonsencell num: 6100\n",
      "sencell cover: 1.0\n",
      "sengene cover: 1.0\n",
      "22.346195220947266\n",
      "22.301069259643555\n",
      "22.24684715270996\n",
      "22.19873809814453\n",
      "22.166488647460938\n",
      "22.145395278930664\n",
      "22.126611709594727\n",
      "22.099760055541992\n",
      "22.0614070892334\n",
      "22.014995574951172\n",
      "21.9682559967041\n",
      "21.926755905151367\n",
      "21.890140533447266\n",
      "21.855348587036133\n",
      "21.81771469116211\n",
      "21.775100708007812\n",
      "21.72814178466797\n",
      "21.67987060546875\n",
      "21.63310432434082\n",
      "21.58968734741211\n",
      "rechoice sengene num: 351 rechoice nonsengene num: 351\n"
     ]
    },
    {
     "name": "stderr",
     "output_type": "stream",
     "text": [
      "# 2022-11-22 13:39:39.269 [INFO] [2913966771.py:17] epoch: 8\n"
     ]
    },
    {
     "name": "stdout",
     "output_type": "stream",
     "text": [
      "    Sencell num: 608, Nonsencell num: 6080\n",
      "sencell cover: 1.0\n",
      "sengene cover: 1.0\n",
      "21.535646438598633\n",
      "21.497440338134766\n",
      "21.462993621826172\n",
      "21.429489135742188\n",
      "21.396949768066406\n",
      "21.369539260864258\n",
      "21.346187591552734\n",
      "21.327205657958984\n",
      "21.310680389404297\n",
      "21.295459747314453\n",
      "21.280561447143555\n",
      "21.26548194885254\n",
      "21.25006103515625\n",
      "21.234394073486328\n",
      "21.218395233154297\n",
      "21.201656341552734\n",
      "21.183692932128906\n",
      "21.164379119873047\n",
      "21.143991470336914\n",
      "21.12302589416504\n",
      "rechoice sengene num: 351 rechoice nonsengene num: 351\n"
     ]
    },
    {
     "name": "stderr",
     "output_type": "stream",
     "text": [
      "# 2022-11-22 13:47:30.662 [INFO] [2913966771.py:17] epoch: 9\n"
     ]
    },
    {
     "name": "stdout",
     "output_type": "stream",
     "text": [
      "    Sencell num: 609, Nonsencell num: 6090\n",
      "sencell cover: 0.9983579638752053\n",
      "sengene cover: 1.0\n",
      "21.11068344116211\n",
      "21.086891174316406\n",
      "21.065940856933594\n",
      "21.047245025634766\n",
      "21.030174255371094\n",
      "21.013704299926758\n",
      "20.996784210205078\n",
      "20.978864669799805\n",
      "20.96039581298828\n",
      "20.94240951538086\n",
      "20.925445556640625\n",
      "20.90926742553711\n",
      "20.893390655517578\n",
      "20.876861572265625\n",
      "20.859416961669922\n",
      "20.841468811035156\n",
      "20.823801040649414\n",
      "20.80665397644043\n",
      "20.789932250976562\n",
      "20.773334503173828\n",
      "rechoice sengene num: 351 rechoice nonsengene num: 351\n"
     ]
    },
    {
     "name": "stderr",
     "output_type": "stream",
     "text": [
      "# 2022-11-22 13:55:23.983 [INFO] [2913966771.py:5] iteration: 1\n"
     ]
    },
    {
     "name": "stdout",
     "output_type": "stream",
     "text": [
      "    Sencell num: 608, Nonsencell num: 6080\n",
      "sencell cover: 1.0\n",
      "sengene cover: 1.0\n",
      "Start sampling subgraph randomly ...\n",
      "    Sengene num: 351, Nonsengen num: 351\n",
      "subgraph total node num: (11260,)\n",
      "After sampling, gene num:  tensor(702)\n"
     ]
    },
    {
     "name": "stderr",
     "output_type": "stream",
     "text": [
      "# 2022-11-22 13:57:24.057 [INFO] [2913966771.py:17] epoch: 0\n"
     ]
    },
    {
     "name": "stdout",
     "output_type": "stream",
     "text": [
      "    Sencell num: 323, Nonsencell num: 3230\n",
      "这一簇没有非老化细胞： 20\n",
      "542.8991088867188\n",
      "这一簇没有非老化细胞： 20\n",
      "375.36785888671875\n",
      "这一簇没有非老化细胞： 20\n",
      "207.75294494628906\n",
      "这一簇没有非老化细胞： 20\n",
      "101.42276763916016\n",
      "这一簇没有非老化细胞： 20\n",
      "55.91575622558594\n",
      "这一簇没有非老化细胞： 20\n",
      "52.982513427734375\n",
      "这一簇没有非老化细胞： 20\n",
      "49.222843170166016\n",
      "这一簇没有非老化细胞： 20\n",
      "43.9949951171875\n",
      "这一簇没有非老化细胞： 20\n",
      "40.84183120727539\n",
      "这一簇没有非老化细胞： 20\n",
      "39.827919006347656\n",
      "这一簇没有非老化细胞： 20\n",
      "39.05295944213867\n",
      "这一簇没有非老化细胞： 20\n",
      "37.7864990234375\n",
      "这一簇没有非老化细胞： 20\n",
      "36.40788650512695\n",
      "这一簇没有非老化细胞： 20\n",
      "37.38595962524414\n",
      "这一簇没有非老化细胞： 20\n",
      "38.405235290527344\n",
      "这一簇没有非老化细胞： 20\n",
      "36.08600997924805\n",
      "这一簇没有非老化细胞： 20\n",
      "35.317440032958984\n",
      "这一簇没有非老化细胞： 20\n",
      "35.273704528808594\n",
      "这一簇没有非老化细胞： 20\n",
      "34.00276565551758\n",
      "这一簇没有非老化细胞： 20\n",
      "32.21623611450195\n",
      "rechoice sengene num: 351 rechoice nonsengene num: 351\n"
     ]
    },
    {
     "name": "stderr",
     "output_type": "stream",
     "text": [
      "# 2022-11-22 14:03:22.888 [INFO] [2913966771.py:17] epoch: 1\n"
     ]
    },
    {
     "name": "stdout",
     "output_type": "stream",
     "text": [
      "    Sencell num: 505, Nonsencell num: 5050\n",
      "sencell cover: 0.4099009900990099\n",
      "sengene cover: 0.5897435897435898\n",
      "这一簇没有非老化细胞： 19\n",
      "40.85384750366211\n",
      "这一簇没有非老化细胞： 19\n",
      "37.46969223022461\n",
      "这一簇没有非老化细胞： 19\n",
      "33.08100509643555\n",
      "这一簇没有非老化细胞： 19\n",
      "27.832904815673828\n",
      "这一簇没有非老化细胞： 19\n",
      "25.86498260498047\n",
      "这一簇没有非老化细胞： 19\n",
      "29.311994552612305\n",
      "这一簇没有非老化细胞： 19\n",
      "32.66014862060547\n",
      "这一簇没有非老化细胞： 19\n",
      "34.00018310546875\n",
      "这一簇没有非老化细胞： 19\n",
      "33.0740966796875\n",
      "这一簇没有非老化细胞： 19\n",
      "30.55792236328125\n",
      "这一簇没有非老化细胞： 19\n",
      "27.569549560546875\n",
      "这一簇没有非老化细胞： 19\n",
      "25.49114990234375\n",
      "这一簇没有非老化细胞： 19\n",
      "25.95132064819336\n",
      "这一簇没有非老化细胞： 19\n",
      "27.74883270263672\n",
      "这一簇没有非老化细胞： 19\n",
      "28.87978744506836\n",
      "这一簇没有非老化细胞： 19\n",
      "29.011119842529297\n",
      "这一簇没有非老化细胞： 19\n",
      "28.25758171081543\n",
      "这一簇没有非老化细胞： 19\n",
      "26.834495544433594\n",
      "这一簇没有非老化细胞： 19\n",
      "25.42195701599121\n",
      "这一簇没有非老化细胞： 19\n",
      "25.051128387451172\n",
      "rechoice sengene num: 351 rechoice nonsengene num: 351\n"
     ]
    },
    {
     "name": "stderr",
     "output_type": "stream",
     "text": [
      "# 2022-11-22 14:10:17.964 [INFO] [2913966771.py:17] epoch: 2\n"
     ]
    },
    {
     "name": "stdout",
     "output_type": "stream",
     "text": [
      "    Sencell num: 613, Nonsencell num: 6130\n",
      "sencell cover: 0.8091353996737357\n",
      "sengene cover: 0.9173789173789174\n",
      "32.89606475830078\n",
      "30.987342834472656\n",
      "28.689456939697266\n",
      "26.170900344848633\n",
      "24.533899307250977\n",
      "24.980512619018555\n",
      "26.435949325561523\n",
      "27.720706939697266\n",
      "28.24125862121582\n",
      "27.875526428222656\n",
      "26.81593132019043\n",
      "25.464187622070312\n",
      "24.317947387695312\n",
      "23.820886611938477\n",
      "24.13258171081543\n",
      "24.76626968383789\n",
      "25.206668853759766\n",
      "25.24356460571289\n",
      "24.894350051879883\n",
      "24.287940979003906\n",
      "rechoice sengene num: 351 rechoice nonsengene num: 351\n"
     ]
    },
    {
     "name": "stderr",
     "output_type": "stream",
     "text": [
      "# 2022-11-22 14:18:22.515 [INFO] [2913966771.py:17] epoch: 3\n"
     ]
    },
    {
     "name": "stdout",
     "output_type": "stream",
     "text": [
      "    Sencell num: 619, Nonsencell num: 6190\n",
      "sencell cover: 0.9273021001615509\n",
      "sengene cover: 0.9401709401709402\n",
      "32.00407791137695\n",
      "31.016925811767578\n",
      "29.80253791809082\n",
      "28.36805534362793\n",
      "26.7182559967041\n",
      "24.885866165161133\n",
      "23.03837776184082\n",
      "21.75486946105957\n",
      "21.751035690307617\n",
      "22.566335678100586\n",
      "23.454936981201172\n",
      "24.019176483154297\n",
      "24.103073120117188\n",
      "23.72354507446289\n",
      "22.980371475219727\n",
      "22.073837280273438\n",
      "21.217424392700195\n",
      "20.58495330810547\n",
      "20.305994033813477\n",
      "20.37389373779297\n",
      "rechoice sengene num: 351 rechoice nonsengene num: 351\n"
     ]
    },
    {
     "name": "stderr",
     "output_type": "stream",
     "text": [
      "# 2022-11-22 14:26:06.107 [INFO] [2913966771.py:17] epoch: 4\n"
     ]
    },
    {
     "name": "stdout",
     "output_type": "stream",
     "text": [
      "    Sencell num: 608, Nonsencell num: 6080\n",
      "sencell cover: 0.9901315789473685\n",
      "sengene cover: 0.9658119658119658\n",
      "20.076757431030273\n",
      "20.24140739440918\n",
      "20.31540298461914\n",
      "20.258968353271484\n",
      "20.10586166381836\n",
      "19.90654945373535\n",
      "19.718124389648438\n",
      "19.592119216918945\n",
      "19.55032730102539\n",
      "19.56980323791504\n",
      "19.5993709564209\n",
      "19.593828201293945\n",
      "19.52841567993164\n",
      "19.405323028564453\n",
      "19.24629020690918\n",
      "19.08580780029297\n",
      "18.953819274902344\n",
      "18.870018005371094\n",
      "18.82823371887207\n",
      "18.81256103515625\n",
      "rechoice sengene num: 351 rechoice nonsengene num: 351\n"
     ]
    },
    {
     "name": "stderr",
     "output_type": "stream",
     "text": [
      "# 2022-11-22 14:33:42.846 [INFO] [2913966771.py:17] epoch: 5\n"
     ]
    },
    {
     "name": "stdout",
     "output_type": "stream",
     "text": [
      "    Sencell num: 613, Nonsencell num: 6130\n",
      "sencell cover: 0.9885807504078303\n",
      "sengene cover: 0.9886039886039886\n",
      "22.06807518005371\n",
      "21.94648551940918\n",
      "21.585346221923828\n",
      "21.033327102661133\n",
      "20.351552963256836\n",
      "19.64786148071289\n",
      "19.154577255249023\n",
      "19.058582305908203\n",
      "19.262096405029297\n",
      "19.558027267456055\n",
      "19.75762176513672\n",
      "19.776653289794922\n",
      "19.6153507232666\n",
      "19.331106185913086\n",
      "19.024980545043945\n",
      "18.784456253051758\n",
      "18.682186126708984\n",
      "18.71485137939453\n",
      "18.81728172302246\n",
      "18.914575576782227\n",
      "rechoice sengene num: 351 rechoice nonsengene num: 351\n"
     ]
    },
    {
     "name": "stderr",
     "output_type": "stream",
     "text": [
      "# 2022-11-22 14:41:24.307 [INFO] [2913966771.py:17] epoch: 6\n"
     ]
    },
    {
     "name": "stdout",
     "output_type": "stream",
     "text": [
      "    Sencell num: 613, Nonsencell num: 6130\n",
      "sencell cover: 0.9918433931484503\n",
      "sengene cover: 0.9971509971509972\n",
      "20.693092346191406\n",
      "20.547128677368164\n",
      "20.1917781829834\n",
      "19.70301055908203\n",
      "19.197019577026367\n",
      "18.84295082092285\n",
      "18.766225814819336\n",
      "18.919189453125\n",
      "19.134675979614258\n",
      "19.270763397216797\n",
      "19.25570297241211\n",
      "19.1000919342041\n",
      "18.869935989379883\n",
      "18.654260635375977\n",
      "18.535093307495117\n",
      "18.53848648071289\n",
      "18.618698120117188\n",
      "18.70227813720703\n",
      "18.73024559020996\n",
      "18.68263816833496\n",
      "rechoice sengene num: 351 rechoice nonsengene num: 351\n"
     ]
    },
    {
     "name": "stderr",
     "output_type": "stream",
     "text": [
      "# 2022-11-22 14:49:09.904 [INFO] [2913966771.py:17] epoch: 7\n"
     ]
    },
    {
     "name": "stdout",
     "output_type": "stream",
     "text": [
      "    Sencell num: 612, Nonsencell num: 6120\n",
      "sencell cover: 0.9934640522875817\n",
      "sengene cover: 0.9971509971509972\n",
      "20.29836082458496\n",
      "19.829566955566406\n",
      "19.237689971923828\n",
      "18.750465393066406\n",
      "18.6157283782959\n",
      "18.78011703491211\n",
      "19.049470901489258\n",
      "19.232349395751953\n",
      "19.23843002319336\n",
      "19.06744384765625\n",
      "18.801055908203125\n",
      "18.551963806152344\n",
      "18.424951553344727\n",
      "18.444721221923828\n",
      "18.544979095458984\n",
      "18.63712501525879\n",
      "18.644676208496094\n",
      "18.5542049407959\n",
      "18.414051055908203\n",
      "18.291683197021484\n",
      "rechoice sengene num: 351 rechoice nonsengene num: 351\n"
     ]
    },
    {
     "name": "stderr",
     "output_type": "stream",
     "text": [
      "# 2022-11-22 14:56:53.857 [INFO] [2913966771.py:17] epoch: 8\n"
     ]
    },
    {
     "name": "stdout",
     "output_type": "stream",
     "text": [
      "    Sencell num: 611, Nonsencell num: 6110\n",
      "sencell cover: 0.9967266775777414\n",
      "sengene cover: 0.9971509971509972\n",
      "18.30051040649414\n",
      "18.377437591552734\n",
      "18.329586029052734\n",
      "18.181150436401367\n",
      "18.011369705200195\n",
      "17.905193328857422\n",
      "17.893712997436523\n",
      "17.941120147705078\n",
      "17.972782135009766\n",
      "17.94379234313965\n",
      "17.860017776489258\n",
      "17.76553726196289\n",
      "17.708633422851562\n",
      "17.702634811401367\n",
      "17.721595764160156\n",
      "17.7286319732666\n",
      "17.70168685913086\n",
      "17.64742088317871\n",
      "17.591392517089844\n",
      "17.55679702758789\n",
      "rechoice sengene num: 351 rechoice nonsengene num: 351\n",
      "    Sencell num: 611, Nonsencell num: 6110\n"
     ]
    },
    {
     "name": "stderr",
     "output_type": "stream",
     "text": [
      "# 2022-11-22 15:04:37.790 [INFO] [2913966771.py:17] epoch: 9\n"
     ]
    },
    {
     "name": "stdout",
     "output_type": "stream",
     "text": [
      "sencell cover: 0.9934533551554828\n",
      "sengene cover: 0.9971509971509972\n",
      "20.72797966003418\n",
      "20.44113540649414\n",
      "19.743364334106445\n",
      "18.85123062133789\n",
      "18.13644027709961\n",
      "18.084991455078125\n",
      "18.536048889160156\n",
      "18.9796085357666\n",
      "19.08907127380371\n",
      "18.826019287109375\n",
      "18.36545181274414\n",
      "17.98279571533203\n",
      "17.86949348449707\n",
      "18.024852752685547\n",
      "18.24119758605957\n",
      "18.332609176635742\n",
      "18.246057510375977\n",
      "18.030534744262695\n",
      "17.802173614501953\n",
      "17.69996452331543\n",
      "rechoice sengene num: 351 rechoice nonsengene num: 351\n"
     ]
    },
    {
     "name": "stderr",
     "output_type": "stream",
     "text": [
      "# 2022-11-22 15:12:20.800 [INFO] [2913966771.py:5] iteration: 2\n"
     ]
    },
    {
     "name": "stdout",
     "output_type": "stream",
     "text": [
      "    Sencell num: 606, Nonsencell num: 6060\n",
      "sencell cover: 1.0\n",
      "sengene cover: 0.9943019943019943\n",
      "Start sampling subgraph randomly ...\n",
      "    Sengene num: 351, Nonsengen num: 351\n",
      "subgraph total node num: (11260,)\n",
      "After sampling, gene num:  tensor(702)\n"
     ]
    },
    {
     "name": "stderr",
     "output_type": "stream",
     "text": [
      "# 2022-11-22 15:14:15.965 [INFO] [2913966771.py:17] epoch: 0\n"
     ]
    },
    {
     "name": "stdout",
     "output_type": "stream",
     "text": [
      "    Sencell num: 327, Nonsencell num: 3270\n",
      "这一簇没有非老化细胞： 20\n",
      "797.5347290039062\n",
      "这一簇没有非老化细胞： 20\n",
      "502.7525939941406\n",
      "这一簇没有非老化细胞： 20\n",
      "301.12286376953125\n",
      "这一簇没有非老化细胞： 20\n",
      "264.1591796875\n",
      "这一簇没有非老化细胞： 20\n",
      "205.43470764160156\n",
      "这一簇没有非老化细胞： 20\n",
      "117.71183776855469\n",
      "这一簇没有非老化细胞： 20\n",
      "54.177391052246094\n",
      "这一簇没有非老化细胞： 20\n",
      "41.9871940612793\n",
      "这一簇没有非老化细胞： 20\n",
      "36.40422821044922\n",
      "这一簇没有非老化细胞： 20\n",
      "33.98512649536133\n",
      "这一簇没有非老化细胞： 20\n",
      "33.058860778808594\n",
      "这一簇没有非老化细胞： 20\n",
      "33.11321258544922\n",
      "这一簇没有非老化细胞： 20\n",
      "34.028724670410156\n",
      "这一簇没有非老化细胞： 20\n",
      "34.83780288696289\n",
      "这一簇没有非老化细胞： 20\n",
      "34.3739128112793\n",
      "这一簇没有非老化细胞： 20\n",
      "33.57963562011719\n",
      "这一簇没有非老化细胞： 20\n",
      "33.34140396118164\n",
      "这一簇没有非老化细胞： 20\n",
      "33.1641960144043\n",
      "这一簇没有非老化细胞： 20\n",
      "32.87604904174805\n",
      "这一簇没有非老化细胞： 20\n",
      "32.60063171386719\n",
      "rechoice sengene num: 351 rechoice nonsengene num: 351\n"
     ]
    },
    {
     "name": "stderr",
     "output_type": "stream",
     "text": [
      "# 2022-11-22 15:20:31.756 [INFO] [2913966771.py:17] epoch: 1\n"
     ]
    },
    {
     "name": "stdout",
     "output_type": "stream",
     "text": [
      "    Sencell num: 529, Nonsencell num: 5290\n",
      "sencell cover: 0.4045368620037807\n",
      "sengene cover: 0.6296296296296297\n",
      "这一簇没有非老化细胞： 20\n",
      "41.530250549316406\n",
      "这一簇没有非老化细胞： 20\n",
      "40.76370620727539\n",
      "这一簇没有非老化细胞： 20\n",
      "39.765235900878906\n",
      "这一簇没有非老化细胞： 20\n",
      "38.53087615966797\n",
      "这一簇没有非老化细胞： 20\n",
      "37.04924011230469\n",
      "这一簇没有非老化细胞： 20\n",
      "35.32749557495117\n",
      "这一簇没有非老化细胞： 20\n",
      "33.37969970703125\n",
      "这一簇没有非老化细胞： 20\n",
      "31.17198944091797\n",
      "这一簇没有非老化细胞： 20\n",
      "28.682058334350586\n",
      "这一簇没有非老化细胞： 20\n",
      "25.940631866455078\n",
      "这一簇没有非老化细胞： 20\n",
      "23.382883071899414\n",
      "这一簇没有非老化细胞： 20\n",
      "21.424747467041016\n",
      "这一簇没有非老化细胞： 20\n",
      "20.47447395324707\n",
      "这一簇没有非老化细胞： 20\n",
      "21.82518768310547\n",
      "这一簇没有非老化细胞： 20\n",
      "23.929977416992188\n",
      "这一簇没有非老化细胞： 20\n",
      "25.023082733154297\n",
      "这一簇没有非老化细胞： 20\n",
      "24.629920959472656\n",
      "这一簇没有非老化细胞： 20\n",
      "23.107336044311523\n",
      "这一簇没有非老化细胞： 20\n",
      "21.245393753051758\n",
      "这一簇没有非老化细胞： 20\n",
      "19.98377227783203\n",
      "rechoice sengene num: 351 rechoice nonsengene num: 351\n"
     ]
    },
    {
     "name": "stderr",
     "output_type": "stream",
     "text": [
      "# 2022-11-22 15:27:50.790 [INFO] [2913966771.py:17] epoch: 2\n"
     ]
    },
    {
     "name": "stdout",
     "output_type": "stream",
     "text": [
      "    Sencell num: 601, Nonsencell num: 6010\n",
      "sencell cover: 0.8019966722129783\n",
      "sengene cover: 0.8632478632478633\n",
      "22.76407814025879\n",
      "23.721755981445312\n",
      "24.22194480895996\n",
      "24.311132431030273\n",
      "24.03650665283203\n",
      "23.43061065673828\n",
      "22.53054428100586\n",
      "21.405160903930664\n",
      "20.19478988647461\n",
      "19.015653610229492\n",
      "17.96224021911621\n",
      "17.437341690063477\n",
      "17.751319885253906\n",
      "18.495622634887695\n",
      "19.050817489624023\n",
      "19.145132064819336\n",
      "18.78093910217285\n",
      "18.11805534362793\n",
      "17.404266357421875\n",
      "16.89859962463379\n",
      "rechoice sengene num: 351 rechoice nonsengene num: 351\n"
     ]
    },
    {
     "name": "stderr",
     "output_type": "stream",
     "text": [
      "# 2022-11-22 15:35:21.951 [INFO] [2913966771.py:17] epoch: 3\n"
     ]
    },
    {
     "name": "stdout",
     "output_type": "stream",
     "text": [
      "    Sencell num: 599, Nonsencell num: 5990\n",
      "sencell cover: 0.9749582637729549\n",
      "sengene cover: 0.9544159544159544\n",
      "20.750391006469727\n",
      "21.110198974609375\n",
      "21.16480827331543\n",
      "20.947580337524414\n",
      "20.492904663085938\n",
      "19.840715408325195\n",
      "19.05648422241211\n",
      "18.24428939819336\n",
      "17.4679012298584\n",
      "16.779760360717773\n",
      "16.29075813293457\n",
      "16.15121841430664\n",
      "16.38616943359375\n",
      "16.823747634887695\n",
      "17.175785064697266\n",
      "17.268962860107422\n",
      "17.076759338378906\n",
      "16.68830680847168\n",
      "16.26404571533203\n",
      "15.937874794006348\n",
      "rechoice sengene num: 351 rechoice nonsengene num: 351\n"
     ]
    },
    {
     "name": "stderr",
     "output_type": "stream",
     "text": [
      "# 2022-11-22 15:42:40.517 [INFO] [2913966771.py:17] epoch: 4\n"
     ]
    },
    {
     "name": "stdout",
     "output_type": "stream",
     "text": [
      "    Sencell num: 599, Nonsencell num: 5990\n",
      "sencell cover: 0.998330550918197\n",
      "sengene cover: 0.9914529914529915\n",
      "17.673662185668945\n",
      "16.71346664428711\n",
      "15.995534896850586\n",
      "15.787849426269531\n",
      "15.984274864196777\n",
      "16.31547737121582\n",
      "16.58942985534668\n",
      "16.734968185424805\n",
      "16.739322662353516\n",
      "16.61435890197754\n",
      "16.385478973388672\n",
      "16.100658416748047\n",
      "15.824979782104492\n",
      "15.638407707214355\n",
      "15.595096588134766\n",
      "15.681818008422852\n",
      "15.81584644317627\n",
      "15.90882682800293\n",
      "15.912361145019531\n",
      "15.827467918395996\n",
      "rechoice sengene num: 351 rechoice nonsengene num: 351\n"
     ]
    },
    {
     "name": "stderr",
     "output_type": "stream",
     "text": [
      "# 2022-11-22 15:49:51.411 [INFO] [2913966771.py:17] epoch: 5\n"
     ]
    },
    {
     "name": "stdout",
     "output_type": "stream",
     "text": [
      "    Sencell num: 600, Nonsencell num: 6000\n",
      "sencell cover: 0.9983333333333333\n",
      "sengene cover: 0.9971509971509972\n",
      "16.387149810791016\n",
      "16.030588150024414\n",
      "15.72427749633789\n",
      "15.581974029541016\n",
      "15.60605239868164\n",
      "15.717093467712402\n",
      "15.832137107849121\n",
      "15.89643383026123\n",
      "15.889892578125\n",
      "15.817097663879395\n",
      "15.699043273925781\n",
      "15.570124626159668\n",
      "15.469464302062988\n",
      "15.424007415771484\n",
      "15.436225891113281\n",
      "15.482898712158203\n",
      "15.5234375\n",
      "15.528855323791504\n",
      "15.493256568908691\n",
      "15.43150806427002\n",
      "rechoice sengene num: 351 rechoice nonsengene num: 351\n"
     ]
    },
    {
     "name": "stderr",
     "output_type": "stream",
     "text": [
      "# 2022-11-22 15:57:44.248 [INFO] [2913966771.py:17] epoch: 6\n"
     ]
    },
    {
     "name": "stdout",
     "output_type": "stream",
     "text": [
      "    Sencell num: 600, Nonsencell num: 6000\n",
      "sencell cover: 1.0\n",
      "sengene cover: 0.9971509971509972\n",
      "15.355935096740723\n",
      "15.37509536743164\n",
      "15.38096809387207\n",
      "15.367049217224121\n",
      "15.335975646972656\n",
      "15.296769142150879\n",
      "15.260883331298828\n",
      "15.236001014709473\n",
      "15.224372863769531\n",
      "15.222493171691895\n",
      "15.223039627075195\n",
      "15.218550682067871\n",
      "15.205310821533203\n",
      "15.184426307678223\n",
      "15.160422325134277\n",
      "15.139029502868652\n",
      "15.122960090637207\n",
      "15.112276077270508\n",
      "15.104867935180664\n",
      "15.097610473632812\n",
      "rechoice sengene num: 351 rechoice nonsengene num: 351\n"
     ]
    },
    {
     "name": "stderr",
     "output_type": "stream",
     "text": [
      "# 2022-11-22 16:05:34.380 [INFO] [2913966771.py:17] epoch: 7\n"
     ]
    },
    {
     "name": "stdout",
     "output_type": "stream",
     "text": [
      "    Sencell num: 599, Nonsencell num: 5990\n",
      "sencell cover: 1.0\n",
      "sengene cover: 0.9971509971509972\n",
      "15.628203392028809\n",
      "15.54926872253418\n",
      "15.412812232971191\n",
      "15.25223445892334\n",
      "15.112157821655273\n",
      "15.032867431640625\n",
      "15.028186798095703\n",
      "15.077364921569824\n",
      "15.139153480529785\n",
      "15.170310974121094\n",
      "15.152179718017578\n",
      "15.091686248779297\n",
      "15.013689041137695\n",
      "14.948285102844238\n",
      "14.912572860717773\n",
      "14.907326698303223\n",
      "14.920342445373535\n",
      "14.935420036315918\n",
      "14.93939208984375\n",
      "14.926735877990723\n",
      "rechoice sengene num: 351 rechoice nonsengene num: 351\n",
      "    Sencell num: 599, Nonsencell num: 5990\n"
     ]
    },
    {
     "name": "stderr",
     "output_type": "stream",
     "text": [
      "# 2022-11-22 16:13:23.652 [INFO] [2913966771.py:17] epoch: 8\n"
     ]
    },
    {
     "name": "stdout",
     "output_type": "stream",
     "text": [
      "sencell cover: 0.996661101836394\n",
      "sengene cover: 0.9971509971509972\n",
      "15.54859447479248\n",
      "15.422137260437012\n",
      "15.244694709777832\n",
      "15.05354118347168\n",
      "14.89857006072998\n",
      "14.822470664978027\n",
      "14.8349609375\n",
      "14.904287338256836\n",
      "14.980264663696289\n",
      "15.017395973205566\n",
      "14.9940824508667\n",
      "14.921215057373047\n",
      "14.829828262329102\n",
      "14.752108573913574\n",
      "14.708158493041992\n",
      "14.70035171508789\n",
      "14.715679168701172\n",
      "14.736662864685059\n",
      "14.746475219726562\n",
      "14.737373352050781\n",
      "rechoice sengene num: 351 rechoice nonsengene num: 351\n"
     ]
    },
    {
     "name": "stderr",
     "output_type": "stream",
     "text": [
      "# 2022-11-22 16:21:13.335 [INFO] [2913966771.py:17] epoch: 9\n"
     ]
    },
    {
     "name": "stdout",
     "output_type": "stream",
     "text": [
      "    Sencell num: 599, Nonsencell num: 5990\n",
      "sencell cover: 1.0\n",
      "sengene cover: 0.9971509971509972\n",
      "15.155023574829102\n",
      "15.041267395019531\n",
      "14.88664722442627\n",
      "14.729249954223633\n",
      "14.612979888916016\n",
      "14.56500244140625\n",
      "14.58199405670166\n",
      "14.636119842529297\n",
      "14.688108444213867\n",
      "14.70687484741211\n",
      "14.681159019470215\n",
      "14.620616912841797\n",
      "14.548260688781738\n",
      "14.48780632019043\n",
      "14.453946113586426\n",
      "14.447403907775879\n",
      "14.457419395446777\n",
      "14.47061824798584\n",
      "14.475290298461914\n",
      "14.465812683105469\n",
      "rechoice sengene num: 351 rechoice nonsengene num: 351\n"
     ]
    },
    {
     "name": "stderr",
     "output_type": "stream",
     "text": [
      "# 2022-11-22 16:29:01.937 [INFO] [2913966771.py:5] iteration: 3\n"
     ]
    },
    {
     "name": "stdout",
     "output_type": "stream",
     "text": [
      "    Sencell num: 600, Nonsencell num: 6000\n",
      "sencell cover: 0.9983333333333333\n",
      "sengene cover: 0.9971509971509972\n",
      "Start sampling subgraph randomly ...\n",
      "    Sengene num: 351, Nonsengen num: 351\n",
      "subgraph total node num: (11260,)\n",
      "After sampling, gene num:  tensor(702)\n"
     ]
    },
    {
     "name": "stderr",
     "output_type": "stream",
     "text": [
      "# 2022-11-22 16:31:07.418 [INFO] [2913966771.py:17] epoch: 0\n"
     ]
    },
    {
     "name": "stdout",
     "output_type": "stream",
     "text": [
      "    Sencell num: 329, Nonsencell num: 3290\n",
      "这一簇没有非老化细胞： 20\n",
      "703.7671508789062\n",
      "这一簇没有非老化细胞： 20\n",
      "477.7999267578125\n",
      "这一簇没有非老化细胞： 20\n",
      "237.04759216308594\n",
      "这一簇没有非老化细胞： 20\n",
      "86.91600036621094\n",
      "这一簇没有非老化细胞： 20\n",
      "44.630062103271484\n",
      "这一簇没有非老化细胞： 20\n",
      "41.27510070800781\n",
      "这一簇没有非老化细胞： 20\n",
      "34.865291595458984\n"
     ]
    }
   ],
   "source": [
    "all_marker_index=sen_gene_ls\n",
    "    \n",
    "iteration_results=[]\n",
    "for iteration in range(5):\n",
    "    logger.info(f\"iteration: {iteration}\")\n",
    "    sampled_graph,sencell_dict,nonsencell_dict,cell_clusters,big_graph_index_dict=sub_sampling_by_random(graph_nx,\n",
    "                                                            sen_gene_ls,\n",
    "                                                            nonsen_gene_ls,\n",
    "                                                            GAT_model,\n",
    "                                                            all_marker_index,\n",
    "                                                            n_gene=len(all_marker_index),                                                        \n",
    "                                                            gene_num=2245,cell_num=10558,\n",
    "                                                            gene_rate=0.3,cell_rate=0.5,\n",
    "                                                            debug=False)\n",
    "    old_sengene_indexs=all_marker_index\n",
    "    for epoch in range(10):\n",
    "        logger.info(f\"epoch: {epoch}\")\n",
    "        old_sencell_dict=sencell_dict\n",
    "        cellmodel,sencell_dict,nonsencell_dict=cell_optim(cellmodel,optimizer,\n",
    "                                                          sencell_dict,nonsencell_dict,device,\n",
    "                                                         train=True)\n",
    "        sampled_graph=update_cell_embeddings(sampled_graph,sencell_dict,nonsencell_dict)\n",
    "        sencell_dict,nonsencell_dict, \\\n",
    "        sen_gene_indexs,nonsen_gene_indexs=identify_sengene_then_sencell(sampled_graph,GAT_model,\n",
    "                                                                      sencell_dict,nonsencell_dict,\n",
    "                                                                      cell_clusters,\n",
    "                                                                      big_graph_index_dict,\n",
    "                                                                      len(all_marker_index))\n",
    "\n",
    "        get_sencell_cover(old_sencell_dict,sencell_dict)\n",
    "        get_sengene_cover(old_sengene_indexs,sen_gene_indexs)\n",
    "        old_sengene_indexs=sen_gene_indexs\n",
    "    iteration_results.append([sen_gene_indexs,sencell_dict])"
   ]
  },
  {
   "cell_type": "code",
   "execution_count": null,
   "id": "049b7b3b",
   "metadata": {},
   "outputs": [],
   "source": []
  }
 ],
 "metadata": {
  "kernelspec": {
   "display_name": "Python (DeepMAPS)",
   "language": "python",
   "name": "deepmaps"
  },
  "language_info": {
   "codemirror_mode": {
    "name": "ipython",
    "version": 3
   },
   "file_extension": ".py",
   "mimetype": "text/x-python",
   "name": "python",
   "nbconvert_exporter": "python",
   "pygments_lexer": "ipython3",
   "version": "3.8.5"
  }
 },
 "nbformat": 4,
 "nbformat_minor": 5
}
