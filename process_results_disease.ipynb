{
 "cells": [
  {
   "cell_type": "code",
   "execution_count": 1,
   "id": "43859fb9",
   "metadata": {},
   "outputs": [],
   "source": [
    "jobids=\"\"\"# Submitted batch job 14001082\n",
    "# Submitted batch job 14001083\n",
    "# Submitted batch job 14001084\"\"\"\n",
    "jobids=[i.split(' ')[-1] for i in jobids.split(\"\\n\")]"
   ]
  },
  {
   "cell_type": "code",
   "execution_count": null,
   "id": "12f10ac0",
   "metadata": {},
   "outputs": [],
   "source": []
  },
  {
   "cell_type": "code",
   "execution_count": null,
   "id": "7e4e95c1",
   "metadata": {},
   "outputs": [],
   "source": []
  },
  {
   "cell_type": "code",
   "execution_count": 3,
   "id": "7f29a215",
   "metadata": {},
   "outputs": [
    {
     "name": "stdout",
     "output_type": "stream",
     "text": [
      "load data disease1!\n",
      "cluster 数量： 22\n",
      "celltype names: ['Macrophages', 'T cell lineage', 'Unknown', 'Monocytes', 'Innate lymphoid cell NK', 'AT2', 'Dendritic cells', 'Multiciliated lineage', 'Fibroblasts', 'B cell lineage', 'AT1', 'EC capillary', 'Lymphatic EC mature', 'Secretory', 'Mast cells', 'EC venous', 'Basal', 'EC arterial', 'Myofibroblasts', 'None', 'SM activated stress response', 'Lymphatic EC differentiating']\n",
      "----------------------------  ----\n",
      "Macrophages                   6381\n",
      "T cell lineage                1010\n",
      "Unknown                        812\n",
      "Monocytes                      340\n",
      "Innate lymphoid cell NK        251\n",
      "AT2                            241\n",
      "Dendritic cells                240\n",
      "Multiciliated lineage          214\n",
      "Fibroblasts                    195\n",
      "B cell lineage                 124\n",
      "AT1                            114\n",
      "EC capillary                   100\n",
      "Lymphatic EC mature             93\n",
      "Secretory                       92\n",
      "Mast cells                      81\n",
      "EC venous                       74\n",
      "Basal                           34\n",
      "EC arterial                     24\n",
      "Myofibroblasts                  13\n",
      "None                            10\n",
      "SM activated stress response     1\n",
      "Lymphatic EC differentiating     1\n",
      "----------------------------  ----\n",
      "各marker list所包含的gene数：\n",
      "  Markers1    Markers2    Markers3    Markers4\n",
      "----------  ----------  ----------  ----------\n",
      "       126          78         145          84\n",
      "total marker genes:  380\n"
     ]
    },
    {
     "name": "stderr",
     "output_type": "stream",
     "text": [
      "/users/PCON0022/haocheng/.conda/envs/deepmaps_env/lib/python3.8/site-packages/anndata/compat/_overloaded_dict.py:106: ImplicitModificationWarning: Trying to modify attribute `._uns` of view, initializing view as actual.\n",
      "  self.data[key] = value\n"
     ]
    },
    {
     "name": "stdout",
     "output_type": "stream",
     "text": [
      "highly_genes num:  2000\n",
      "After highly genes dropped duplicate:  1926\n",
      "Total gene num: 2279\n",
      "cell num: 10445, gene num: 2279\n",
      "The number of edges: 892449\n"
     ]
    },
    {
     "name": "stderr",
     "output_type": "stream",
     "text": [
      "# 2022-12-07 08:18:39.267 [INFO] [3258086314.py:81] Part 1, data loading and processing end!\n"
     ]
    },
    {
     "name": "stdout",
     "output_type": "stream",
     "text": [
      "device: cuda:0\n",
      "the number of edges: 892449\n",
      "edge index:  torch.Size([2, 892449])\n",
      "node feature:  torch.Size([12724, 128])\n",
      "Pyg graph: Data(x=[12724, 128], edge_index=[2, 1784898], y=[12724])\n"
     ]
    },
    {
     "name": "stderr",
     "output_type": "stream",
     "text": [
      "# 2022-12-07 08:18:40.166 [INFO] [3258086314.py:103] Part 2, AE end!\n",
      "# 2022-12-07 08:18:40.212 [INFO] [3258086314.py:110] Part 3, training GAT end!\n"
     ]
    },
    {
     "name": "stdout",
     "output_type": "stream",
     "text": [
      "graph.is_directed(): False\n"
     ]
    }
   ],
   "source": [
    "import numpy as np\n",
    "import seaborn as sns\n",
    "import torch\n",
    "\n",
    "import umap\n",
    "import matplotlib.pyplot as plt\n",
    "import pandas as pd\n",
    "from community import community_louvain\n",
    "from torch_geometric.utils import k_hop_subgraph,to_networkx,from_networkx\n",
    "import matplotlib\n",
    "\n",
    "import utils\n",
    "import plots\n",
    "from model_AE import reduction_AE\n",
    "from model_GAT import Encoder,SenGAE,train_GAT\n",
    "from model_Sencell import Sencell\n",
    "from sampling import sub_sampling_by_random\n",
    "from model_Sencell import cell_optim,update_cell_embeddings\n",
    "from sampling import identify_sengene_then_sencell\n",
    "\n",
    "import logging\n",
    "import os\n",
    "import argparse\n",
    "\n",
    "is_jupyter=True\n",
    "\n",
    "parser = argparse.ArgumentParser(description='Main program for sencells')\n",
    "\n",
    "parser.add_argument('--output_dir', type=str, default='./outputs', help='')\n",
    "parser.add_argument('--exp_name', type=str, default='', help='')\n",
    "parser.add_argument('--sencell_num', type=int, default=100, help='')\n",
    "parser.add_argument('--retrain', action='store_true', default=False, help='')\n",
    "\n",
    "\n",
    "if is_jupyter:\n",
    "    args = parser.parse_args(args=[])\n",
    "    args.exp_name='disease1'\n",
    "    args.retrain=False  \n",
    "else:\n",
    "    args = parser.parse_args()\n",
    "args.is_jupyter=is_jupyter\n",
    "\n",
    "args.exp_name='disease1_14001082'\n",
    "args.output_dir='./outputs/14001082'\n",
    "args.device_index=0\n",
    "\n",
    "if not os.path.exists(args.output_dir):\n",
    "    os.makedirs(args.output_dir)\n",
    "\n",
    "logging.basicConfig(format='%(asctime)s.%(msecs)03d [%(levelname)s] [%(filename)s:%(lineno)d] %(message)s',\n",
    "                    datefmt='# %Y-%m-%d %H:%M:%S')\n",
    "\n",
    "logging.getLogger().setLevel(logging.INFO)\n",
    "logger = logging.getLogger()\n",
    "\n",
    "# Part 1: load and process data\n",
    "# cell_cluster_arr在画umap的时候用\n",
    "if 's5' in args.exp_name:\n",
    "    adata,cluster_cell_ls,cell_cluster_arr,celltype_names=utils.load_data()\n",
    "elif 'healthy' in args.exp_name:\n",
    "    adata,cluster_cell_ls,cell_cluster_arr,celltype_names=utils.load_data_healthy()\n",
    "elif 'disease1' in args.exp_name:\n",
    "    adata, cluster_cell_ls, cell_cluster_arr, celltype_names = utils.load_data_disease1()\n",
    "elif 'disease' in args.exp_name:\n",
    "    adata,cluster_cell_ls,cell_cluster_arr,celltype_names=utils.load_data_disease()\n",
    "\n",
    "# plots.umapPlot(adata.obsm['X_umap'],clusters=cell_cluster_arr,labels=celltype_names)\n",
    "\n",
    "new_data, markers_index,\\\n",
    "    sen_gene_ls, nonsen_gene_ls, gene_names = utils.process_data(\n",
    "        adata, cluster_cell_ls, cell_cluster_arr)\n",
    "\n",
    "gene_cell = new_data.X.toarray().T\n",
    "args.gene_num = gene_cell.shape[0]\n",
    "args.cell_num = gene_cell.shape[1]\n",
    "\n",
    "print(f'cell num: {new_data.shape[0]}, gene num: {new_data.shape[1]}')\n",
    "\n",
    "graph_nx = utils.build_graph_nx(\n",
    "    gene_cell, cell_cluster_arr, sen_gene_ls, nonsen_gene_ls, gene_names)\n",
    "logger.info(\"Part 1, data loading and processing end!\")\n",
    "\n",
    "# Part 2: generate init embedding\n",
    "device = torch.device(f\"cuda:{args.device_index}\" if torch.cuda.is_available() else \"cpu\")\n",
    "print('device:', device)\n",
    "args.device = device\n",
    "\n",
    "if args.retrain:\n",
    "    gene_embed, cell_embed = reduction_AE(gene_cell, device)\n",
    "    print(gene_embed.shape, cell_embed.shape)\n",
    "    torch.save(gene_embed, os.path.join(\n",
    "        args.output_dir, f'{args.exp_name}_gene.emb'))\n",
    "    torch.save(cell_embed, os.path.join(\n",
    "        args.output_dir, f'{args.exp_name}_cell.emb'))\n",
    "else:\n",
    "    gene_embed = torch.load(os.path.join(\n",
    "        args.output_dir, f'{args.exp_name}_gene.emb'))\n",
    "    cell_embed = torch.load(os.path.join(\n",
    "        args.output_dir, f'{args.exp_name}_cell.emb'))\n",
    "\n",
    "graph_nx = utils.add_nx_embedding(graph_nx, gene_embed, cell_embed)\n",
    "graph_pyg = utils.build_graph_pyg(gene_cell, gene_embed, cell_embed)\n",
    "logger.info(\"Part 2, AE end!\")\n",
    "\n",
    "# Part 3: train GAT\n",
    "# graph_pyg=graph_pyg.to('cpu')\n",
    "\n",
    "GAT_model = train_GAT(graph_nx, graph_pyg, args,\n",
    "                      retrain=args.retrain, resampling=args.retrain)\n",
    "logger.info(\"Part 3, training GAT end!\")\n",
    "\n",
    "\n",
    "all_gene_ls = []\n",
    "\n",
    "list_sencell_cover = []\n",
    "list_sengene_cover = []"
   ]
  },
  {
   "cell_type": "code",
   "execution_count": null,
   "id": "13ba0162",
   "metadata": {},
   "outputs": [],
   "source": []
  },
  {
   "cell_type": "code",
   "execution_count": 4,
   "id": "52624aa6",
   "metadata": {},
   "outputs": [
    {
     "name": "stdout",
     "output_type": "stream",
     "text": [
      "device: cuda:0\n"
     ]
    }
   ],
   "source": [
    "device = torch.device(f\"cuda:{args.device_index}\" if torch.cuda.is_available() else \"cpu\")\n",
    "print('device:', device)\n",
    "args.device = device"
   ]
  },
  {
   "cell_type": "code",
   "execution_count": 5,
   "id": "c9fdb0ca",
   "metadata": {},
   "outputs": [
    {
     "name": "stderr",
     "output_type": "stream",
     "text": [
      "# 2022-12-07 08:19:21.472 [INFO] [2833460121.py:9] iteration: 0\n"
     ]
    },
    {
     "name": "stdout",
     "output_type": "stream",
     "text": [
      "Start sampling subgraph randomly ...\n",
      "    Sengene num: 353, Nonsengen num: 1926\n",
      "subgraph total node num: (12724,)\n",
      "After sampling, gene num:  tensor(2279)\n"
     ]
    },
    {
     "name": "stderr",
     "output_type": "stream",
     "text": [
      "# 2022-12-07 08:26:48.914 [INFO] [2833460121.py:22] epoch: 0\n"
     ]
    },
    {
     "name": "stdout",
     "output_type": "stream",
     "text": [
      "obj saved ./outputs/14001082/disease1_14001082_cell_score_dict_test\n",
      "    Sencell num: 100, Nonsencell num: 1000\n",
      "rechoice sengene num: 353 rechoice nonsengene num: 1926\n",
      "obj saved ./outputs/14001082/disease1_14001082_cell_score_dict_test\n",
      "    Sencell num: 100, Nonsencell num: 1000\n",
      "sencell cover: 0.47\n",
      "sengene cover: 0.3909348441926346\n"
     ]
    }
   ],
   "source": [
    "\n",
    "cellmodel = Sencell().to(device)\n",
    "optimizer = torch.optim.Adam(cellmodel.parameters(), lr=0.001,\n",
    "                             weight_decay=1e-3)\n",
    "\n",
    "all_marker_index = sen_gene_ls\n",
    "\n",
    "iteration_results = []\n",
    "for iteration in range(5):\n",
    "    logger.info(f\"iteration: {iteration}\")\n",
    "    sampled_graph, sencell_dict, nonsencell_dict, cell_clusters, big_graph_index_dict = sub_sampling_by_random(graph_nx,\n",
    "                                                                                                               sen_gene_ls,\n",
    "                                                                                                               nonsen_gene_ls,\n",
    "                                                                                                               GAT_model,\n",
    "                                                                                                               args,\n",
    "                                                                                                               all_marker_index,\n",
    "                                                                                                               n_gene=len(\n",
    "                                                                                                                   all_marker_index),\n",
    "                                                                                                               gene_rate=0.3, cell_rate=0.5,\n",
    "                                                                                                               debug=False)\n",
    "    old_sengene_indexs = all_marker_index\n",
    "    for epoch in range(10):\n",
    "        logger.info(f\"epoch: {epoch}\")\n",
    "        old_sencell_dict = sencell_dict\n",
    "        cellmodel, sencell_dict, nonsencell_dict = cell_optim(cellmodel, optimizer,\n",
    "                                                              sencell_dict, nonsencell_dict, args,\n",
    "                                                              train=False)\n",
    "        # sampled_graph=update_cell_embeddings(sampled_graph,sencell_dict,nonsencell_dict)\n",
    "        sencell_dict, nonsencell_dict, \\\n",
    "            sen_gene_indexs, nonsen_gene_indexs = identify_sengene_then_sencell(sampled_graph, GAT_model,\n",
    "                                                                                sencell_dict, nonsencell_dict,\n",
    "                                                                                cell_clusters,\n",
    "                                                                                big_graph_index_dict,\n",
    "                                                                                len(all_marker_index), args)\n",
    "\n",
    "        ratio_cell = utils.get_sencell_cover(old_sencell_dict, sencell_dict)\n",
    "        ratio_gene = utils.get_sengene_cover(\n",
    "            old_sengene_indexs, sen_gene_indexs)\n",
    "        old_sengene_indexs = sen_gene_indexs\n",
    "        break\n",
    "    break\n",
    "\n",
    "    iteration_results.append([sen_gene_indexs, sencell_dict])\n"
   ]
  },
  {
   "cell_type": "code",
   "execution_count": null,
   "id": "f34c8145",
   "metadata": {},
   "outputs": [],
   "source": []
  },
  {
   "cell_type": "code",
   "execution_count": null,
   "id": "193c7a3b",
   "metadata": {},
   "outputs": [],
   "source": []
  },
  {
   "cell_type": "code",
   "execution_count": null,
   "id": "34f1f140",
   "metadata": {},
   "outputs": [],
   "source": []
  },
  {
   "cell_type": "code",
   "execution_count": null,
   "id": "e058c2ee",
   "metadata": {},
   "outputs": [],
   "source": []
  }
 ],
 "metadata": {
  "kernelspec": {
   "display_name": "Python (DeepMAPS)",
   "language": "python",
   "name": "deepmaps"
  },
  "language_info": {
   "codemirror_mode": {
    "name": "ipython",
    "version": 3
   },
   "file_extension": ".py",
   "mimetype": "text/x-python",
   "name": "python",
   "nbconvert_exporter": "python",
   "pygments_lexer": "ipython3",
   "version": "3.8.5"
  }
 },
 "nbformat": 4,
 "nbformat_minor": 5
}
